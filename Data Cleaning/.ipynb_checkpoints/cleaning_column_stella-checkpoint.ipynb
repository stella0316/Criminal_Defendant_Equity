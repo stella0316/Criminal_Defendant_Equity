{
 "cells": [
  {
   "cell_type": "code",
   "execution_count": 1,
   "metadata": {
    "collapsed": true
   },
   "outputs": [],
   "source": [
    "import pandas as pd"
   ]
  },
  {
   "cell_type": "code",
   "execution_count": 31,
   "metadata": {
    "collapsed": true
   },
   "outputs": [],
   "source": [
    "df = pd.read_csv('criminal_main.csv',encoding='latin-1')"
   ]
  },
  {
   "cell_type": "code",
   "execution_count": 32,
   "metadata": {},
   "outputs": [
    {
     "data": {
      "text/html": [
       "<div>\n",
       "<table border=\"1\" class=\"dataframe\">\n",
       "  <thead>\n",
       "    <tr style=\"text-align: right;\">\n",
       "      <th></th>\n",
       "      <th>Unnamed: 0</th>\n",
       "      <th>File</th>\n",
       "      <th>CaseName</th>\n",
       "      <th>CivilKriminal</th>\n",
       "      <th>Court</th>\n",
       "      <th>County</th>\n",
       "      <th>Judge</th>\n",
       "      <th>DistrictAttorney</th>\n",
       "      <th>ADA</th>\n",
       "      <th>Keywords</th>\n",
       "      <th>...</th>\n",
       "      <th>Defense</th>\n",
       "      <th>First_Date</th>\n",
       "      <th>Appeal_Date</th>\n",
       "      <th>FirstD_dow</th>\n",
       "      <th>AppealD_dow</th>\n",
       "      <th>FirstD_weekday</th>\n",
       "      <th>AppealD_weekday</th>\n",
       "      <th>FirstD_month</th>\n",
       "      <th>AppealD_month</th>\n",
       "      <th>Y</th>\n",
       "    </tr>\n",
       "  </thead>\n",
       "  <tbody>\n",
       "    <tr>\n",
       "      <th>0</th>\n",
       "      <td>0</td>\n",
       "      <td>2009_08295.htm.txt</td>\n",
       "      <td>NaN</td>\n",
       "      <td>K</td>\n",
       "      <td>County Court</td>\n",
       "      <td>Niagara County</td>\n",
       "      <td>Peter L. Broderick, Sr., J.</td>\n",
       "      <td>Michael J. Violante</td>\n",
       "      <td>Thomas H. Brandt</td>\n",
       "      <td>affirmed</td>\n",
       "      <td>...</td>\n",
       "      <td>NaN</td>\n",
       "      <td>2007-11-09</td>\n",
       "      <td>2009-11-13</td>\n",
       "      <td>Friday</td>\n",
       "      <td>Friday</td>\n",
       "      <td>1</td>\n",
       "      <td>1</td>\n",
       "      <td>11.0</td>\n",
       "      <td>11</td>\n",
       "      <td>0</td>\n",
       "    </tr>\n",
       "    <tr>\n",
       "      <th>1</th>\n",
       "      <td>1</td>\n",
       "      <td>2009_08296.htm.txt</td>\n",
       "      <td>NaN</td>\n",
       "      <td>K</td>\n",
       "      <td>County Court</td>\n",
       "      <td>Oneida County</td>\n",
       "      <td>Michael L. Dwyer, J.</td>\n",
       "      <td>Scott D. McNamara</td>\n",
       "      <td>Steven G. Cox</td>\n",
       "      <td>affirmed;interest of justice</td>\n",
       "      <td>...</td>\n",
       "      <td>NaN</td>\n",
       "      <td>2006-11-06</td>\n",
       "      <td>2009-11-13</td>\n",
       "      <td>Monday</td>\n",
       "      <td>Friday</td>\n",
       "      <td>1</td>\n",
       "      <td>1</td>\n",
       "      <td>11.0</td>\n",
       "      <td>11</td>\n",
       "      <td>0</td>\n",
       "    </tr>\n",
       "    <tr>\n",
       "      <th>2</th>\n",
       "      <td>2</td>\n",
       "      <td>2009_08297.htm.txt</td>\n",
       "      <td>NaN</td>\n",
       "      <td>K</td>\n",
       "      <td>County Court</td>\n",
       "      <td>Onondaga County</td>\n",
       "      <td>Joseph E. Fahey, J.</td>\n",
       "      <td>William J. Fitzpatrick</td>\n",
       "      <td>Victoria M. White</td>\n",
       "      <td>affirmed;modified;interest of justice</td>\n",
       "      <td>...</td>\n",
       "      <td>Legal Aid Society</td>\n",
       "      <td>2006-10-18</td>\n",
       "      <td>2009-11-13</td>\n",
       "      <td>Wednesday</td>\n",
       "      <td>Friday</td>\n",
       "      <td>1</td>\n",
       "      <td>1</td>\n",
       "      <td>10.0</td>\n",
       "      <td>11</td>\n",
       "      <td>1</td>\n",
       "    </tr>\n",
       "    <tr>\n",
       "      <th>3</th>\n",
       "      <td>3</td>\n",
       "      <td>2009_08298.htm.txt</td>\n",
       "      <td>NaN</td>\n",
       "      <td>K</td>\n",
       "      <td>County Court</td>\n",
       "      <td>Niagara County</td>\n",
       "      <td>Angelo J. Morinello, A.J.</td>\n",
       "      <td>NaN</td>\n",
       "      <td>NaN</td>\n",
       "      <td>affirmed</td>\n",
       "      <td>...</td>\n",
       "      <td>NaN</td>\n",
       "      <td>2007-11-02</td>\n",
       "      <td>2009-11-13</td>\n",
       "      <td>Friday</td>\n",
       "      <td>Friday</td>\n",
       "      <td>1</td>\n",
       "      <td>1</td>\n",
       "      <td>11.0</td>\n",
       "      <td>11</td>\n",
       "      <td>0</td>\n",
       "    </tr>\n",
       "    <tr>\n",
       "      <th>4</th>\n",
       "      <td>4</td>\n",
       "      <td>2009_08311.htm.txt</td>\n",
       "      <td>NaN</td>\n",
       "      <td>K</td>\n",
       "      <td>County Court</td>\n",
       "      <td>Onondaga County</td>\n",
       "      <td>Joseph E. Fahey, J.</td>\n",
       "      <td>William J. Fitzpatrick</td>\n",
       "      <td>James P. Maxwell</td>\n",
       "      <td>affirmed;dismissed;interest of justice</td>\n",
       "      <td>...</td>\n",
       "      <td>Legal Aid Society</td>\n",
       "      <td>2005-04-21</td>\n",
       "      <td>2009-11-13</td>\n",
       "      <td>Thursday</td>\n",
       "      <td>Friday</td>\n",
       "      <td>1</td>\n",
       "      <td>1</td>\n",
       "      <td>4.0</td>\n",
       "      <td>11</td>\n",
       "      <td>1</td>\n",
       "    </tr>\n",
       "  </tbody>\n",
       "</table>\n",
       "<p>5 rows × 28 columns</p>\n",
       "</div>"
      ],
      "text/plain": [
       "   Unnamed: 0                File  CaseName CivilKriminal         Court  \\\n",
       "0           0  2009_08295.htm.txt       NaN             K  County Court   \n",
       "1           1  2009_08296.htm.txt       NaN             K  County Court   \n",
       "2           2  2009_08297.htm.txt       NaN             K  County Court   \n",
       "3           3  2009_08298.htm.txt       NaN             K  County Court   \n",
       "4           4  2009_08311.htm.txt       NaN             K  County Court   \n",
       "\n",
       "            County                        Judge        DistrictAttorney  \\\n",
       "0   Niagara County  Peter L. Broderick, Sr., J.     Michael J. Violante   \n",
       "1    Oneida County         Michael L. Dwyer, J.       Scott D. McNamara   \n",
       "2  Onondaga County          Joseph E. Fahey, J.  William J. Fitzpatrick   \n",
       "3   Niagara County    Angelo J. Morinello, A.J.                     NaN   \n",
       "4  Onondaga County          Joseph E. Fahey, J.  William J. Fitzpatrick   \n",
       "\n",
       "                 ADA                                Keywords ...  \\\n",
       "0   Thomas H. Brandt                                affirmed ...   \n",
       "1      Steven G. Cox            affirmed;interest of justice ...   \n",
       "2  Victoria M. White   affirmed;modified;interest of justice ...   \n",
       "3                NaN                                affirmed ...   \n",
       "4   James P. Maxwell  affirmed;dismissed;interest of justice ...   \n",
       "\n",
       "             Defense  First_Date Appeal_Date FirstD_dow  AppealD_dow  \\\n",
       "0                NaN  2007-11-09  2009-11-13     Friday       Friday   \n",
       "1                NaN  2006-11-06  2009-11-13     Monday       Friday   \n",
       "2  Legal Aid Society  2006-10-18  2009-11-13  Wednesday       Friday   \n",
       "3                NaN  2007-11-02  2009-11-13     Friday       Friday   \n",
       "4  Legal Aid Society  2005-04-21  2009-11-13   Thursday       Friday   \n",
       "\n",
       "  FirstD_weekday AppealD_weekday FirstD_month AppealD_month  Y  \n",
       "0              1               1         11.0            11  0  \n",
       "1              1               1         11.0            11  0  \n",
       "2              1               1         10.0            11  1  \n",
       "3              1               1         11.0            11  0  \n",
       "4              1               1          4.0            11  1  \n",
       "\n",
       "[5 rows x 28 columns]"
      ]
     },
     "execution_count": 32,
     "metadata": {},
     "output_type": "execute_result"
    }
   ],
   "source": [
    "df.head()"
   ]
  },
  {
   "cell_type": "markdown",
   "metadata": {},
   "source": [
    "Clean Court, County, ADA"
   ]
  },
  {
   "cell_type": "code",
   "execution_count": 4,
   "metadata": {},
   "outputs": [
    {
     "data": {
      "text/plain": [
       "array(['County Court', 'Supreme Court', nan, 'County court',\n",
       "       'SUPREME COURT', 'Family Court', 'Department of Motor Vehicles',\n",
       "       'Court of Claims'], dtype=object)"
      ]
     },
     "execution_count": 4,
     "metadata": {},
     "output_type": "execute_result"
    }
   ],
   "source": [
    "df.Court.unique()"
   ]
  },
  {
   "cell_type": "code",
   "execution_count": 40,
   "metadata": {},
   "outputs": [],
   "source": [
    "df['Court'] = df['Court'].apply(lambda x: '_'.join([i.lower().title() for i in str(x).split(' ') if x != 'nan']))"
   ]
  },
  {
   "cell_type": "code",
   "execution_count": 41,
   "metadata": {},
   "outputs": [
    {
     "data": {
      "text/plain": [
       "array(['County_Court', 'Supreme_Court', 'Nan', 'Family_Court',\n",
       "       'Department_Of_Motor_Vehicles', 'Court_Of_Claims'], dtype=object)"
      ]
     },
     "execution_count": 41,
     "metadata": {},
     "output_type": "execute_result"
    }
   ],
   "source": [
    "df['Court'].unique()"
   ]
  },
  {
   "cell_type": "code",
   "execution_count": 53,
   "metadata": {},
   "outputs": [],
   "source": [
    "County_List = list(df['County'].fillna('Unknown').unique())"
   ]
  },
  {
   "cell_type": "code",
   "execution_count": 54,
   "metadata": {},
   "outputs": [],
   "source": [
    "County_List.sort()"
   ]
  },
  {
   "cell_type": "code",
   "execution_count": 55,
   "metadata": {},
   "outputs": [
    {
     "data": {
      "text/plain": [
       "['Albany County',\n",
       " 'Allegany County',\n",
       " 'Bronx County',\n",
       " 'Broome County',\n",
       " 'Cattaraugus County',\n",
       " 'Cayuga County',\n",
       " 'Chautauqua County',\n",
       " 'Chemung County',\n",
       " 'Chenango County',\n",
       " 'Clinton County',\n",
       " 'Columbia County',\n",
       " 'Cortland County',\n",
       " 'Delaware County',\n",
       " 'Dutchess County',\n",
       " 'Erie County',\n",
       " 'Essex County',\n",
       " 'Franklin County',\n",
       " 'Fulton County',\n",
       " 'Genesee County',\n",
       " 'Greene County',\n",
       " 'Hamilton County',\n",
       " 'Herkimer County',\n",
       " 'Jefferson County',\n",
       " 'King County',\n",
       " 'Kings County',\n",
       " 'Lawrence County',\n",
       " 'Lewis County',\n",
       " 'Livingston County',\n",
       " 'Madison County',\n",
       " 'Maricopa County',\n",
       " 'Middlesex County',\n",
       " 'Monroe County',\n",
       " 'Montgomery County',\n",
       " 'NY County',\n",
       " 'Nassau County',\n",
       " 'Niagara County',\n",
       " 'Oneida County',\n",
       " 'Onondaga County',\n",
       " 'Ontario County',\n",
       " 'Orange County',\n",
       " 'Orleans County',\n",
       " 'Ostego County',\n",
       " 'Oswego County',\n",
       " 'Otsego County',\n",
       " 'Putnam County',\n",
       " 'Queens County',\n",
       " 'Rensselaer County',\n",
       " 'Richmond County',\n",
       " 'Rockland County',\n",
       " 'Sarasota County',\n",
       " 'Saratoga County',\n",
       " 'Schenectady County',\n",
       " 'Schoharie County',\n",
       " 'Schuyler County',\n",
       " 'Seneca County',\n",
       " 'Steuben County',\n",
       " 'Suffolk County',\n",
       " 'Sullivan County',\n",
       " 'Tioga County',\n",
       " 'Tompkins County',\n",
       " 'Ulster County',\n",
       " 'Unknown',\n",
       " 'Victoria County',\n",
       " 'Warren County',\n",
       " 'Washington County',\n",
       " 'Wayne County',\n",
       " 'Weschester County',\n",
       " 'Westchester County',\n",
       " 'Wyoming County',\n",
       " 'Yates County',\n",
       " 'York County',\n",
       " 'by County']"
      ]
     },
     "execution_count": 55,
     "metadata": {},
     "output_type": "execute_result"
    }
   ],
   "source": [
    " County_List"
   ]
  },
  {
   "cell_type": "code",
   "execution_count": null,
   "metadata": {},
   "outputs": [],
   "source": []
  },
  {
   "cell_type": "code",
   "execution_count": null,
   "metadata": {
    "collapsed": true
   },
   "outputs": [],
   "source": []
  }
 ],
 "metadata": {
  "kernelspec": {
   "display_name": "Python 3",
   "language": "python",
   "name": "python3"
  },
  "language_info": {
   "codemirror_mode": {
    "name": "ipython",
    "version": 3
   },
   "file_extension": ".py",
   "mimetype": "text/x-python",
   "name": "python",
   "nbconvert_exporter": "python",
   "pygments_lexer": "ipython3",
   "version": "3.6.0"
  }
 },
 "nbformat": 4,
 "nbformat_minor": 2
}
