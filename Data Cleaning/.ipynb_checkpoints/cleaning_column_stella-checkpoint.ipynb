{
 "cells": [
  {
   "cell_type": "code",
   "execution_count": 69,
   "metadata": {
    "collapsed": true
   },
   "outputs": [],
   "source": [
    "import pandas as pd"
   ]
  },
  {
   "cell_type": "code",
   "execution_count": 132,
   "metadata": {
    "collapsed": true
   },
   "outputs": [],
   "source": [
    "df = pd.read_csv('criminal_main.csv',encoding='latin-1')"
   ]
  },
  {
   "cell_type": "code",
   "execution_count": 50,
   "metadata": {},
   "outputs": [
    {
     "data": {
      "text/html": [
       "<div>\n",
       "<table border=\"1\" class=\"dataframe\">\n",
       "  <thead>\n",
       "    <tr style=\"text-align: right;\">\n",
       "      <th></th>\n",
       "      <th>Unnamed: 0</th>\n",
       "      <th>File</th>\n",
       "      <th>CaseName</th>\n",
       "      <th>CivilKriminal</th>\n",
       "      <th>Court</th>\n",
       "      <th>County</th>\n",
       "      <th>Judge</th>\n",
       "      <th>DistrictAttorney</th>\n",
       "      <th>ADA</th>\n",
       "      <th>Keywords</th>\n",
       "      <th>...</th>\n",
       "      <th>Defense</th>\n",
       "      <th>First_Date</th>\n",
       "      <th>Appeal_Date</th>\n",
       "      <th>FirstD_dow</th>\n",
       "      <th>AppealD_dow</th>\n",
       "      <th>FirstD_weekday</th>\n",
       "      <th>AppealD_weekday</th>\n",
       "      <th>FirstD_month</th>\n",
       "      <th>AppealD_month</th>\n",
       "      <th>Y</th>\n",
       "    </tr>\n",
       "  </thead>\n",
       "  <tbody>\n",
       "    <tr>\n",
       "      <th>0</th>\n",
       "      <td>0</td>\n",
       "      <td>2009_08295.htm.txt</td>\n",
       "      <td>NaN</td>\n",
       "      <td>K</td>\n",
       "      <td>County Court</td>\n",
       "      <td>Niagara County</td>\n",
       "      <td>Peter L. Broderick, Sr., J.</td>\n",
       "      <td>Michael J. Violante</td>\n",
       "      <td>Thomas H. Brandt</td>\n",
       "      <td>affirmed</td>\n",
       "      <td>...</td>\n",
       "      <td>NaN</td>\n",
       "      <td>2007-11-09</td>\n",
       "      <td>2009-11-13</td>\n",
       "      <td>Friday</td>\n",
       "      <td>Friday</td>\n",
       "      <td>1</td>\n",
       "      <td>1</td>\n",
       "      <td>11.0</td>\n",
       "      <td>11</td>\n",
       "      <td>0</td>\n",
       "    </tr>\n",
       "    <tr>\n",
       "      <th>1</th>\n",
       "      <td>1</td>\n",
       "      <td>2009_08296.htm.txt</td>\n",
       "      <td>NaN</td>\n",
       "      <td>K</td>\n",
       "      <td>County Court</td>\n",
       "      <td>Oneida County</td>\n",
       "      <td>Michael L. Dwyer, J.</td>\n",
       "      <td>Scott D. McNamara</td>\n",
       "      <td>Steven G. Cox</td>\n",
       "      <td>affirmed;interest of justice</td>\n",
       "      <td>...</td>\n",
       "      <td>NaN</td>\n",
       "      <td>2006-11-06</td>\n",
       "      <td>2009-11-13</td>\n",
       "      <td>Monday</td>\n",
       "      <td>Friday</td>\n",
       "      <td>1</td>\n",
       "      <td>1</td>\n",
       "      <td>11.0</td>\n",
       "      <td>11</td>\n",
       "      <td>0</td>\n",
       "    </tr>\n",
       "    <tr>\n",
       "      <th>2</th>\n",
       "      <td>2</td>\n",
       "      <td>2009_08297.htm.txt</td>\n",
       "      <td>NaN</td>\n",
       "      <td>K</td>\n",
       "      <td>County Court</td>\n",
       "      <td>Onondaga County</td>\n",
       "      <td>Joseph E. Fahey, J.</td>\n",
       "      <td>William J. Fitzpatrick</td>\n",
       "      <td>Victoria M. White</td>\n",
       "      <td>affirmed;modified;interest of justice</td>\n",
       "      <td>...</td>\n",
       "      <td>Legal Aid Society</td>\n",
       "      <td>2006-10-18</td>\n",
       "      <td>2009-11-13</td>\n",
       "      <td>Wednesday</td>\n",
       "      <td>Friday</td>\n",
       "      <td>1</td>\n",
       "      <td>1</td>\n",
       "      <td>10.0</td>\n",
       "      <td>11</td>\n",
       "      <td>1</td>\n",
       "    </tr>\n",
       "    <tr>\n",
       "      <th>3</th>\n",
       "      <td>3</td>\n",
       "      <td>2009_08298.htm.txt</td>\n",
       "      <td>NaN</td>\n",
       "      <td>K</td>\n",
       "      <td>County Court</td>\n",
       "      <td>Niagara County</td>\n",
       "      <td>Angelo J. Morinello, A.J.</td>\n",
       "      <td>NaN</td>\n",
       "      <td>NaN</td>\n",
       "      <td>affirmed</td>\n",
       "      <td>...</td>\n",
       "      <td>NaN</td>\n",
       "      <td>2007-11-02</td>\n",
       "      <td>2009-11-13</td>\n",
       "      <td>Friday</td>\n",
       "      <td>Friday</td>\n",
       "      <td>1</td>\n",
       "      <td>1</td>\n",
       "      <td>11.0</td>\n",
       "      <td>11</td>\n",
       "      <td>0</td>\n",
       "    </tr>\n",
       "    <tr>\n",
       "      <th>4</th>\n",
       "      <td>4</td>\n",
       "      <td>2009_08311.htm.txt</td>\n",
       "      <td>NaN</td>\n",
       "      <td>K</td>\n",
       "      <td>County Court</td>\n",
       "      <td>Onondaga County</td>\n",
       "      <td>Joseph E. Fahey, J.</td>\n",
       "      <td>William J. Fitzpatrick</td>\n",
       "      <td>James P. Maxwell</td>\n",
       "      <td>affirmed;dismissed;interest of justice</td>\n",
       "      <td>...</td>\n",
       "      <td>Legal Aid Society</td>\n",
       "      <td>2005-04-21</td>\n",
       "      <td>2009-11-13</td>\n",
       "      <td>Thursday</td>\n",
       "      <td>Friday</td>\n",
       "      <td>1</td>\n",
       "      <td>1</td>\n",
       "      <td>4.0</td>\n",
       "      <td>11</td>\n",
       "      <td>1</td>\n",
       "    </tr>\n",
       "  </tbody>\n",
       "</table>\n",
       "<p>5 rows × 28 columns</p>\n",
       "</div>"
      ],
      "text/plain": [
       "   Unnamed: 0                File  CaseName CivilKriminal         Court  \\\n",
       "0           0  2009_08295.htm.txt       NaN             K  County Court   \n",
       "1           1  2009_08296.htm.txt       NaN             K  County Court   \n",
       "2           2  2009_08297.htm.txt       NaN             K  County Court   \n",
       "3           3  2009_08298.htm.txt       NaN             K  County Court   \n",
       "4           4  2009_08311.htm.txt       NaN             K  County Court   \n",
       "\n",
       "            County                        Judge        DistrictAttorney  \\\n",
       "0   Niagara County  Peter L. Broderick, Sr., J.     Michael J. Violante   \n",
       "1    Oneida County         Michael L. Dwyer, J.       Scott D. McNamara   \n",
       "2  Onondaga County          Joseph E. Fahey, J.  William J. Fitzpatrick   \n",
       "3   Niagara County    Angelo J. Morinello, A.J.                     NaN   \n",
       "4  Onondaga County          Joseph E. Fahey, J.  William J. Fitzpatrick   \n",
       "\n",
       "                 ADA                                Keywords ...  \\\n",
       "0   Thomas H. Brandt                                affirmed ...   \n",
       "1      Steven G. Cox            affirmed;interest of justice ...   \n",
       "2  Victoria M. White   affirmed;modified;interest of justice ...   \n",
       "3                NaN                                affirmed ...   \n",
       "4   James P. Maxwell  affirmed;dismissed;interest of justice ...   \n",
       "\n",
       "             Defense  First_Date Appeal_Date FirstD_dow  AppealD_dow  \\\n",
       "0                NaN  2007-11-09  2009-11-13     Friday       Friday   \n",
       "1                NaN  2006-11-06  2009-11-13     Monday       Friday   \n",
       "2  Legal Aid Society  2006-10-18  2009-11-13  Wednesday       Friday   \n",
       "3                NaN  2007-11-02  2009-11-13     Friday       Friday   \n",
       "4  Legal Aid Society  2005-04-21  2009-11-13   Thursday       Friday   \n",
       "\n",
       "  FirstD_weekday AppealD_weekday FirstD_month AppealD_month  Y  \n",
       "0              1               1         11.0            11  0  \n",
       "1              1               1         11.0            11  0  \n",
       "2              1               1         10.0            11  1  \n",
       "3              1               1         11.0            11  0  \n",
       "4              1               1          4.0            11  1  \n",
       "\n",
       "[5 rows x 28 columns]"
      ]
     },
     "execution_count": 50,
     "metadata": {},
     "output_type": "execute_result"
    }
   ],
   "source": [
    "df.head()"
   ]
  },
  {
   "cell_type": "markdown",
   "metadata": {},
   "source": [
    "Clean Court, County, ADA"
   ]
  },
  {
   "cell_type": "code",
   "execution_count": 51,
   "metadata": {},
   "outputs": [
    {
     "data": {
      "text/plain": [
       "array(['County Court', 'Supreme Court', nan, 'County court',\n",
       "       'SUPREME COURT', 'Family Court', 'Department of Motor Vehicles',\n",
       "       'Court of Claims'], dtype=object)"
      ]
     },
     "execution_count": 51,
     "metadata": {},
     "output_type": "execute_result"
    }
   ],
   "source": [
    "df.Court.unique()"
   ]
  },
  {
   "cell_type": "code",
   "execution_count": 52,
   "metadata": {
    "collapsed": true
   },
   "outputs": [],
   "source": [
    "df['Court'] = df['Court'].apply(lambda x: '_'.join([i.lower().title() for i in str(x).split(' ') if x != 'nan']))"
   ]
  },
  {
   "cell_type": "code",
   "execution_count": 53,
   "metadata": {
    "collapsed": true
   },
   "outputs": [],
   "source": [
    "df['Court'] = df['Court'].apply(lambda x:'Missing' if x == 'Nan' else x)"
   ]
  },
  {
   "cell_type": "code",
   "execution_count": 54,
   "metadata": {
    "collapsed": true
   },
   "outputs": [],
   "source": [
    "df['County'] = df['County'].apply(lambda x: 'Missing' if x == 'by County' else x)\n",
    "df['County'] = df['County'].apply(lambda x: 'Missing' if x == 'Unknown' else x)\n",
    "df['County'] = df['County'].apply(lambda x: 'Westchester County' if x == 'Weschester County' else x)\n",
    "df['County'] = df['County'].fillna('Missing')"
   ]
  },
  {
   "cell_type": "code",
   "execution_count": 55,
   "metadata": {},
   "outputs": [
    {
     "data": {
      "text/plain": [
       "array(['Niagara County', 'Oneida County', 'Onondaga County',\n",
       "       'Ontario County', 'Cattaraugus County', 'Oswego County',\n",
       "       'Monroe County', 'Wayne County', 'Genesee County', 'Erie County',\n",
       "       'Herkimer County', 'Steuben County', 'Yates County',\n",
       "       'Chautauqua County', 'Livingston County', 'Cayuga County',\n",
       "       'Wyoming County', 'Missing', 'York County', 'Bronx County',\n",
       "       'Saratoga County', 'Lawrence County', 'Albany County',\n",
       "       'Washington County', 'Columbia County', 'Broome County',\n",
       "       'Delaware County', 'Schenectady County', 'Sullivan County',\n",
       "       'Suffolk County', 'Orange County', 'Rockland County',\n",
       "       'Nassau County', 'Putnam County', 'Kings County', 'Queens County',\n",
       "       'Westchester County', 'Jefferson County', 'Warren County',\n",
       "       'Chemung County', 'Franklin County', 'Rensselaer County',\n",
       "       'Richmond County', 'Clinton County', 'Ulster County',\n",
       "       'Cortland County', 'Dutchess County', 'Chenango County',\n",
       "       'Greene County', 'Orleans County', 'Montgomery County',\n",
       "       'Tompkins County', 'Tioga County', 'Schoharie County',\n",
       "       'Madison County', 'Essex County', 'Otsego County', 'Lewis County',\n",
       "       'Allegany County', 'Seneca County', 'Fulton County',\n",
       "       'Victoria County', 'Schuyler County', 'NY County',\n",
       "       'Hamilton County', 'Middlesex County', 'King County',\n",
       "       'Sarasota County', 'Ostego County', 'Maricopa County'], dtype=object)"
      ]
     },
     "execution_count": 55,
     "metadata": {},
     "output_type": "execute_result"
    }
   ],
   "source": [
    "df['County'].unique()"
   ]
  },
  {
   "cell_type": "code",
   "execution_count": 56,
   "metadata": {
    "collapsed": true
   },
   "outputs": [],
   "source": [
    "df_new = df[['File','Court','County']]"
   ]
  },
  {
   "cell_type": "code",
   "execution_count": 57,
   "metadata": {
    "collapsed": true
   },
   "outputs": [],
   "source": [
    "dummies = pd.get_dummies(df_new[['Court','County']])"
   ]
  },
  {
   "cell_type": "code",
   "execution_count": 58,
   "metadata": {
    "collapsed": true
   },
   "outputs": [],
   "source": [
    "df_final = pd.concat([df['File'], dummies], axis=1)"
   ]
  },
  {
   "cell_type": "code",
   "execution_count": 60,
   "metadata": {},
   "outputs": [
    {
     "data": {
      "text/plain": [
       "Index(['File', 'Court_County_Court', 'Court_Court_Of_Claims',\n",
       "       'Court_Department_Of_Motor_Vehicles', 'Court_Family_Court',\n",
       "       'Court_Missing', 'Court_Supreme_Court', 'County_Albany County',\n",
       "       'County_Allegany County', 'County_Bronx County', 'County_Broome County',\n",
       "       'County_Cattaraugus County', 'County_Cayuga County',\n",
       "       'County_Chautauqua County', 'County_Chemung County',\n",
       "       'County_Chenango County', 'County_Clinton County',\n",
       "       'County_Columbia County', 'County_Cortland County',\n",
       "       'County_Delaware County', 'County_Dutchess County',\n",
       "       'County_Erie County', 'County_Essex County', 'County_Franklin County',\n",
       "       'County_Fulton County', 'County_Genesee County', 'County_Greene County',\n",
       "       'County_Hamilton County', 'County_Herkimer County',\n",
       "       'County_Jefferson County', 'County_King County', 'County_Kings County',\n",
       "       'County_Lawrence County', 'County_Lewis County',\n",
       "       'County_Livingston County', 'County_Madison County',\n",
       "       'County_Maricopa County', 'County_Middlesex County', 'County_Missing',\n",
       "       'County_Monroe County', 'County_Montgomery County', 'County_NY County',\n",
       "       'County_Nassau County', 'County_Niagara County', 'County_Oneida County',\n",
       "       'County_Onondaga County', 'County_Ontario County',\n",
       "       'County_Orange County', 'County_Orleans County', 'County_Ostego County',\n",
       "       'County_Oswego County', 'County_Otsego County', 'County_Putnam County',\n",
       "       'County_Queens County', 'County_Rensselaer County',\n",
       "       'County_Richmond County', 'County_Rockland County',\n",
       "       'County_Sarasota County', 'County_Saratoga County',\n",
       "       'County_Schenectady County', 'County_Schoharie County',\n",
       "       'County_Schuyler County', 'County_Seneca County',\n",
       "       'County_Steuben County', 'County_Suffolk County',\n",
       "       'County_Sullivan County', 'County_Tioga County',\n",
       "       'County_Tompkins County', 'County_Ulster County',\n",
       "       'County_Victoria County', 'County_Warren County',\n",
       "       'County_Washington County', 'County_Wayne County',\n",
       "       'County_Westchester County', 'County_Wyoming County',\n",
       "       'County_Yates County', 'County_York County'],\n",
       "      dtype='object')"
      ]
     },
     "execution_count": 60,
     "metadata": {},
     "output_type": "execute_result"
    }
   ],
   "source": [
    "df_final.columns"
   ]
  },
  {
   "cell_type": "code",
   "execution_count": 61,
   "metadata": {
    "collapsed": true
   },
   "outputs": [],
   "source": [
    "df_final.to_csv(r'Cleaned_Court_County.csv')"
   ]
  },
  {
   "cell_type": "markdown",
   "metadata": {
    "collapsed": true
   },
   "source": [
    "    check judges and appellate judges"
   ]
  },
  {
   "cell_type": "code",
   "execution_count": 133,
   "metadata": {},
   "outputs": [],
   "source": [
    "df_judge = df[['File','Judge']]"
   ]
  },
  {
   "cell_type": "code",
   "execution_count": 77,
   "metadata": {
    "collapsed": true
   },
   "outputs": [],
   "source": [
    "judge_info = pd.read_csv(r'judges_final.csv')"
   ]
  },
  {
   "cell_type": "code",
   "execution_count": 134,
   "metadata": {},
   "outputs": [
    {
     "name": "stderr",
     "output_type": "stream",
     "text": [
      "/Users/Stella/miniconda3/lib/python3.6/site-packages/ipykernel_launcher.py:1: SettingWithCopyWarning: \n",
      "A value is trying to be set on a copy of a slice from a DataFrame.\n",
      "Try using .loc[row_indexer,col_indexer] = value instead\n",
      "\n",
      "See the caveats in the documentation: http://pandas.pydata.org/pandas-docs/stable/indexing.html#indexing-view-versus-copy\n",
      "  \"\"\"Entry point for launching an IPython kernel.\n"
     ]
    }
   ],
   "source": [
    "df_judge['Judge_New'] = df_judge['Judge'].fillna('Missing')"
   ]
  },
  {
   "cell_type": "code",
   "execution_count": 135,
   "metadata": {},
   "outputs": [
    {
     "name": "stderr",
     "output_type": "stream",
     "text": [
      "/Users/Stella/miniconda3/lib/python3.6/site-packages/ipykernel_launcher.py:1: SettingWithCopyWarning: \n",
      "A value is trying to be set on a copy of a slice from a DataFrame.\n",
      "Try using .loc[row_indexer,col_indexer] = value instead\n",
      "\n",
      "See the caveats in the documentation: http://pandas.pydata.org/pandas-docs/stable/indexing.html#indexing-view-versus-copy\n",
      "  \"\"\"Entry point for launching an IPython kernel.\n"
     ]
    }
   ],
   "source": [
    "df_judge['Judge_New'] = df_judge['Judge_New'].apply(lambda x: x.split(',')[0] if ',' in x else x)"
   ]
  },
  {
   "cell_type": "code",
   "execution_count": 136,
   "metadata": {
    "collapsed": true
   },
   "outputs": [],
   "source": [
    "def Clean_Last_Name(data):\n",
    "    if '.' in data:\n",
    "        if data.count('.') == 1:\n",
    "            result = data.split('.')[1]\n",
    "        elif data.count('.') == 2:\n",
    "    elif ' ' in data:\n",
    "        result = data.split(' ')[1]\n",
    "    else:\n",
    "        result = data\n",
    "    return result"
   ]
  },
  {
   "cell_type": "code",
   "execution_count": 137,
   "metadata": {},
   "outputs": [
    {
     "name": "stderr",
     "output_type": "stream",
     "text": [
      "/Users/Stella/miniconda3/lib/python3.6/site-packages/ipykernel_launcher.py:1: SettingWithCopyWarning: \n",
      "A value is trying to be set on a copy of a slice from a DataFrame.\n",
      "Try using .loc[row_indexer,col_indexer] = value instead\n",
      "\n",
      "See the caveats in the documentation: http://pandas.pydata.org/pandas-docs/stable/indexing.html#indexing-view-versus-copy\n",
      "  \"\"\"Entry point for launching an IPython kernel.\n"
     ]
    }
   ],
   "source": [
    "df_judge['Last_Name'] = df_judge['Judge_New'].apply(lambda x:Clean_Last_Name(x))"
   ]
  },
  {
   "cell_type": "code",
   "execution_count": 139,
   "metadata": {},
   "outputs": [
    {
     "name": "stderr",
     "output_type": "stream",
     "text": [
      "/Users/Stella/miniconda3/lib/python3.6/site-packages/ipykernel_launcher.py:1: SettingWithCopyWarning: \n",
      "A value is trying to be set on a copy of a slice from a DataFrame.\n",
      "Try using .loc[row_indexer,col_indexer] = value instead\n",
      "\n",
      "See the caveats in the documentation: http://pandas.pydata.org/pandas-docs/stable/indexing.html#indexing-view-versus-copy\n",
      "  \"\"\"Entry point for launching an IPython kernel.\n"
     ]
    }
   ],
   "source": [
    "df_judge['First_Name'] = df_judge['Judge_New'].apply(lambda x:x.split(' ')[0] if (' ' in x and len(x.split(' ')) != 1) else 'Missing')"
   ]
  },
  {
   "cell_type": "code",
   "execution_count": 140,
   "metadata": {},
   "outputs": [
    {
     "name": "stderr",
     "output_type": "stream",
     "text": [
      "/Users/Stella/miniconda3/lib/python3.6/site-packages/ipykernel_launcher.py:1: SettingWithCopyWarning: \n",
      "A value is trying to be set on a copy of a slice from a DataFrame.\n",
      "Try using .loc[row_indexer,col_indexer] = value instead\n",
      "\n",
      "See the caveats in the documentation: http://pandas.pydata.org/pandas-docs/stable/indexing.html#indexing-view-versus-copy\n",
      "  \"\"\"Entry point for launching an IPython kernel.\n",
      "/Users/Stella/miniconda3/lib/python3.6/site-packages/ipykernel_launcher.py:2: SettingWithCopyWarning: \n",
      "A value is trying to be set on a copy of a slice from a DataFrame.\n",
      "Try using .loc[row_indexer,col_indexer] = value instead\n",
      "\n",
      "See the caveats in the documentation: http://pandas.pydata.org/pandas-docs/stable/indexing.html#indexing-view-versus-copy\n",
      "  \n"
     ]
    }
   ],
   "source": [
    "df_judge['Last_Name'] = df_judge['Last_Name'].apply(lambda x:x.lower())\n",
    "df_judge['First_Name'] = df_judge['First_Name'].apply(lambda x:x.lower())"
   ]
  },
  {
   "cell_type": "code",
   "execution_count": null,
   "metadata": {},
   "outputs": [],
   "source": [
    "df_judge['Judge_New'].apply(lambda x:str(x).count('.'))"
   ]
  },
  {
   "cell_type": "code",
   "execution_count": null,
   "metadata": {},
   "outputs": [],
   "source": []
  },
  {
   "cell_type": "code",
   "execution_count": null,
   "metadata": {
    "collapsed": true
   },
   "outputs": [],
   "source": []
  }
 ],
 "metadata": {
  "kernelspec": {
   "display_name": "Python 3",
   "language": "python",
   "name": "python3"
  },
  "language_info": {
   "codemirror_mode": {
    "name": "ipython",
    "version": 3
   },
   "file_extension": ".py",
   "mimetype": "text/x-python",
   "name": "python",
   "nbconvert_exporter": "python",
   "pygments_lexer": "ipython3",
   "version": "3.6.0"
  }
 },
 "nbformat": 4,
 "nbformat_minor": 2
}
