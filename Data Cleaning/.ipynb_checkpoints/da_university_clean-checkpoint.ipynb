{
 "cells": [
  {
   "cell_type": "markdown",
   "metadata": {},
   "source": [
    "The goal is to ensure university names are the same as in the judges file, so we can later use university as a common feature."
   ]
  },
  {
   "cell_type": "code",
   "execution_count": 2,
   "metadata": {},
   "outputs": [],
   "source": [
    "import pandas as pd"
   ]
  },
  {
   "cell_type": "code",
   "execution_count": 3,
   "metadata": {
    "collapsed": true
   },
   "outputs": [],
   "source": [
    "judge_universities = ['cuny', 'columbia', 'tulsa', 'syracuse', \n",
    "                      'brooklyn', 'sanfrancisco','unknown', 'pace', \n",
    "                      'cornell', 'akron', 'st.johns', 'nyu', 'fordham',\n",
    "                      'widener', 'albany', 'gonzaga', 'touro', \n",
    "                      'buffalo', 'casewestern','suffolk', 'hofstra',\n",
    "                      'harvard', 'westernnewengland', 'georgetown',\n",
    "                      'cardoza', 'yale', 'georgewashington', \n",
    "                      'baltimore', 'colorado','delaware', 'toledo', \n",
    "                      'temple', 'villanova', 'rutgers',\n",
    "                      'californiawestern', 'bostonu', 'michigan', \n",
    "                      'franklinpierce','newengland', 'stjohns', \n",
    "                      'capital', 'pugetsound', 'ohiostate',\n",
    "                      'pittsburgh', 'william&mary', 'dayton', \n",
    "                      'johnmarshall', 'duke','vermont', 'penn', \n",
    "                      'kent', 'loyola', 'novase', 'bostonc', \n",
    "                      'boalt','catholic', 'valparaiso', 'seattle', \n",
    "                      'washington', 'st.thomas','maryland', \n",
    "                      'duquesne', 'memphis', 'clevelandst.', \n",
    "                      'howard','michiganst.', 'ohionorthern', \n",
    "                      'kentst.', 'washburn','thomascooley', 'emory', \n",
    "                      'virginia', 'clevelandmarshall','puertorico', \n",
    "                      'cal-hastings', 'antioch', 'dickenson', \n",
    "                      'georgia','hamline', 'johnjay', 'southtexas', \n",
    "                      'bostoncollege', 'wisconsin']"
   ]
  },
  {
   "cell_type": "code",
   "execution_count": 76,
   "metadata": {},
   "outputs": [],
   "source": [
    "da_data = pd.read_csv('clean_DA.csv')"
   ]
  },
  {
   "cell_type": "code",
   "execution_count": 8,
   "metadata": {},
   "outputs": [
    {
     "data": {
      "text/plain": [
       "Index(['Unnamed: 0', 'da_last_name', 'start year', 'left office', 'female',\n",
       "       'black', 'county', '1976', '1977', '1978', '1980', '1981', '1982',\n",
       "       '1983', '1985', '1986', '1987', '1988', '1989', '1990', '1991', '1992',\n",
       "       '1993', '1994', '1995', '1996', '1997', '1998', '1999', '2000', '2001',\n",
       "       '2002', '2003', '2004', '2005', '2006', '2007', '2008', '2009', '2010',\n",
       "       '2011', '2012', '2013', '2014', '2015', '2016', 'university',\n",
       "       'graduation', '1997-contested', '1999-contested', '2000-contested',\n",
       "       '2001-contested', '2003-contested', '2004-contested', '2005-contested',\n",
       "       '2007-contested', '2008-contested', '2009-contested', '2010-contested',\n",
       "       '2011-contested', '2012-contested', '2013-contested', '2014-contested',\n",
       "       '2015-contested'],\n",
       "      dtype='object')"
      ]
     },
     "execution_count": 8,
     "metadata": {},
     "output_type": "execute_result"
    }
   ],
   "source": [
    "da_data.columns"
   ]
  },
  {
   "cell_type": "code",
   "execution_count": 9,
   "metadata": {
    "collapsed": true
   },
   "outputs": [],
   "source": [
    "da_universities = da_data['university']"
   ]
  },
  {
   "cell_type": "code",
   "execution_count": 19,
   "metadata": {},
   "outputs": [],
   "source": [
    "#Skip empty rows - missing university names\n",
    "da_universities.dropna(inplace=True)\n",
    "\n",
    "da_universities = da_universities.unique()"
   ]
  },
  {
   "cell_type": "code",
   "execution_count": 22,
   "metadata": {},
   "outputs": [],
   "source": [
    "da_uni = list(entry.lower() for entry in da_universities)"
   ]
  },
  {
   "cell_type": "code",
   "execution_count": 23,
   "metadata": {},
   "outputs": [
    {
     "data": {
      "text/plain": [
       "['albany',\n",
       " 'syracuse',\n",
       " 'pace',\n",
       " 'howard',\n",
       " 'nyu',\n",
       " 'george washington',\n",
       " 'tennessee',\n",
       " 'buffalo',\n",
       " 'vermont',\n",
       " 'illinois',\n",
       " 'creighton',\n",
       " 'western new england',\n",
       " 'fordham',\n",
       " 'new england',\n",
       " 'tulane',\n",
       " 'washburn',\n",
       " 'new hampshire',\n",
       " 'rutgers',\n",
       " 'pepperdine',\n",
       " 'st. johns',\n",
       " 'touro',\n",
       " 'georgetown',\n",
       " 'yale',\n",
       " 'suffolk',\n",
       " 'detroit',\n",
       " 'boston college',\n",
       " 'hofstra',\n",
       " 'brooklyn',\n",
       " 'harvard',\n",
       " 'washington and lee',\n",
       " 'penn state',\n",
       " 'baltimore',\n",
       " 'cornell',\n",
       " 'university of pennsylvania']"
      ]
     },
     "execution_count": 23,
     "metadata": {},
     "output_type": "execute_result"
    }
   ],
   "source": [
    "da_uni"
   ]
  },
  {
   "cell_type": "code",
   "execution_count": 34,
   "metadata": {
    "collapsed": true
   },
   "outputs": [],
   "source": [
    "#Remove spaces\n",
    "univ = []\n",
    "\n",
    "for uni in da_uni:\n",
    "    ex_empty = \"\".join(uni.split())\n",
    "    univ.append(ex_empty)"
   ]
  },
  {
   "cell_type": "code",
   "execution_count": 36,
   "metadata": {
    "collapsed": true
   },
   "outputs": [],
   "source": [
    "university_dict = {}\n",
    "missing = []\n",
    "\n",
    "for school in univ:\n",
    "    if school in judge_universities:\n",
    "        university_dict[school] = school\n",
    "    else:\n",
    "        missing.append(school)"
   ]
  },
  {
   "cell_type": "code",
   "execution_count": 37,
   "metadata": {},
   "outputs": [
    {
     "data": {
      "text/plain": [
       "['tennessee',\n",
       " 'illinois',\n",
       " 'creighton',\n",
       " 'tulane',\n",
       " 'newhampshire',\n",
       " 'pepperdine',\n",
       " 'detroit',\n",
       " 'washingtonandlee',\n",
       " 'pennstate',\n",
       " 'universityofpennsylvania']"
      ]
     },
     "execution_count": 37,
     "metadata": {},
     "output_type": "execute_result"
    }
   ],
   "source": [
    "missing"
   ]
  },
  {
   "cell_type": "code",
   "execution_count": 38,
   "metadata": {},
   "outputs": [
    {
     "name": "stdout",
     "output_type": "stream",
     "text": [
      "tennessee []\n",
      "illinois []\n",
      "creighton []\n",
      "tulane ['tulsa']\n",
      "newhampshire []\n",
      "pepperdine []\n",
      "detroit []\n",
      "washingtonandlee ['washington', 'georgewashington']\n",
      "pennstate ['penn']\n",
      "universityofpennsylvania []\n"
     ]
    }
   ],
   "source": [
    "#Find similar names from judges file\n",
    "from difflib import get_close_matches\n",
    "\n",
    "for school in missing:\n",
    "    possibilities = get_close_matches(school, judge_universities)\n",
    "    print(school, possibilities)"
   ]
  },
  {
   "cell_type": "code",
   "execution_count": 40,
   "metadata": {
    "collapsed": true
   },
   "outputs": [],
   "source": [
    "#I checked that Penn refers to University of Pennsylvania here\n",
    "university_dict['universityofpennsylvania'] = 'penn'"
   ]
  },
  {
   "cell_type": "code",
   "execution_count": 41,
   "metadata": {
    "collapsed": true
   },
   "outputs": [],
   "source": [
    "missing.remove('universityofpennsylvania')"
   ]
  },
  {
   "cell_type": "code",
   "execution_count": 43,
   "metadata": {},
   "outputs": [],
   "source": [
    "#update dictionary with missing calues\n",
    "for value in missing:\n",
    "    university_dict[value] = value "
   ]
  },
  {
   "cell_type": "code",
   "execution_count": 79,
   "metadata": {},
   "outputs": [],
   "source": [
    "#Update da_universities list\n",
    "universities = []\n",
    "da_uni=da_data['university']\n",
    "\n",
    "for college in da_uni:\n",
    "    try: #if not empty\n",
    "        \n",
    "        college = college.lower()\n",
    "        college = \"\".join(college.split())\n",
    "    except AttributeError:\n",
    "        college = 'unknown'\n",
    "    universities.append(college)"
   ]
  },
  {
   "cell_type": "code",
   "execution_count": 81,
   "metadata": {},
   "outputs": [],
   "source": [
    "#Create a list to match DA universities\n",
    "final_list = []\n",
    "\n",
    "for college in universities:\n",
    "    try:\n",
    "        name = university_dict[college]\n",
    "    except KeyError:\n",
    "        name = 'unknown'\n",
    "    final_list.append(name)"
   ]
  },
  {
   "cell_type": "code",
   "execution_count": 83,
   "metadata": {
    "collapsed": true
   },
   "outputs": [],
   "source": [
    "#Add updated university names to dataframe\n",
    "da_data.drop('university',axis=1, inplace=True)"
   ]
  },
  {
   "cell_type": "code",
   "execution_count": 84,
   "metadata": {},
   "outputs": [],
   "source": [
    "da_data['university'] = final_list"
   ]
  },
  {
   "cell_type": "code",
   "execution_count": 85,
   "metadata": {},
   "outputs": [
    {
     "data": {
      "text/html": [
       "<div>\n",
       "<style>\n",
       "    .dataframe thead tr:only-child th {\n",
       "        text-align: right;\n",
       "    }\n",
       "\n",
       "    .dataframe thead th {\n",
       "        text-align: left;\n",
       "    }\n",
       "\n",
       "    .dataframe tbody tr th {\n",
       "        vertical-align: top;\n",
       "    }\n",
       "</style>\n",
       "<table border=\"1\" class=\"dataframe\">\n",
       "  <thead>\n",
       "    <tr style=\"text-align: right;\">\n",
       "      <th></th>\n",
       "      <th>Unnamed: 0</th>\n",
       "      <th>da_last_name</th>\n",
       "      <th>start year</th>\n",
       "      <th>left office</th>\n",
       "      <th>female</th>\n",
       "      <th>black</th>\n",
       "      <th>county</th>\n",
       "      <th>1976</th>\n",
       "      <th>1977</th>\n",
       "      <th>1978</th>\n",
       "      <th>...</th>\n",
       "      <th>2007-contested</th>\n",
       "      <th>2008-contested</th>\n",
       "      <th>2009-contested</th>\n",
       "      <th>2010-contested</th>\n",
       "      <th>2011-contested</th>\n",
       "      <th>2012-contested</th>\n",
       "      <th>2013-contested</th>\n",
       "      <th>2014-contested</th>\n",
       "      <th>2015-contested</th>\n",
       "      <th>university</th>\n",
       "    </tr>\n",
       "  </thead>\n",
       "  <tbody>\n",
       "    <tr>\n",
       "      <th>0</th>\n",
       "      <td>0</td>\n",
       "      <td>Soares</td>\n",
       "      <td>2004.0</td>\n",
       "      <td>NaN</td>\n",
       "      <td>0</td>\n",
       "      <td>1</td>\n",
       "      <td>Albany</td>\n",
       "      <td>0</td>\n",
       "      <td>0</td>\n",
       "      <td>0</td>\n",
       "      <td>...</td>\n",
       "      <td>0</td>\n",
       "      <td>0</td>\n",
       "      <td>0</td>\n",
       "      <td>0</td>\n",
       "      <td>0</td>\n",
       "      <td>0</td>\n",
       "      <td>0</td>\n",
       "      <td>0</td>\n",
       "      <td>0</td>\n",
       "      <td>albany</td>\n",
       "    </tr>\n",
       "    <tr>\n",
       "      <th>1</th>\n",
       "      <td>1</td>\n",
       "      <td>Clyne</td>\n",
       "      <td>2000.0</td>\n",
       "      <td>2004.0</td>\n",
       "      <td>0</td>\n",
       "      <td>0</td>\n",
       "      <td>Albany</td>\n",
       "      <td>0</td>\n",
       "      <td>0</td>\n",
       "      <td>0</td>\n",
       "      <td>...</td>\n",
       "      <td>0</td>\n",
       "      <td>0</td>\n",
       "      <td>0</td>\n",
       "      <td>0</td>\n",
       "      <td>0</td>\n",
       "      <td>0</td>\n",
       "      <td>0</td>\n",
       "      <td>0</td>\n",
       "      <td>0</td>\n",
       "      <td>albany</td>\n",
       "    </tr>\n",
       "    <tr>\n",
       "      <th>2</th>\n",
       "      <td>2</td>\n",
       "      <td>Greenberg</td>\n",
       "      <td>1974.0</td>\n",
       "      <td>2000.0</td>\n",
       "      <td>0</td>\n",
       "      <td>0</td>\n",
       "      <td>Albany</td>\n",
       "      <td>0</td>\n",
       "      <td>0</td>\n",
       "      <td>1</td>\n",
       "      <td>...</td>\n",
       "      <td>0</td>\n",
       "      <td>0</td>\n",
       "      <td>0</td>\n",
       "      <td>0</td>\n",
       "      <td>0</td>\n",
       "      <td>0</td>\n",
       "      <td>0</td>\n",
       "      <td>0</td>\n",
       "      <td>0</td>\n",
       "      <td>albany</td>\n",
       "    </tr>\n",
       "    <tr>\n",
       "      <th>3</th>\n",
       "      <td>3</td>\n",
       "      <td>Slep</td>\n",
       "      <td>2011.0</td>\n",
       "      <td>NaN</td>\n",
       "      <td>0</td>\n",
       "      <td>0</td>\n",
       "      <td>Allegany</td>\n",
       "      <td>0</td>\n",
       "      <td>0</td>\n",
       "      <td>0</td>\n",
       "      <td>...</td>\n",
       "      <td>0</td>\n",
       "      <td>0</td>\n",
       "      <td>0</td>\n",
       "      <td>0</td>\n",
       "      <td>0</td>\n",
       "      <td>0</td>\n",
       "      <td>0</td>\n",
       "      <td>0</td>\n",
       "      <td>0</td>\n",
       "      <td>syracuse</td>\n",
       "    </tr>\n",
       "    <tr>\n",
       "      <th>4</th>\n",
       "      <td>4</td>\n",
       "      <td>Parker</td>\n",
       "      <td>1997.0</td>\n",
       "      <td>2010.0</td>\n",
       "      <td>0</td>\n",
       "      <td>0</td>\n",
       "      <td>Allegany</td>\n",
       "      <td>0</td>\n",
       "      <td>0</td>\n",
       "      <td>0</td>\n",
       "      <td>...</td>\n",
       "      <td>0</td>\n",
       "      <td>0</td>\n",
       "      <td>1</td>\n",
       "      <td>0</td>\n",
       "      <td>0</td>\n",
       "      <td>0</td>\n",
       "      <td>0</td>\n",
       "      <td>0</td>\n",
       "      <td>0</td>\n",
       "      <td>pace</td>\n",
       "    </tr>\n",
       "  </tbody>\n",
       "</table>\n",
       "<p>5 rows × 64 columns</p>\n",
       "</div>"
      ],
      "text/plain": [
       "   Unnamed: 0 da_last_name  start year  left office  female  black    county  \\\n",
       "0           0       Soares      2004.0          NaN       0      1    Albany   \n",
       "1           1        Clyne      2000.0       2004.0       0      0    Albany   \n",
       "2           2    Greenberg      1974.0       2000.0       0      0    Albany   \n",
       "3           3         Slep      2011.0          NaN       0      0  Allegany   \n",
       "4           4       Parker      1997.0       2010.0       0      0  Allegany   \n",
       "\n",
       "   1976  1977  1978     ...      2007-contested  2008-contested  \\\n",
       "0     0     0     0     ...                   0               0   \n",
       "1     0     0     0     ...                   0               0   \n",
       "2     0     0     1     ...                   0               0   \n",
       "3     0     0     0     ...                   0               0   \n",
       "4     0     0     0     ...                   0               0   \n",
       "\n",
       "   2009-contested  2010-contested  2011-contested  2012-contested  \\\n",
       "0               0               0               0               0   \n",
       "1               0               0               0               0   \n",
       "2               0               0               0               0   \n",
       "3               0               0               0               0   \n",
       "4               1               0               0               0   \n",
       "\n",
       "   2013-contested  2014-contested  2015-contested  university  \n",
       "0               0               0               0      albany  \n",
       "1               0               0               0      albany  \n",
       "2               0               0               0      albany  \n",
       "3               0               0               0    syracuse  \n",
       "4               0               0               0        pace  \n",
       "\n",
       "[5 rows x 64 columns]"
      ]
     },
     "execution_count": 85,
     "metadata": {},
     "output_type": "execute_result"
    }
   ],
   "source": [
    "da_data.head()"
   ]
  },
  {
   "cell_type": "code",
   "execution_count": 87,
   "metadata": {},
   "outputs": [],
   "source": [
    "da_data.to_csv('clean_DA.csv')"
   ]
  }
 ],
 "metadata": {
  "kernelspec": {
   "display_name": "Python 3",
   "language": "python",
   "name": "python3"
  },
  "language_info": {
   "codemirror_mode": {
    "name": "ipython",
    "version": 3
   },
   "file_extension": ".py",
   "mimetype": "text/x-python",
   "name": "python",
   "nbconvert_exporter": "python",
   "pygments_lexer": "ipython3",
   "version": "3.6.1"
  }
 },
 "nbformat": 4,
 "nbformat_minor": 2
}
