{
 "cells": [
  {
   "cell_type": "code",
   "execution_count": 1,
   "metadata": {
    "collapsed": true
   },
   "outputs": [],
   "source": [
    "import pandas as pd"
   ]
  },
  {
   "cell_type": "code",
   "execution_count": 2,
   "metadata": {
    "collapsed": true
   },
   "outputs": [],
   "source": [
    "Hong = pd.read_csv(r'../Hong/crime_data.csv')"
   ]
  },
  {
   "cell_type": "code",
   "execution_count": 3,
   "metadata": {
    "collapsed": true
   },
   "outputs": [],
   "source": [
    "Stella = pd.read_csv(r'csv/stella_finalized.csv')"
   ]
  },
  {
   "cell_type": "code",
   "execution_count": 4,
   "metadata": {
    "collapsed": true
   },
   "outputs": [],
   "source": [
    "delete_Hong = ['Unnamed: 0','Judge','ADA','Judges','DistrictAttorney']\n",
    "for col in delete_Hong:\n",
    "    del Hong[col]"
   ]
  },
  {
   "cell_type": "code",
   "execution_count": null,
   "metadata": {
    "collapsed": true
   },
   "outputs": [],
   "source": []
  },
  {
   "cell_type": "code",
   "execution_count": 5,
   "metadata": {
    "collapsed": true
   },
   "outputs": [],
   "source": [
    "#replace null value in gap_days column with mean\n",
    "Gap_Day_Mean = Hong['Gap_days'].fillna(0).mean()\n",
    "Hong['Gap_days'] = Hong['Gap_days'].apply(lambda x: Gap_Day_Mean if pd.isnull(x) else x)"
   ]
  },
  {
   "cell_type": "code",
   "execution_count": 6,
   "metadata": {
    "collapsed": true
   },
   "outputs": [],
   "source": [
    "#replace null value in FirstD_month with mean value, take integer\n",
    "First_D_month_mean = int(Hong['FirstD_month_x'].fillna(0).mean())\n",
    "Hong['FirstD_month_x'] = Hong['FirstD_month_x'].apply(lambda x: First_D_month_mean if pd.isnull(x) else x)"
   ]
  },
  {
   "cell_type": "code",
   "execution_count": 7,
   "metadata": {
    "collapsed": true
   },
   "outputs": [],
   "source": [
    "First_D_month_mean = int(Hong['FirstD_month_y'].fillna(0).mean())\n",
    "Hong['FirstD_month_y'] = Hong['FirstD_month_y'].apply(lambda x: First_D_month_mean if pd.isnull(x) else x)"
   ]
  },
  {
   "cell_type": "code",
   "execution_count": 8,
   "metadata": {},
   "outputs": [
    {
     "data": {
      "text/plain": [
       "Index(['File', 'Unanimous', 'Gap_days', 'Crimes', 'Defense', 'Y', 'f_Monday',\n",
       "       'f_Tuesday', 'f_Wednesday', 'f_Thursday', 'f_Friday', 'f_Saturday',\n",
       "       'f_Sunday', 'a_Monday', 'a_Tuesday', 'a_Wednesday', 'a_Thursday',\n",
       "       'a_Friday', 'a_Saturday', 'a_Sunday', 'FirstD_1975.0', 'FirstD_1976.0',\n",
       "       'FirstD_1977.0', 'FirstD_1979.0', 'FirstD_1980.0', 'FirstD_1981.0',\n",
       "       'FirstD_1982.0', 'FirstD_1983.0', 'FirstD_1984.0', 'FirstD_1985.0',\n",
       "       'FirstD_1986.0', 'FirstD_1987.0', 'FirstD_1988.0', 'FirstD_1989.0',\n",
       "       'FirstD_1990.0', 'FirstD_1991.0', 'FirstD_1992.0', 'FirstD_1993.0',\n",
       "       'FirstD_1994.0', 'FirstD_1995.0', 'FirstD_1996.0', 'FirstD_1997.0',\n",
       "       'FirstD_1998.0', 'FirstD_1999.0', 'FirstD_2000.0', 'FirstD_2001.0',\n",
       "       'FirstD_2002.0', 'FirstD_2003.0', 'FirstD_2004.0', 'FirstD_2005.0',\n",
       "       'FirstD_2006.0', 'FirstD_2007.0', 'FirstD_2008.0', 'FirstD_2009.0',\n",
       "       'FirstD_2010.0', 'FirstD_2011.0', 'FirstD_2012.0', 'FirstD_2013.0',\n",
       "       'FirstD_2014.0', 'FirstD_2015.0', 'FirstD_2016.0', 'FirstD_2017.0',\n",
       "       'FirstD_2103.0', 'AppealD_2003', 'AppealD_2004', 'AppealD_2005',\n",
       "       'AppealD_2006', 'AppealD_2007', 'AppealD_2008', 'AppealD_2009',\n",
       "       'AppealD_2010', 'AppealD_2011', 'AppealD_2012', 'AppealD_2013',\n",
       "       'AppealD_2014', 'AppealD_2015', 'AppealD_2016', 'AppealD_2017',\n",
       "       'FirstD_month_x', 'FirstD_month_y', 'AppealD_month_x',\n",
       "       'AppealD_month_y'],\n",
       "      dtype='object')"
      ]
     },
     "execution_count": 8,
     "metadata": {},
     "output_type": "execute_result"
    }
   ],
   "source": [
    "Hong.columns"
   ]
  },
  {
   "cell_type": "code",
   "execution_count": 9,
   "metadata": {},
   "outputs": [
    {
     "data": {
      "text/plain": [
       "File                   0\n",
       "Unanimous              0\n",
       "Gap_days               0\n",
       "Crimes             21782\n",
       "Defense            28284\n",
       "Y                      0\n",
       "f_Monday               0\n",
       "f_Tuesday              0\n",
       "f_Wednesday            0\n",
       "f_Thursday             0\n",
       "f_Friday               0\n",
       "f_Saturday             0\n",
       "f_Sunday               0\n",
       "a_Monday               0\n",
       "a_Tuesday              0\n",
       "a_Wednesday            0\n",
       "a_Thursday             0\n",
       "a_Friday               0\n",
       "a_Saturday             0\n",
       "a_Sunday               0\n",
       "FirstD_1975.0          0\n",
       "FirstD_1976.0          0\n",
       "FirstD_1977.0          0\n",
       "FirstD_1979.0          0\n",
       "FirstD_1980.0          0\n",
       "FirstD_1981.0          0\n",
       "FirstD_1982.0          0\n",
       "FirstD_1983.0          0\n",
       "FirstD_1984.0          0\n",
       "FirstD_1985.0          0\n",
       "                   ...  \n",
       "FirstD_2008.0          0\n",
       "FirstD_2009.0          0\n",
       "FirstD_2010.0          0\n",
       "FirstD_2011.0          0\n",
       "FirstD_2012.0          0\n",
       "FirstD_2013.0          0\n",
       "FirstD_2014.0          0\n",
       "FirstD_2015.0          0\n",
       "FirstD_2016.0          0\n",
       "FirstD_2017.0          0\n",
       "FirstD_2103.0          0\n",
       "AppealD_2003           0\n",
       "AppealD_2004           0\n",
       "AppealD_2005           0\n",
       "AppealD_2006           0\n",
       "AppealD_2007           0\n",
       "AppealD_2008           0\n",
       "AppealD_2009           0\n",
       "AppealD_2010           0\n",
       "AppealD_2011           0\n",
       "AppealD_2012           0\n",
       "AppealD_2013           0\n",
       "AppealD_2014           0\n",
       "AppealD_2015           0\n",
       "AppealD_2016           0\n",
       "AppealD_2017           0\n",
       "FirstD_month_x         0\n",
       "FirstD_month_y         0\n",
       "AppealD_month_x        0\n",
       "AppealD_month_y        0\n",
       "dtype: int64"
      ]
     },
     "execution_count": 9,
     "metadata": {},
     "output_type": "execute_result"
    }
   ],
   "source": [
    "Hong.isnull().sum()"
   ]
  },
  {
   "cell_type": "code",
   "execution_count": 10,
   "metadata": {
    "collapsed": true
   },
   "outputs": [],
   "source": [
    "Ksenia_1 = pd.read_csv(r'../Ksenia/da_info.csv')\n",
    "Ksenia_2 = pd.read_csv(r'../Ksenia/defense.csv')\n",
    "Ksenia_3 = pd.read_csv(r'../Ksenia/mode_gounds.csv')"
   ]
  },
  {
   "cell_type": "code",
   "execution_count": 11,
   "metadata": {
    "collapsed": true
   },
   "outputs": [],
   "source": [
    "Ksenia = Ksenia_1.merge(Ksenia_2,on='File',how='inner')"
   ]
  },
  {
   "cell_type": "code",
   "execution_count": 12,
   "metadata": {
    "collapsed": true
   },
   "outputs": [],
   "source": [
    "Ksenia_final = Ksenia.merge(Ksenia_3,on='File',how='inner')"
   ]
  },
  {
   "cell_type": "code",
   "execution_count": 13,
   "metadata": {},
   "outputs": [
    {
     "data": {
      "text/plain": [
       "Index(['Unnamed: 0_x', 'File', 'da_female', 'da_black', 'da_2003', 'da_2004',\n",
       "       'da_2005', 'da_2006', 'da_2007', 'da_2008', 'da_2009', 'da_2010',\n",
       "       'da_2011', 'da_2012', 'da_2013', 'da_2014', 'da_2015', 'da_2016',\n",
       "       'da_2017', 'da_2004-contested', 'da_2005-contested',\n",
       "       'da_2007-contested', 'da_2008-contested', 'da_2009-contested',\n",
       "       'da_2010-contested', 'da_2011-contested', 'da_2012-contested',\n",
       "       'da_2013-contested', 'da_2014-contested', 'da_2015-contested',\n",
       "       'da_university', 'da_female_nan', 'da_black_nan', 'da_university_nan',\n",
       "       'election_nan', 'contested_nan', 'Unnamed: 0_y',\n",
       "       'defense__conflict defender', 'defense__legal aid bureau',\n",
       "       'defense__legal aid society', 'defense__public defender',\n",
       "       'defense__nan', 'mode__jury verdict', 'mode__nonjury trial',\n",
       "       'mode__plea of guilty', 'mode__nan', 'grounds_speedy',\n",
       "       'grounds_coercion', 'grounds_sever', 'grounds_suppress',\n",
       "       'grounds_coerce', 'grounds_incapac', 'grounds_juror',\n",
       "       'grounds_resentenc', 'grounds_sufficient', 'grounds_instructions',\n",
       "       'grounds_ineffective counsel', 'grounds_mental',\n",
       "       'grounds_double jeopardy', 'grounds_youth', 'grounds_nan'],\n",
       "      dtype='object')"
      ]
     },
     "execution_count": 13,
     "metadata": {},
     "output_type": "execute_result"
    }
   ],
   "source": [
    "Ksenia_final.columns"
   ]
  },
  {
   "cell_type": "code",
   "execution_count": 14,
   "metadata": {
    "collapsed": true
   },
   "outputs": [],
   "source": [
    "delete_Ksenia = ['Unnamed: 0_x','Unnamed: 0_y']\n",
    "for col in delete_Ksenia:\n",
    "    del Ksenia_final[col]"
   ]
  },
  {
   "cell_type": "code",
   "execution_count": 15,
   "metadata": {},
   "outputs": [
    {
     "data": {
      "text/plain": [
       "array(['suffolk', 'vermont', 'syracuse', '0', 'buffalo', 'newhampshire',\n",
       "       'westernnewengland', 'albany', 'cornell', 'georgewashington',\n",
       "       'yale', 'nyu', 'penn', 'brooklyn', 'st.johns', 'touro', 'hofstra',\n",
       "       'washingtonandlee', 'fordham', 'creighton', 'unknown', 'pennstate',\n",
       "       'georgetown', 'tennessee', 'pace', 'illinois', 'howard', 'detroit',\n",
       "       'pepperdine', 'rutgers', 'bostoncollege', 'washburn', 'memphis',\n",
       "       'michigan', 'quinnipiac', 'westernmichigan', 'newengland'], dtype=object)"
      ]
     },
     "execution_count": 15,
     "metadata": {},
     "output_type": "execute_result"
    }
   ],
   "source": [
    "Ksenia_final['da_university'].unique()"
   ]
  },
  {
   "cell_type": "code",
   "execution_count": 16,
   "metadata": {
    "collapsed": true
   },
   "outputs": [],
   "source": [
    "delete_Stella = ['Unnamed: 0','First_Name','Last_Name']\n",
    "for col in delete_Stella:\n",
    "    del Stella[col]"
   ]
  },
  {
   "cell_type": "code",
   "execution_count": 17,
   "metadata": {
    "collapsed": true
   },
   "outputs": [],
   "source": [
    "#merge stella and ksenia\n",
    "merge_1 = Stella.merge(Ksenia,on='File',how='inner')"
   ]
  },
  {
   "cell_type": "code",
   "execution_count": 18,
   "metadata": {
    "collapsed": true
   },
   "outputs": [],
   "source": [
    "merge_1['da_judge_same_school'] = merge_1.apply(lambda x: 1 if x['law school'] == x['da_university'] else 0, axis=1)"
   ]
  },
  {
   "cell_type": "code",
   "execution_count": 19,
   "metadata": {
    "collapsed": true
   },
   "outputs": [],
   "source": [
    "del merge_1['da_university']\n",
    "del merge_1['law school']"
   ]
  },
  {
   "cell_type": "code",
   "execution_count": 20,
   "metadata": {
    "collapsed": true
   },
   "outputs": [],
   "source": [
    "del merge_1['Unnamed: 0_y']"
   ]
  },
  {
   "cell_type": "code",
   "execution_count": 21,
   "metadata": {
    "collapsed": true
   },
   "outputs": [],
   "source": [
    "del merge_1['Unnamed: 0_x']"
   ]
  },
  {
   "cell_type": "code",
   "execution_count": 22,
   "metadata": {
    "collapsed": true
   },
   "outputs": [],
   "source": [
    "merge_2 = merge_1.merge(Hong,on='File',how='inner')"
   ]
  },
  {
   "cell_type": "code",
   "execution_count": 23,
   "metadata": {},
   "outputs": [
    {
     "data": {
      "text/html": [
       "<div>\n",
       "<table border=\"1\" class=\"dataframe\">\n",
       "  <thead>\n",
       "    <tr style=\"text-align: right;\">\n",
       "      <th></th>\n",
       "      <th>0</th>\n",
       "    </tr>\n",
       "  </thead>\n",
       "  <tbody>\n",
       "    <tr>\n",
       "      <th>File</th>\n",
       "      <td>object</td>\n",
       "    </tr>\n",
       "    <tr>\n",
       "      <th>elect</th>\n",
       "      <td>int64</td>\n",
       "    </tr>\n",
       "    <tr>\n",
       "      <th>military</th>\n",
       "      <td>int64</td>\n",
       "    </tr>\n",
       "    <tr>\n",
       "      <th>APD</th>\n",
       "      <td>int64</td>\n",
       "    </tr>\n",
       "    <tr>\n",
       "      <th>Prof</th>\n",
       "      <td>int64</td>\n",
       "    </tr>\n",
       "    <tr>\n",
       "      <th>female</th>\n",
       "      <td>int64</td>\n",
       "    </tr>\n",
       "    <tr>\n",
       "      <th>CC</th>\n",
       "      <td>int64</td>\n",
       "    </tr>\n",
       "    <tr>\n",
       "      <th>SC-AJ</th>\n",
       "      <td>int64</td>\n",
       "    </tr>\n",
       "    <tr>\n",
       "      <th>SC</th>\n",
       "      <td>int64</td>\n",
       "    </tr>\n",
       "    <tr>\n",
       "      <th>SC-AJ &amp; SC</th>\n",
       "      <td>int64</td>\n",
       "    </tr>\n",
       "    <tr>\n",
       "      <th>start year</th>\n",
       "      <td>int64</td>\n",
       "    </tr>\n",
       "    <tr>\n",
       "      <th>nycourts</th>\n",
       "      <td>int64</td>\n",
       "    </tr>\n",
       "    <tr>\n",
       "      <th>1976</th>\n",
       "      <td>int64</td>\n",
       "    </tr>\n",
       "    <tr>\n",
       "      <th>1980</th>\n",
       "      <td>int64</td>\n",
       "    </tr>\n",
       "    <tr>\n",
       "      <th>1981</th>\n",
       "      <td>int64</td>\n",
       "    </tr>\n",
       "    <tr>\n",
       "      <th>1984</th>\n",
       "      <td>int64</td>\n",
       "    </tr>\n",
       "    <tr>\n",
       "      <th>1985</th>\n",
       "      <td>int64</td>\n",
       "    </tr>\n",
       "    <tr>\n",
       "      <th>1986</th>\n",
       "      <td>int64</td>\n",
       "    </tr>\n",
       "    <tr>\n",
       "      <th>1988</th>\n",
       "      <td>int64</td>\n",
       "    </tr>\n",
       "    <tr>\n",
       "      <th>1989</th>\n",
       "      <td>int64</td>\n",
       "    </tr>\n",
       "    <tr>\n",
       "      <th>1990</th>\n",
       "      <td>int64</td>\n",
       "    </tr>\n",
       "    <tr>\n",
       "      <th>1991</th>\n",
       "      <td>int64</td>\n",
       "    </tr>\n",
       "    <tr>\n",
       "      <th>1992</th>\n",
       "      <td>int64</td>\n",
       "    </tr>\n",
       "    <tr>\n",
       "      <th>1993</th>\n",
       "      <td>int64</td>\n",
       "    </tr>\n",
       "    <tr>\n",
       "      <th>1994</th>\n",
       "      <td>int64</td>\n",
       "    </tr>\n",
       "    <tr>\n",
       "      <th>1995</th>\n",
       "      <td>int64</td>\n",
       "    </tr>\n",
       "    <tr>\n",
       "      <th>1996</th>\n",
       "      <td>int64</td>\n",
       "    </tr>\n",
       "    <tr>\n",
       "      <th>1997</th>\n",
       "      <td>int64</td>\n",
       "    </tr>\n",
       "    <tr>\n",
       "      <th>1998</th>\n",
       "      <td>int64</td>\n",
       "    </tr>\n",
       "    <tr>\n",
       "      <th>1999</th>\n",
       "      <td>int64</td>\n",
       "    </tr>\n",
       "    <tr>\n",
       "      <th>...</th>\n",
       "      <td>...</td>\n",
       "    </tr>\n",
       "    <tr>\n",
       "      <th>FirstD_2008.0</th>\n",
       "      <td>int64</td>\n",
       "    </tr>\n",
       "    <tr>\n",
       "      <th>FirstD_2009.0</th>\n",
       "      <td>int64</td>\n",
       "    </tr>\n",
       "    <tr>\n",
       "      <th>FirstD_2010.0</th>\n",
       "      <td>int64</td>\n",
       "    </tr>\n",
       "    <tr>\n",
       "      <th>FirstD_2011.0</th>\n",
       "      <td>int64</td>\n",
       "    </tr>\n",
       "    <tr>\n",
       "      <th>FirstD_2012.0</th>\n",
       "      <td>int64</td>\n",
       "    </tr>\n",
       "    <tr>\n",
       "      <th>FirstD_2013.0</th>\n",
       "      <td>int64</td>\n",
       "    </tr>\n",
       "    <tr>\n",
       "      <th>FirstD_2014.0</th>\n",
       "      <td>int64</td>\n",
       "    </tr>\n",
       "    <tr>\n",
       "      <th>FirstD_2015.0</th>\n",
       "      <td>int64</td>\n",
       "    </tr>\n",
       "    <tr>\n",
       "      <th>FirstD_2016.0</th>\n",
       "      <td>int64</td>\n",
       "    </tr>\n",
       "    <tr>\n",
       "      <th>FirstD_2017.0</th>\n",
       "      <td>int64</td>\n",
       "    </tr>\n",
       "    <tr>\n",
       "      <th>FirstD_2103.0</th>\n",
       "      <td>int64</td>\n",
       "    </tr>\n",
       "    <tr>\n",
       "      <th>AppealD_2003</th>\n",
       "      <td>int64</td>\n",
       "    </tr>\n",
       "    <tr>\n",
       "      <th>AppealD_2004</th>\n",
       "      <td>int64</td>\n",
       "    </tr>\n",
       "    <tr>\n",
       "      <th>AppealD_2005</th>\n",
       "      <td>int64</td>\n",
       "    </tr>\n",
       "    <tr>\n",
       "      <th>AppealD_2006</th>\n",
       "      <td>int64</td>\n",
       "    </tr>\n",
       "    <tr>\n",
       "      <th>AppealD_2007</th>\n",
       "      <td>int64</td>\n",
       "    </tr>\n",
       "    <tr>\n",
       "      <th>AppealD_2008</th>\n",
       "      <td>int64</td>\n",
       "    </tr>\n",
       "    <tr>\n",
       "      <th>AppealD_2009</th>\n",
       "      <td>int64</td>\n",
       "    </tr>\n",
       "    <tr>\n",
       "      <th>AppealD_2010</th>\n",
       "      <td>int64</td>\n",
       "    </tr>\n",
       "    <tr>\n",
       "      <th>AppealD_2011</th>\n",
       "      <td>int64</td>\n",
       "    </tr>\n",
       "    <tr>\n",
       "      <th>AppealD_2012</th>\n",
       "      <td>int64</td>\n",
       "    </tr>\n",
       "    <tr>\n",
       "      <th>AppealD_2013</th>\n",
       "      <td>int64</td>\n",
       "    </tr>\n",
       "    <tr>\n",
       "      <th>AppealD_2014</th>\n",
       "      <td>int64</td>\n",
       "    </tr>\n",
       "    <tr>\n",
       "      <th>AppealD_2015</th>\n",
       "      <td>int64</td>\n",
       "    </tr>\n",
       "    <tr>\n",
       "      <th>AppealD_2016</th>\n",
       "      <td>int64</td>\n",
       "    </tr>\n",
       "    <tr>\n",
       "      <th>AppealD_2017</th>\n",
       "      <td>int64</td>\n",
       "    </tr>\n",
       "    <tr>\n",
       "      <th>FirstD_month_x</th>\n",
       "      <td>float64</td>\n",
       "    </tr>\n",
       "    <tr>\n",
       "      <th>FirstD_month_y</th>\n",
       "      <td>float64</td>\n",
       "    </tr>\n",
       "    <tr>\n",
       "      <th>AppealD_month_x</th>\n",
       "      <td>float64</td>\n",
       "    </tr>\n",
       "    <tr>\n",
       "      <th>AppealD_month_y</th>\n",
       "      <td>float64</td>\n",
       "    </tr>\n",
       "  </tbody>\n",
       "</table>\n",
       "<p>186 rows × 1 columns</p>\n",
       "</div>"
      ],
      "text/plain": [
       "                       0\n",
       "File              object\n",
       "elect              int64\n",
       "military           int64\n",
       "APD                int64\n",
       "Prof               int64\n",
       "female             int64\n",
       "CC                 int64\n",
       "SC-AJ              int64\n",
       "SC                 int64\n",
       "SC-AJ & SC         int64\n",
       "start year         int64\n",
       "nycourts           int64\n",
       "1976               int64\n",
       "1980               int64\n",
       "1981               int64\n",
       "1984               int64\n",
       "1985               int64\n",
       "1986               int64\n",
       "1988               int64\n",
       "1989               int64\n",
       "1990               int64\n",
       "1991               int64\n",
       "1992               int64\n",
       "1993               int64\n",
       "1994               int64\n",
       "1995               int64\n",
       "1996               int64\n",
       "1997               int64\n",
       "1998               int64\n",
       "1999               int64\n",
       "...                  ...\n",
       "FirstD_2008.0      int64\n",
       "FirstD_2009.0      int64\n",
       "FirstD_2010.0      int64\n",
       "FirstD_2011.0      int64\n",
       "FirstD_2012.0      int64\n",
       "FirstD_2013.0      int64\n",
       "FirstD_2014.0      int64\n",
       "FirstD_2015.0      int64\n",
       "FirstD_2016.0      int64\n",
       "FirstD_2017.0      int64\n",
       "FirstD_2103.0      int64\n",
       "AppealD_2003       int64\n",
       "AppealD_2004       int64\n",
       "AppealD_2005       int64\n",
       "AppealD_2006       int64\n",
       "AppealD_2007       int64\n",
       "AppealD_2008       int64\n",
       "AppealD_2009       int64\n",
       "AppealD_2010       int64\n",
       "AppealD_2011       int64\n",
       "AppealD_2012       int64\n",
       "AppealD_2013       int64\n",
       "AppealD_2014       int64\n",
       "AppealD_2015       int64\n",
       "AppealD_2016       int64\n",
       "AppealD_2017       int64\n",
       "FirstD_month_x   float64\n",
       "FirstD_month_y   float64\n",
       "AppealD_month_x  float64\n",
       "AppealD_month_y  float64\n",
       "\n",
       "[186 rows x 1 columns]"
      ]
     },
     "execution_count": 23,
     "metadata": {},
     "output_type": "execute_result"
    }
   ],
   "source": [
    "pd.DataFrame(merge_2.dtypes)"
   ]
  },
  {
   "cell_type": "code",
   "execution_count": 24,
   "metadata": {},
   "outputs": [
    {
     "data": {
      "text/plain": [
       "(35232, 186)"
      ]
     },
     "execution_count": 24,
     "metadata": {},
     "output_type": "execute_result"
    }
   ],
   "source": [
    "merge_2.shape"
   ]
  },
  {
   "cell_type": "code",
   "execution_count": null,
   "metadata": {
    "collapsed": true
   },
   "outputs": [],
   "source": []
  },
  {
   "cell_type": "code",
   "execution_count": null,
   "metadata": {
    "collapsed": true
   },
   "outputs": [],
   "source": []
  },
  {
   "cell_type": "code",
   "execution_count": 26,
   "metadata": {
    "collapsed": true
   },
   "outputs": [],
   "source": [
    "Jie = pd.read_csv(r'../Jie/crime_unanimous_appellant_dummies.csv')"
   ]
  },
  {
   "cell_type": "code",
   "execution_count": 27,
   "metadata": {},
   "outputs": [
    {
     "data": {
      "text/plain": [
       "['Unnamed: 0',\n",
       " 'File',\n",
       " 'unanimous',\n",
       " 'appellant',\n",
       " 'type_crime_DUI',\n",
       " 'type_crime_aggravated criminal contempt',\n",
       " 'type_crime_aggravated unlicensed operation of a motor vehicle',\n",
       " 'type_crime_aggravated vehicular homicide, manslaughter',\n",
       " 'type_crime_arson',\n",
       " 'type_crime_assault',\n",
       " 'type_crime_attempted arson',\n",
       " 'type_crime_attempted assault',\n",
       " 'type_crime_attempted burglary',\n",
       " 'type_crime_attempted conspiracy',\n",
       " 'type_crime_attempted course of sexual conduct against a child',\n",
       " 'type_crime_attempted criminal contempt',\n",
       " 'type_crime_attempted criminal possession of a controlled substance',\n",
       " 'type_crime_attempted criminal possession of a forged instrument',\n",
       " 'type_crime_attempted criminal possession of a weapon',\n",
       " 'type_crime_attempted criminal sale of a controlled substance',\n",
       " 'type_crime_attempted criminal sexual act',\n",
       " 'type_crime_attempted disseminating indecent material to minors',\n",
       " 'type_crime_attempted forgery',\n",
       " 'type_crime_attempted grand larceny',\n",
       " 'type_crime_attempted kidnapping',\n",
       " 'type_crime_attempted murder',\n",
       " 'type_crime_attempted promoting prison contraband',\n",
       " 'type_crime_attempted rape',\n",
       " 'type_crime_attempted reckless endangerment',\n",
       " 'type_crime_attempted robbery',\n",
       " 'type_crime_attempted sexual abuse',\n",
       " 'type_crime_attempted sodomy',\n",
       " 'type_crime_attempted strangulation',\n",
       " 'type_crime_bail jumping',\n",
       " 'type_crime_burglary',\n",
       " 'type_crime_conspiracy',\n",
       " 'type_crime_course of sexual conduct against a child',\n",
       " 'type_crime_criminal contempt',\n",
       " 'type_crime_criminal facilitation',\n",
       " 'type_crime_criminal mischief',\n",
       " 'type_crime_criminal possession of a controlled substance',\n",
       " 'type_crime_criminal possession of a forged instrument',\n",
       " 'type_crime_criminal possession of a weapon',\n",
       " 'type_crime_criminal possession of marihuana',\n",
       " 'type_crime_criminal possession of marijuana',\n",
       " 'type_crime_criminal possession of stolen property',\n",
       " 'type_crime_criminal possession of weapon',\n",
       " 'type_crime_criminal sale of a controlled substance',\n",
       " 'type_crime_criminal sale of a firearm',\n",
       " 'type_crime_criminal sexual act',\n",
       " 'type_crime_criminal trespass',\n",
       " 'type_crime_criminally negligent homicide',\n",
       " 'type_crime_driving while ability impaired by drugs',\n",
       " 'type_crime_endangering the welfare of a child',\n",
       " 'type_crime_escape',\n",
       " 'type_crime_failure to register as a sex offender',\n",
       " 'type_crime_falsely reporting an incident',\n",
       " 'type_crime_falsifying business records',\n",
       " 'type_crime_forgery',\n",
       " 'type_crime_four counts of robbery',\n",
       " 'type_crime_gang assault',\n",
       " 'type_crime_grand larceny',\n",
       " 'type_crime_identity theft',\n",
       " 'type_crime_insurance fraud',\n",
       " 'type_crime_kidnapping',\n",
       " 'type_crime_manslaughter',\n",
       " 'type_crime_menacing',\n",
       " 'type_crime_murder',\n",
       " 'type_crime_obstructing governmental administration',\n",
       " 'type_crime_offering a false instrument for filing',\n",
       " 'type_crime_petit larceny',\n",
       " 'type_crime_possessing a sexual performance by a child',\n",
       " 'type_crime_promoting prison contraband',\n",
       " 'type_crime_promoting prostitution',\n",
       " 'type_crime_rape',\n",
       " 'type_crime_reckless assault of a child',\n",
       " 'type_crime_reckless endangerment',\n",
       " 'type_crime_resisting arrest',\n",
       " 'type_crime_robbery',\n",
       " 'type_crime_scheme to defraud',\n",
       " 'type_crime_sex offender',\n",
       " 'type_crime_sexual abuse',\n",
       " 'type_crime_sodomy',\n",
       " 'type_crime_three counts of robbery',\n",
       " 'type_crime_two counts of burglary',\n",
       " 'type_crime_two counts of criminal possession of a weapon',\n",
       " 'type_crime_two counts of murder',\n",
       " 'type_crime_two counts of robbery',\n",
       " 'type_crime_unauthorized use of a vehicle',\n",
       " 'type_crime_unlawful imprisonment',\n",
       " 'type_crime_unlawful manufacture of methamphetamine',\n",
       " 'type_crime_unlawful surveillance',\n",
       " 'type_crime_use of a child',\n",
       " 'type_crime_vehicular manslaughter',\n",
       " 'type_crime_welfare fraud',\n",
       " 'type_crime_nan',\n",
       " 'degree_crime_fifth',\n",
       " 'degree_crime_first',\n",
       " 'degree_crime_fourth',\n",
       " 'degree_crime_second',\n",
       " 'degree_crime_seventh',\n",
       " 'degree_crime_sixth',\n",
       " 'degree_crime_third',\n",
       " 'degree_crime_nan']"
      ]
     },
     "execution_count": 27,
     "metadata": {},
     "output_type": "execute_result"
    }
   ],
   "source": [
    "list(Jie.columns)"
   ]
  },
  {
   "cell_type": "code",
   "execution_count": 28,
   "metadata": {
    "collapsed": true
   },
   "outputs": [],
   "source": [
    "del merge_2['Defense']"
   ]
  },
  {
   "cell_type": "code",
   "execution_count": 29,
   "metadata": {
    "collapsed": true
   },
   "outputs": [],
   "source": [
    "final = merge_2.merge(Jie,on='File',how='inner')"
   ]
  },
  {
   "cell_type": "code",
   "execution_count": 89,
   "metadata": {},
   "outputs": [
    {
     "data": {
      "text/plain": [
       "['File',\n",
       " 'elect',\n",
       " 'military',\n",
       " 'APD',\n",
       " 'Prof',\n",
       " 'female',\n",
       " 'CC',\n",
       " 'SC-AJ',\n",
       " 'SC',\n",
       " 'SC-AJ & SC',\n",
       " 'start year',\n",
       " 'nycourts',\n",
       " '1976',\n",
       " '1980',\n",
       " '1981',\n",
       " '1984',\n",
       " '1985',\n",
       " '1986',\n",
       " '1988',\n",
       " '1989',\n",
       " '1990',\n",
       " '1991',\n",
       " '1992',\n",
       " '1993',\n",
       " '1994',\n",
       " '1995',\n",
       " '1996',\n",
       " '1997',\n",
       " '1998',\n",
       " '1999',\n",
       " '2000',\n",
       " '2001',\n",
       " '2002',\n",
       " '2003',\n",
       " '2004',\n",
       " '2005',\n",
       " '2006',\n",
       " '2007',\n",
       " '2008',\n",
       " '2009',\n",
       " '2010',\n",
       " '2011',\n",
       " '2012',\n",
       " '2013',\n",
       " '2014',\n",
       " '2015',\n",
       " '2016',\n",
       " 'retired',\n",
       " 'arrested',\n",
       " 'lost-reelection',\n",
       " 'died',\n",
       " 'left',\n",
       " 'appointed-to-other-depart',\n",
       " 'contested',\n",
       " 'judge_law_school_missing',\n",
       " 'judge_elect_missing',\n",
       " 'judge_military_missing',\n",
       " 'judge_APD_missing',\n",
       " 'judge_info_missing',\n",
       " 'judge_Prof_missing',\n",
       " 'judge_CC_missing',\n",
       " 'judge_SC-AJ_missing',\n",
       " 'judge_SC_missing',\n",
       " 'judge_SC-AJ & SC_missing',\n",
       " 'judge_startyear_missing',\n",
       " 'judge_female_missing',\n",
       " 'da_female',\n",
       " 'da_black',\n",
       " 'da_2003',\n",
       " 'da_2004',\n",
       " 'da_2005',\n",
       " 'da_2006',\n",
       " 'da_2007',\n",
       " 'da_2008',\n",
       " 'da_2009',\n",
       " 'da_2010',\n",
       " 'da_2011',\n",
       " 'da_2012',\n",
       " 'da_2013',\n",
       " 'da_2014',\n",
       " 'da_2015',\n",
       " 'da_2016',\n",
       " 'da_2017',\n",
       " 'da_2004-contested',\n",
       " 'da_2005-contested',\n",
       " 'da_2007-contested',\n",
       " 'da_2008-contested',\n",
       " 'da_2009-contested',\n",
       " 'da_2010-contested',\n",
       " 'da_2011-contested',\n",
       " 'da_2012-contested',\n",
       " 'da_2013-contested',\n",
       " 'da_2014-contested',\n",
       " 'da_2015-contested',\n",
       " 'da_female_nan',\n",
       " 'da_black_nan',\n",
       " 'da_university_nan',\n",
       " 'election_nan',\n",
       " 'contested_nan',\n",
       " 'defense__conflict defender',\n",
       " 'defense__legal aid bureau',\n",
       " 'defense__legal aid society',\n",
       " 'defense__public defender',\n",
       " 'defense__nan',\n",
       " 'da_judge_same_school',\n",
       " 'Unanimous',\n",
       " 'Gap_days',\n",
       " 'Crimes',\n",
       " 'Y',\n",
       " 'f_Monday',\n",
       " 'f_Tuesday',\n",
       " 'f_Wednesday',\n",
       " 'f_Thursday',\n",
       " 'f_Friday',\n",
       " 'f_Saturday',\n",
       " 'f_Sunday',\n",
       " 'a_Monday',\n",
       " 'a_Tuesday',\n",
       " 'a_Wednesday',\n",
       " 'a_Thursday',\n",
       " 'a_Friday',\n",
       " 'a_Saturday',\n",
       " 'a_Sunday',\n",
       " 'FirstD_1975.0',\n",
       " 'FirstD_1976.0',\n",
       " 'FirstD_1977.0',\n",
       " 'FirstD_1979.0',\n",
       " 'FirstD_1980.0',\n",
       " 'FirstD_1981.0',\n",
       " 'FirstD_1982.0',\n",
       " 'FirstD_1983.0',\n",
       " 'FirstD_1984.0',\n",
       " 'FirstD_1985.0',\n",
       " 'FirstD_1986.0',\n",
       " 'FirstD_1987.0',\n",
       " 'FirstD_1988.0',\n",
       " 'FirstD_1989.0',\n",
       " 'FirstD_1990.0',\n",
       " 'FirstD_1991.0',\n",
       " 'FirstD_1992.0',\n",
       " 'FirstD_1993.0',\n",
       " 'FirstD_1994.0',\n",
       " 'FirstD_1995.0',\n",
       " 'FirstD_1996.0',\n",
       " 'FirstD_1997.0',\n",
       " 'FirstD_1998.0',\n",
       " 'FirstD_1999.0',\n",
       " 'FirstD_2000.0',\n",
       " 'FirstD_2001.0',\n",
       " 'FirstD_2002.0',\n",
       " 'FirstD_2003.0',\n",
       " 'FirstD_2004.0',\n",
       " 'FirstD_2005.0',\n",
       " 'FirstD_2006.0',\n",
       " 'FirstD_2007.0',\n",
       " 'FirstD_2008.0',\n",
       " 'FirstD_2009.0',\n",
       " 'FirstD_2010.0',\n",
       " 'FirstD_2011.0',\n",
       " 'FirstD_2012.0',\n",
       " 'FirstD_2013.0',\n",
       " 'FirstD_2014.0',\n",
       " 'FirstD_2015.0',\n",
       " 'FirstD_2016.0',\n",
       " 'FirstD_2017.0',\n",
       " 'FirstD_2103.0',\n",
       " 'AppealD_2003',\n",
       " 'AppealD_2004',\n",
       " 'AppealD_2005',\n",
       " 'AppealD_2006',\n",
       " 'AppealD_2007',\n",
       " 'AppealD_2008',\n",
       " 'AppealD_2009',\n",
       " 'AppealD_2010',\n",
       " 'AppealD_2011',\n",
       " 'AppealD_2012',\n",
       " 'AppealD_2013',\n",
       " 'AppealD_2014',\n",
       " 'AppealD_2015',\n",
       " 'AppealD_2016',\n",
       " 'AppealD_2017',\n",
       " 'FirstD_month_x',\n",
       " 'FirstD_month_y',\n",
       " 'AppealD_month_x',\n",
       " 'AppealD_month_y',\n",
       " 'Unnamed: 0',\n",
       " 'unanimous',\n",
       " 'appellant',\n",
       " 'type_crime_DUI',\n",
       " 'type_crime_aggravated criminal contempt',\n",
       " 'type_crime_aggravated unlicensed operation of a motor vehicle',\n",
       " 'type_crime_aggravated vehicular homicide, manslaughter',\n",
       " 'type_crime_arson',\n",
       " 'type_crime_assault',\n",
       " 'type_crime_attempted arson',\n",
       " 'type_crime_attempted assault',\n",
       " 'type_crime_attempted burglary',\n",
       " 'type_crime_attempted conspiracy',\n",
       " 'type_crime_attempted course of sexual conduct against a child',\n",
       " 'type_crime_attempted criminal contempt',\n",
       " 'type_crime_attempted criminal possession of a controlled substance',\n",
       " 'type_crime_attempted criminal possession of a forged instrument',\n",
       " 'type_crime_attempted criminal possession of a weapon',\n",
       " 'type_crime_attempted criminal sale of a controlled substance',\n",
       " 'type_crime_attempted criminal sexual act',\n",
       " 'type_crime_attempted disseminating indecent material to minors',\n",
       " 'type_crime_attempted forgery',\n",
       " 'type_crime_attempted grand larceny',\n",
       " 'type_crime_attempted kidnapping',\n",
       " 'type_crime_attempted murder',\n",
       " 'type_crime_attempted promoting prison contraband',\n",
       " 'type_crime_attempted rape',\n",
       " 'type_crime_attempted reckless endangerment',\n",
       " 'type_crime_attempted robbery',\n",
       " 'type_crime_attempted sexual abuse',\n",
       " 'type_crime_attempted sodomy',\n",
       " 'type_crime_attempted strangulation',\n",
       " 'type_crime_bail jumping',\n",
       " 'type_crime_burglary',\n",
       " 'type_crime_conspiracy',\n",
       " 'type_crime_course of sexual conduct against a child',\n",
       " 'type_crime_criminal contempt',\n",
       " 'type_crime_criminal facilitation',\n",
       " 'type_crime_criminal mischief',\n",
       " 'type_crime_criminal possession of a controlled substance',\n",
       " 'type_crime_criminal possession of a forged instrument',\n",
       " 'type_crime_criminal possession of a weapon',\n",
       " 'type_crime_criminal possession of marihuana',\n",
       " 'type_crime_criminal possession of marijuana',\n",
       " 'type_crime_criminal possession of stolen property',\n",
       " 'type_crime_criminal possession of weapon',\n",
       " 'type_crime_criminal sale of a controlled substance',\n",
       " 'type_crime_criminal sale of a firearm',\n",
       " 'type_crime_criminal sexual act',\n",
       " 'type_crime_criminal trespass',\n",
       " 'type_crime_criminally negligent homicide',\n",
       " 'type_crime_driving while ability impaired by drugs',\n",
       " 'type_crime_endangering the welfare of a child',\n",
       " 'type_crime_escape',\n",
       " 'type_crime_failure to register as a sex offender',\n",
       " 'type_crime_falsely reporting an incident',\n",
       " 'type_crime_falsifying business records',\n",
       " 'type_crime_forgery',\n",
       " 'type_crime_four counts of robbery',\n",
       " 'type_crime_gang assault',\n",
       " 'type_crime_grand larceny',\n",
       " 'type_crime_identity theft',\n",
       " 'type_crime_insurance fraud',\n",
       " 'type_crime_kidnapping',\n",
       " 'type_crime_manslaughter',\n",
       " 'type_crime_menacing',\n",
       " 'type_crime_murder',\n",
       " 'type_crime_obstructing governmental administration',\n",
       " 'type_crime_offering a false instrument for filing',\n",
       " 'type_crime_petit larceny',\n",
       " 'type_crime_possessing a sexual performance by a child',\n",
       " 'type_crime_promoting prison contraband',\n",
       " 'type_crime_promoting prostitution',\n",
       " 'type_crime_rape',\n",
       " 'type_crime_reckless assault of a child',\n",
       " 'type_crime_reckless endangerment',\n",
       " 'type_crime_resisting arrest',\n",
       " 'type_crime_robbery',\n",
       " 'type_crime_scheme to defraud',\n",
       " 'type_crime_sex offender',\n",
       " 'type_crime_sexual abuse',\n",
       " 'type_crime_sodomy',\n",
       " 'type_crime_three counts of robbery',\n",
       " 'type_crime_two counts of burglary',\n",
       " 'type_crime_two counts of criminal possession of a weapon',\n",
       " 'type_crime_two counts of murder',\n",
       " 'type_crime_two counts of robbery',\n",
       " 'type_crime_unauthorized use of a vehicle',\n",
       " 'type_crime_unlawful imprisonment',\n",
       " 'type_crime_unlawful manufacture of methamphetamine',\n",
       " 'type_crime_unlawful surveillance',\n",
       " 'type_crime_use of a child',\n",
       " 'type_crime_vehicular manslaughter',\n",
       " 'type_crime_welfare fraud',\n",
       " 'type_crime_nan',\n",
       " 'degree_crime_fifth',\n",
       " 'degree_crime_first',\n",
       " 'degree_crime_fourth',\n",
       " 'degree_crime_second',\n",
       " 'degree_crime_seventh',\n",
       " 'degree_crime_sixth',\n",
       " 'degree_crime_third',\n",
       " 'degree_crime_nan']"
      ]
     },
     "execution_count": 89,
     "metadata": {},
     "output_type": "execute_result"
    }
   ],
   "source": [
    "list(final.columns)"
   ]
  },
  {
   "cell_type": "code",
   "execution_count": 30,
   "metadata": {
    "collapsed": true
   },
   "outputs": [],
   "source": [
    "del final['Unnamed: 0']"
   ]
  },
  {
   "cell_type": "code",
   "execution_count": null,
   "metadata": {},
   "outputs": [],
   "source": []
  },
  {
   "cell_type": "code",
   "execution_count": 93,
   "metadata": {
    "collapsed": true
   },
   "outputs": [],
   "source": [
    "del final['File']"
   ]
  },
  {
   "cell_type": "code",
   "execution_count": 38,
   "metadata": {
    "collapsed": true
   },
   "outputs": [],
   "source": []
  },
  {
   "cell_type": "code",
   "execution_count": 32,
   "metadata": {
    "collapsed": true
   },
   "outputs": [],
   "source": [
    "del final['Crimes']"
   ]
  },
  {
   "cell_type": "code",
   "execution_count": 33,
   "metadata": {},
   "outputs": [
    {
     "data": {
      "text/plain": [
       "(35232, 286)"
      ]
     },
     "execution_count": 33,
     "metadata": {},
     "output_type": "execute_result"
    }
   ],
   "source": [
    "final.shape"
   ]
  },
  {
   "cell_type": "code",
   "execution_count": 96,
   "metadata": {
    "collapsed": true
   },
   "outputs": [],
   "source": [
    "Description = pd.DataFrame(final.dtypes).reset_index().rename(columns={'index':'Column_Name',0:'Dtype'})"
   ]
  },
  {
   "cell_type": "code",
   "execution_count": 97,
   "metadata": {
    "collapsed": true
   },
   "outputs": [],
   "source": [
    "Description.to_csv(r'table_description.csv')"
   ]
  },
  {
   "cell_type": "code",
   "execution_count": 34,
   "metadata": {
    "collapsed": true
   },
   "outputs": [],
   "source": [
    "final.to_csv(r'finalized_Data.csv')"
   ]
  },
  {
   "cell_type": "code",
   "execution_count": 35,
   "metadata": {},
   "outputs": [
    {
     "data": {
      "text/html": [
       "<div>\n",
       "<table border=\"1\" class=\"dataframe\">\n",
       "  <thead>\n",
       "    <tr style=\"text-align: right;\">\n",
       "      <th></th>\n",
       "      <th>File</th>\n",
       "      <th>elect</th>\n",
       "      <th>military</th>\n",
       "      <th>APD</th>\n",
       "      <th>Prof</th>\n",
       "      <th>female</th>\n",
       "      <th>CC</th>\n",
       "      <th>SC-AJ</th>\n",
       "      <th>SC</th>\n",
       "      <th>SC-AJ &amp; SC</th>\n",
       "      <th>...</th>\n",
       "      <th>type_crime_welfare fraud</th>\n",
       "      <th>type_crime_nan</th>\n",
       "      <th>degree_crime_fifth</th>\n",
       "      <th>degree_crime_first</th>\n",
       "      <th>degree_crime_fourth</th>\n",
       "      <th>degree_crime_second</th>\n",
       "      <th>degree_crime_seventh</th>\n",
       "      <th>degree_crime_sixth</th>\n",
       "      <th>degree_crime_third</th>\n",
       "      <th>degree_crime_nan</th>\n",
       "    </tr>\n",
       "  </thead>\n",
       "  <tbody>\n",
       "    <tr>\n",
       "      <th>0</th>\n",
       "      <td>2009_08295.htm.txt</td>\n",
       "      <td>0</td>\n",
       "      <td>0</td>\n",
       "      <td>0</td>\n",
       "      <td>0</td>\n",
       "      <td>0</td>\n",
       "      <td>0</td>\n",
       "      <td>0</td>\n",
       "      <td>0</td>\n",
       "      <td>0</td>\n",
       "      <td>...</td>\n",
       "      <td>0</td>\n",
       "      <td>1</td>\n",
       "      <td>0</td>\n",
       "      <td>0</td>\n",
       "      <td>0</td>\n",
       "      <td>0</td>\n",
       "      <td>0</td>\n",
       "      <td>0</td>\n",
       "      <td>0</td>\n",
       "      <td>1</td>\n",
       "    </tr>\n",
       "    <tr>\n",
       "      <th>1</th>\n",
       "      <td>2009_08317.htm.txt</td>\n",
       "      <td>0</td>\n",
       "      <td>0</td>\n",
       "      <td>0</td>\n",
       "      <td>0</td>\n",
       "      <td>0</td>\n",
       "      <td>0</td>\n",
       "      <td>0</td>\n",
       "      <td>0</td>\n",
       "      <td>0</td>\n",
       "      <td>...</td>\n",
       "      <td>0</td>\n",
       "      <td>0</td>\n",
       "      <td>0</td>\n",
       "      <td>1</td>\n",
       "      <td>0</td>\n",
       "      <td>0</td>\n",
       "      <td>0</td>\n",
       "      <td>0</td>\n",
       "      <td>0</td>\n",
       "      <td>0</td>\n",
       "    </tr>\n",
       "    <tr>\n",
       "      <th>2</th>\n",
       "      <td>2010_03986.htm.txt</td>\n",
       "      <td>0</td>\n",
       "      <td>0</td>\n",
       "      <td>0</td>\n",
       "      <td>0</td>\n",
       "      <td>0</td>\n",
       "      <td>0</td>\n",
       "      <td>0</td>\n",
       "      <td>0</td>\n",
       "      <td>0</td>\n",
       "      <td>...</td>\n",
       "      <td>0</td>\n",
       "      <td>1</td>\n",
       "      <td>0</td>\n",
       "      <td>0</td>\n",
       "      <td>0</td>\n",
       "      <td>0</td>\n",
       "      <td>0</td>\n",
       "      <td>0</td>\n",
       "      <td>0</td>\n",
       "      <td>1</td>\n",
       "    </tr>\n",
       "    <tr>\n",
       "      <th>3</th>\n",
       "      <td>2010_08289.htm.txt</td>\n",
       "      <td>0</td>\n",
       "      <td>0</td>\n",
       "      <td>0</td>\n",
       "      <td>0</td>\n",
       "      <td>0</td>\n",
       "      <td>0</td>\n",
       "      <td>0</td>\n",
       "      <td>0</td>\n",
       "      <td>0</td>\n",
       "      <td>...</td>\n",
       "      <td>0</td>\n",
       "      <td>1</td>\n",
       "      <td>0</td>\n",
       "      <td>0</td>\n",
       "      <td>0</td>\n",
       "      <td>0</td>\n",
       "      <td>0</td>\n",
       "      <td>0</td>\n",
       "      <td>0</td>\n",
       "      <td>1</td>\n",
       "    </tr>\n",
       "    <tr>\n",
       "      <th>4</th>\n",
       "      <td>2011_00826.htm.txt</td>\n",
       "      <td>0</td>\n",
       "      <td>0</td>\n",
       "      <td>0</td>\n",
       "      <td>0</td>\n",
       "      <td>0</td>\n",
       "      <td>0</td>\n",
       "      <td>0</td>\n",
       "      <td>0</td>\n",
       "      <td>0</td>\n",
       "      <td>...</td>\n",
       "      <td>0</td>\n",
       "      <td>0</td>\n",
       "      <td>0</td>\n",
       "      <td>0</td>\n",
       "      <td>0</td>\n",
       "      <td>0</td>\n",
       "      <td>0</td>\n",
       "      <td>0</td>\n",
       "      <td>1</td>\n",
       "      <td>0</td>\n",
       "    </tr>\n",
       "  </tbody>\n",
       "</table>\n",
       "<p>5 rows × 286 columns</p>\n",
       "</div>"
      ],
      "text/plain": [
       "                 File  elect  military  APD  Prof  female  CC  SC-AJ  SC  \\\n",
       "0  2009_08295.htm.txt      0         0    0     0       0   0      0   0   \n",
       "1  2009_08317.htm.txt      0         0    0     0       0   0      0   0   \n",
       "2  2010_03986.htm.txt      0         0    0     0       0   0      0   0   \n",
       "3  2010_08289.htm.txt      0         0    0     0       0   0      0   0   \n",
       "4  2011_00826.htm.txt      0         0    0     0       0   0      0   0   \n",
       "\n",
       "   SC-AJ & SC        ...         type_crime_welfare fraud  type_crime_nan  \\\n",
       "0           0        ...                                0               1   \n",
       "1           0        ...                                0               0   \n",
       "2           0        ...                                0               1   \n",
       "3           0        ...                                0               1   \n",
       "4           0        ...                                0               0   \n",
       "\n",
       "   degree_crime_fifth  degree_crime_first  degree_crime_fourth  \\\n",
       "0                   0                   0                    0   \n",
       "1                   0                   1                    0   \n",
       "2                   0                   0                    0   \n",
       "3                   0                   0                    0   \n",
       "4                   0                   0                    0   \n",
       "\n",
       "   degree_crime_second  degree_crime_seventh  degree_crime_sixth  \\\n",
       "0                    0                     0                   0   \n",
       "1                    0                     0                   0   \n",
       "2                    0                     0                   0   \n",
       "3                    0                     0                   0   \n",
       "4                    0                     0                   0   \n",
       "\n",
       "   degree_crime_third  degree_crime_nan  \n",
       "0                   0                 1  \n",
       "1                   0                 0  \n",
       "2                   0                 1  \n",
       "3                   0                 1  \n",
       "4                   1                 0  \n",
       "\n",
       "[5 rows x 286 columns]"
      ]
     },
     "execution_count": 35,
     "metadata": {},
     "output_type": "execute_result"
    }
   ],
   "source": [
    "final.head(5)"
   ]
  },
  {
   "cell_type": "code",
   "execution_count": null,
   "metadata": {},
   "outputs": [],
   "source": []
  },
  {
   "cell_type": "code",
   "execution_count": null,
   "metadata": {
    "collapsed": true
   },
   "outputs": [],
   "source": []
  }
 ],
 "metadata": {
  "kernelspec": {
   "display_name": "Python 3",
   "language": "python",
   "name": "python3"
  },
  "language_info": {
   "codemirror_mode": {
    "name": "ipython",
    "version": 3
   },
   "file_extension": ".py",
   "mimetype": "text/x-python",
   "name": "python",
   "nbconvert_exporter": "python",
   "pygments_lexer": "ipython3",
   "version": "3.6.0"
  }
 },
 "nbformat": 4,
 "nbformat_minor": 2
}
