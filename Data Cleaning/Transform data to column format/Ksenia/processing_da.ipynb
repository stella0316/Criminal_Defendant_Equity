{
 "cells": [
  {
   "cell_type": "code",
   "execution_count": 1,
   "metadata": {
    "collapsed": true
   },
   "outputs": [],
   "source": [
    "import pandas as pd"
   ]
  },
  {
   "cell_type": "code",
   "execution_count": 2,
   "metadata": {
    "collapsed": true
   },
   "outputs": [],
   "source": [
    "da = pd.read_csv('clean_DA.csv')"
   ]
  },
  {
   "cell_type": "code",
   "execution_count": 4,
   "metadata": {},
   "outputs": [
    {
     "data": {
      "text/html": [
       "<div>\n",
       "<style>\n",
       "    .dataframe thead tr:only-child th {\n",
       "        text-align: right;\n",
       "    }\n",
       "\n",
       "    .dataframe thead th {\n",
       "        text-align: left;\n",
       "    }\n",
       "\n",
       "    .dataframe tbody tr th {\n",
       "        vertical-align: top;\n",
       "    }\n",
       "</style>\n",
       "<table border=\"1\" class=\"dataframe\">\n",
       "  <thead>\n",
       "    <tr style=\"text-align: right;\">\n",
       "      <th></th>\n",
       "      <th>Unnamed: 0</th>\n",
       "      <th>da_last_name</th>\n",
       "      <th>start year</th>\n",
       "      <th>left office</th>\n",
       "      <th>female</th>\n",
       "      <th>black</th>\n",
       "      <th>county</th>\n",
       "      <th>1976</th>\n",
       "      <th>1977</th>\n",
       "      <th>1978</th>\n",
       "      <th>...</th>\n",
       "      <th>2008-contested</th>\n",
       "      <th>2009-contested</th>\n",
       "      <th>2010-contested</th>\n",
       "      <th>2011-contested</th>\n",
       "      <th>2012-contested</th>\n",
       "      <th>2013-contested</th>\n",
       "      <th>2014-contested</th>\n",
       "      <th>2015-contested</th>\n",
       "      <th>Unnamed: 64</th>\n",
       "      <th>university</th>\n",
       "    </tr>\n",
       "  </thead>\n",
       "  <tbody>\n",
       "    <tr>\n",
       "      <th>0</th>\n",
       "      <td>0</td>\n",
       "      <td>Soares</td>\n",
       "      <td>2004.0</td>\n",
       "      <td>NaN</td>\n",
       "      <td>0</td>\n",
       "      <td>1</td>\n",
       "      <td>Albany</td>\n",
       "      <td>0</td>\n",
       "      <td>0</td>\n",
       "      <td>0</td>\n",
       "      <td>...</td>\n",
       "      <td>0</td>\n",
       "      <td>0</td>\n",
       "      <td>0</td>\n",
       "      <td>0</td>\n",
       "      <td>0</td>\n",
       "      <td>0</td>\n",
       "      <td>0</td>\n",
       "      <td>0</td>\n",
       "      <td>NaN</td>\n",
       "      <td>albany</td>\n",
       "    </tr>\n",
       "    <tr>\n",
       "      <th>1</th>\n",
       "      <td>1</td>\n",
       "      <td>Clyne</td>\n",
       "      <td>2000.0</td>\n",
       "      <td>2004.0</td>\n",
       "      <td>0</td>\n",
       "      <td>0</td>\n",
       "      <td>Albany</td>\n",
       "      <td>0</td>\n",
       "      <td>0</td>\n",
       "      <td>0</td>\n",
       "      <td>...</td>\n",
       "      <td>0</td>\n",
       "      <td>0</td>\n",
       "      <td>0</td>\n",
       "      <td>0</td>\n",
       "      <td>0</td>\n",
       "      <td>0</td>\n",
       "      <td>0</td>\n",
       "      <td>0</td>\n",
       "      <td>NaN</td>\n",
       "      <td>albany</td>\n",
       "    </tr>\n",
       "  </tbody>\n",
       "</table>\n",
       "<p>2 rows × 66 columns</p>\n",
       "</div>"
      ],
      "text/plain": [
       "   Unnamed: 0 da_last_name  start year  left office  female  black  county  \\\n",
       "0           0       Soares      2004.0          NaN       0      1  Albany   \n",
       "1           1        Clyne      2000.0       2004.0       0      0  Albany   \n",
       "\n",
       "   1976  1977  1978     ...      2008-contested  2009-contested  \\\n",
       "0     0     0     0     ...                   0               0   \n",
       "1     0     0     0     ...                   0               0   \n",
       "\n",
       "   2010-contested  2011-contested  2012-contested  2013-contested  \\\n",
       "0               0               0               0               0   \n",
       "1               0               0               0               0   \n",
       "\n",
       "   2014-contested  2015-contested  Unnamed: 64  university  \n",
       "0               0               0          NaN      albany  \n",
       "1               0               0          NaN      albany  \n",
       "\n",
       "[2 rows x 66 columns]"
      ]
     },
     "execution_count": 4,
     "metadata": {},
     "output_type": "execute_result"
    }
   ],
   "source": [
    "da.head(2)"
   ]
  },
  {
   "cell_type": "code",
   "execution_count": 5,
   "metadata": {},
   "outputs": [
    {
     "data": {
      "text/plain": [
       "array(['Unnamed: 0', 'da_last_name', 'start year', 'left office',\n",
       "       'female', 'black', 'county', '1976', '1977', '1978', '1980',\n",
       "       '1981', '1982', '1983', '1985', '1986', '1987', '1988', '1989',\n",
       "       '1990', '1991', '1992', '1993', '1994', '1995', '1996', '1997',\n",
       "       '1998', '1999', '2000', '2001', '2002', '2003', '2004', '2005',\n",
       "       '2006', '2007', '2008', '2009', '2010', '2011', '2012', '2013',\n",
       "       '2014', '2015', '2016', '2017', 'graduation', '1997-contested',\n",
       "       '1999-contested', '2000-contested', '2001-contested',\n",
       "       '2003-contested', '2004-contested', '2005-contested',\n",
       "       '2007-contested', '2008-contested', '2009-contested',\n",
       "       '2010-contested', '2011-contested', '2012-contested',\n",
       "       '2013-contested', '2014-contested', '2015-contested',\n",
       "       'Unnamed: 64', 'university'], dtype=object)"
      ]
     },
     "execution_count": 5,
     "metadata": {},
     "output_type": "execute_result"
    }
   ],
   "source": [
    "da.columns.values"
   ]
  },
  {
   "cell_type": "code",
   "execution_count": 10,
   "metadata": {
    "collapsed": true
   },
   "outputs": [],
   "source": [
    "years = da.iloc[:,8:47]"
   ]
  },
  {
   "cell_type": "code",
   "execution_count": 12,
   "metadata": {},
   "outputs": [],
   "source": [
    "years.drop('2017',axis=1,inplace=True)"
   ]
  },
  {
   "cell_type": "code",
   "execution_count": 46,
   "metadata": {},
   "outputs": [],
   "source": [
    "contested = da.iloc[:,49:-2]"
   ]
  },
  {
   "cell_type": "code",
   "execution_count": 50,
   "metadata": {
    "collapsed": true
   },
   "outputs": [],
   "source": [
    "def binary_to_categorical(df):\n",
    "    '''\n",
    "    Convert binary features into a single string entry\n",
    "    '''\n",
    "    \n",
    "    num_entries = df.shape[0]\n",
    "    output = []\n",
    "    \n",
    "    for i in range(num_entries):\n",
    "        row = df.iloc[i,:]\n",
    "        out_row = ','.join(row[row==1].index.tolist()).replace('-contested','')\n",
    "        output.append(out_row)\n",
    "        \n",
    "    return output"
   ]
  },
  {
   "cell_type": "code",
   "execution_count": 43,
   "metadata": {},
   "outputs": [],
   "source": [
    "years_cat = binary_to_categorical(years)"
   ]
  },
  {
   "cell_type": "code",
   "execution_count": 51,
   "metadata": {},
   "outputs": [],
   "source": [
    "contested_cat = binary_to_categorical(contested)"
   ]
  },
  {
   "cell_type": "code",
   "execution_count": 54,
   "metadata": {},
   "outputs": [],
   "source": [
    "da_feat = da[['da_last_name','start year','left office','female','black','county','university']]"
   ]
  },
  {
   "cell_type": "code",
   "execution_count": 58,
   "metadata": {},
   "outputs": [],
   "source": [
    "da_out = pd.concat([da_feat,years],axis=1)"
   ]
  },
  {
   "cell_type": "code",
   "execution_count": 67,
   "metadata": {},
   "outputs": [],
   "source": [
    "da_keys = pd.read_csv('da_last_name_dictionary.csv',names=['DA_name','da_last_name'])"
   ]
  },
  {
   "cell_type": "code",
   "execution_count": 69,
   "metadata": {},
   "outputs": [],
   "source": [
    "merged = da_out.merge(da_keys, how='right',on='da_last_name')"
   ]
  },
  {
   "cell_type": "code",
   "execution_count": 73,
   "metadata": {
    "collapsed": true
   },
   "outputs": [],
   "source": [
    "merged.to_csv('DA_original_keys.csv')"
   ]
  }
 ],
 "metadata": {
  "kernelspec": {
   "display_name": "Python 3",
   "language": "python",
   "name": "python3"
  },
  "language_info": {
   "codemirror_mode": {
    "name": "ipython",
    "version": 3
   },
   "file_extension": ".py",
   "mimetype": "text/x-python",
   "name": "python",
   "nbconvert_exporter": "python",
   "pygments_lexer": "ipython3",
   "version": "3.6.1"
  }
 },
 "nbformat": 4,
 "nbformat_minor": 2
}
