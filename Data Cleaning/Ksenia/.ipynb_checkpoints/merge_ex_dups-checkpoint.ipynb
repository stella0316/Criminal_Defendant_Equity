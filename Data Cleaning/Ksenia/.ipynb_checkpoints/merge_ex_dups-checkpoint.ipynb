{
 "cells": [
  {
   "cell_type": "code",
   "execution_count": 1,
   "metadata": {
    "collapsed": true
   },
   "outputs": [],
   "source": [
    "import pandas as pd"
   ]
  },
  {
   "cell_type": "code",
   "execution_count": 3,
   "metadata": {},
   "outputs": [],
   "source": [
    "da = pd.read_csv('final_DA_key.csv')"
   ]
  },
  {
   "cell_type": "code",
   "execution_count": 5,
   "metadata": {},
   "outputs": [],
   "source": [
    "mode_grounds = pd.read_csv('exdup_mode_gounds.csv')"
   ]
  },
  {
   "cell_type": "code",
   "execution_count": 6,
   "metadata": {
    "collapsed": true
   },
   "outputs": [],
   "source": [
    "main = pd.read_csv('../Jie/data_add_crime_unanimous_appellant_dummies_dedup.csv')"
   ]
  },
  {
   "cell_type": "code",
   "execution_count": 7,
   "metadata": {
    "collapsed": true
   },
   "outputs": [],
   "source": [
    "merge1= main.merge(da, on='File', how='left')"
   ]
  },
  {
   "cell_type": "code",
   "execution_count": 8,
   "metadata": {
    "collapsed": true
   },
   "outputs": [],
   "source": [
    "merge2 = merge1.merge(mode_grounds, on='File', how='left')"
   ]
  },
  {
   "cell_type": "code",
   "execution_count": 9,
   "metadata": {},
   "outputs": [
    {
     "data": {
      "text/html": [
       "<div>\n",
       "<style>\n",
       "    .dataframe thead tr:only-child th {\n",
       "        text-align: right;\n",
       "    }\n",
       "\n",
       "    .dataframe thead th {\n",
       "        text-align: left;\n",
       "    }\n",
       "\n",
       "    .dataframe tbody tr th {\n",
       "        vertical-align: top;\n",
       "    }\n",
       "</style>\n",
       "<table border=\"1\" class=\"dataframe\">\n",
       "  <thead>\n",
       "    <tr style=\"text-align: right;\">\n",
       "      <th></th>\n",
       "      <th>Unnamed: 0_x</th>\n",
       "      <th>File</th>\n",
       "      <th>CaseName</th>\n",
       "      <th>CivilKriminal</th>\n",
       "      <th>Court</th>\n",
       "      <th>County</th>\n",
       "      <th>Judge</th>\n",
       "      <th>DistrictAttorney_x</th>\n",
       "      <th>ADA</th>\n",
       "      <th>Keywords</th>\n",
       "      <th>...</th>\n",
       "      <th>coerce</th>\n",
       "      <th>ineffective counsel</th>\n",
       "      <th>double jeopardy</th>\n",
       "      <th>speedy</th>\n",
       "      <th>coercion</th>\n",
       "      <th>youth</th>\n",
       "      <th>incapac</th>\n",
       "      <th>resentenc</th>\n",
       "      <th>juror</th>\n",
       "      <th>mental</th>\n",
       "    </tr>\n",
       "  </thead>\n",
       "  <tbody>\n",
       "    <tr>\n",
       "      <th>0</th>\n",
       "      <td>0</td>\n",
       "      <td>2009_08295.htm.txt</td>\n",
       "      <td>NaN</td>\n",
       "      <td>K</td>\n",
       "      <td>County Court</td>\n",
       "      <td>Niagara County</td>\n",
       "      <td>Peter L. Broderick, Sr., J.</td>\n",
       "      <td>Michael J. Violante</td>\n",
       "      <td>Thomas H. Brandt</td>\n",
       "      <td>affirmed</td>\n",
       "      <td>...</td>\n",
       "      <td>NaN</td>\n",
       "      <td>NaN</td>\n",
       "      <td>NaN</td>\n",
       "      <td>NaN</td>\n",
       "      <td>NaN</td>\n",
       "      <td>NaN</td>\n",
       "      <td>NaN</td>\n",
       "      <td>NaN</td>\n",
       "      <td>NaN</td>\n",
       "      <td>NaN</td>\n",
       "    </tr>\n",
       "    <tr>\n",
       "      <th>1</th>\n",
       "      <td>1</td>\n",
       "      <td>2009_08296.htm.txt</td>\n",
       "      <td>NaN</td>\n",
       "      <td>K</td>\n",
       "      <td>County Court</td>\n",
       "      <td>Oneida County</td>\n",
       "      <td>Michael L. Dwyer, J.</td>\n",
       "      <td>Scott D. McNamara</td>\n",
       "      <td>Steven G. Cox</td>\n",
       "      <td>affirmed;interest of justice</td>\n",
       "      <td>...</td>\n",
       "      <td>0.0</td>\n",
       "      <td>0.0</td>\n",
       "      <td>0.0</td>\n",
       "      <td>0.0</td>\n",
       "      <td>0.0</td>\n",
       "      <td>0.0</td>\n",
       "      <td>0.0</td>\n",
       "      <td>0.0</td>\n",
       "      <td>0.0</td>\n",
       "      <td>0.0</td>\n",
       "    </tr>\n",
       "    <tr>\n",
       "      <th>2</th>\n",
       "      <td>2</td>\n",
       "      <td>2009_08297.htm.txt</td>\n",
       "      <td>NaN</td>\n",
       "      <td>K</td>\n",
       "      <td>County Court</td>\n",
       "      <td>Onondaga County</td>\n",
       "      <td>Joseph E. Fahey, J.</td>\n",
       "      <td>William J. Fitzpatrick</td>\n",
       "      <td>Victoria M. White</td>\n",
       "      <td>affirmed;modified;interest of justice</td>\n",
       "      <td>...</td>\n",
       "      <td>0.0</td>\n",
       "      <td>0.0</td>\n",
       "      <td>0.0</td>\n",
       "      <td>0.0</td>\n",
       "      <td>1.0</td>\n",
       "      <td>0.0</td>\n",
       "      <td>0.0</td>\n",
       "      <td>0.0</td>\n",
       "      <td>0.0</td>\n",
       "      <td>0.0</td>\n",
       "    </tr>\n",
       "    <tr>\n",
       "      <th>3</th>\n",
       "      <td>3</td>\n",
       "      <td>2009_08298.htm.txt</td>\n",
       "      <td>NaN</td>\n",
       "      <td>K</td>\n",
       "      <td>County Court</td>\n",
       "      <td>Niagara County</td>\n",
       "      <td>Angelo J. Morinello, A.J.</td>\n",
       "      <td>NaN</td>\n",
       "      <td>NaN</td>\n",
       "      <td>affirmed</td>\n",
       "      <td>...</td>\n",
       "      <td>NaN</td>\n",
       "      <td>NaN</td>\n",
       "      <td>NaN</td>\n",
       "      <td>NaN</td>\n",
       "      <td>NaN</td>\n",
       "      <td>NaN</td>\n",
       "      <td>NaN</td>\n",
       "      <td>NaN</td>\n",
       "      <td>NaN</td>\n",
       "      <td>NaN</td>\n",
       "    </tr>\n",
       "    <tr>\n",
       "      <th>4</th>\n",
       "      <td>4</td>\n",
       "      <td>2009_08311.htm.txt</td>\n",
       "      <td>NaN</td>\n",
       "      <td>K</td>\n",
       "      <td>County Court</td>\n",
       "      <td>Onondaga County</td>\n",
       "      <td>Joseph E. Fahey, J.</td>\n",
       "      <td>William J. Fitzpatrick</td>\n",
       "      <td>James P. Maxwell</td>\n",
       "      <td>affirmed;dismissed;interest of justice</td>\n",
       "      <td>...</td>\n",
       "      <td>0.0</td>\n",
       "      <td>0.0</td>\n",
       "      <td>0.0</td>\n",
       "      <td>1.0</td>\n",
       "      <td>0.0</td>\n",
       "      <td>0.0</td>\n",
       "      <td>0.0</td>\n",
       "      <td>0.0</td>\n",
       "      <td>0.0</td>\n",
       "      <td>0.0</td>\n",
       "    </tr>\n",
       "  </tbody>\n",
       "</table>\n",
       "<p>5 rows × 183 columns</p>\n",
       "</div>"
      ],
      "text/plain": [
       "   Unnamed: 0_x                File  CaseName CivilKriminal         Court  \\\n",
       "0             0  2009_08295.htm.txt       NaN             K  County Court   \n",
       "1             1  2009_08296.htm.txt       NaN             K  County Court   \n",
       "2             2  2009_08297.htm.txt       NaN             K  County Court   \n",
       "3             3  2009_08298.htm.txt       NaN             K  County Court   \n",
       "4             4  2009_08311.htm.txt       NaN             K  County Court   \n",
       "\n",
       "            County                        Judge      DistrictAttorney_x  \\\n",
       "0   Niagara County  Peter L. Broderick, Sr., J.     Michael J. Violante   \n",
       "1    Oneida County         Michael L. Dwyer, J.       Scott D. McNamara   \n",
       "2  Onondaga County          Joseph E. Fahey, J.  William J. Fitzpatrick   \n",
       "3   Niagara County    Angelo J. Morinello, A.J.                     NaN   \n",
       "4  Onondaga County          Joseph E. Fahey, J.  William J. Fitzpatrick   \n",
       "\n",
       "                 ADA                                Keywords  ...   coerce  \\\n",
       "0   Thomas H. Brandt                                affirmed  ...      NaN   \n",
       "1      Steven G. Cox            affirmed;interest of justice  ...      0.0   \n",
       "2  Victoria M. White   affirmed;modified;interest of justice  ...      0.0   \n",
       "3                NaN                                affirmed  ...      NaN   \n",
       "4   James P. Maxwell  affirmed;dismissed;interest of justice  ...      0.0   \n",
       "\n",
       "   ineffective counsel double jeopardy speedy coercion youth incapac  \\\n",
       "0                  NaN             NaN    NaN      NaN   NaN     NaN   \n",
       "1                  0.0             0.0    0.0      0.0   0.0     0.0   \n",
       "2                  0.0             0.0    0.0      1.0   0.0     0.0   \n",
       "3                  NaN             NaN    NaN      NaN   NaN     NaN   \n",
       "4                  0.0             0.0    1.0      0.0   0.0     0.0   \n",
       "\n",
       "  resentenc juror mental  \n",
       "0       NaN   NaN    NaN  \n",
       "1       0.0   0.0    0.0  \n",
       "2       0.0   0.0    0.0  \n",
       "3       NaN   NaN    NaN  \n",
       "4       0.0   0.0    0.0  \n",
       "\n",
       "[5 rows x 183 columns]"
      ]
     },
     "execution_count": 9,
     "metadata": {},
     "output_type": "execute_result"
    }
   ],
   "source": [
    "merge2.head()"
   ]
  },
  {
   "cell_type": "code",
   "execution_count": 17,
   "metadata": {
    "collapsed": true
   },
   "outputs": [],
   "source": [
    "merge2.drop('Unnamed: 0',axis=1, inplace=True)"
   ]
  },
  {
   "cell_type": "code",
   "execution_count": 26,
   "metadata": {},
   "outputs": [],
   "source": [
    "merge2.rename({'DistrictAttorney_x':'DistrictAttorney'},inplace=True)"
   ]
  },
  {
   "cell_type": "code",
   "execution_count": 31,
   "metadata": {},
   "outputs": [
    {
     "data": {
      "text/plain": [
       "0"
      ]
     },
     "execution_count": 31,
     "metadata": {},
     "output_type": "execute_result"
    }
   ],
   "source": [
    "sum(merge2.duplicated('File'))"
   ]
  },
  {
   "cell_type": "code",
   "execution_count": 32,
   "metadata": {},
   "outputs": [
    {
     "data": {
      "text/plain": [
       "35232"
      ]
     },
     "execution_count": 32,
     "metadata": {},
     "output_type": "execute_result"
    }
   ],
   "source": [
    "merge2.shape[0]"
   ]
  },
  {
   "cell_type": "code",
   "execution_count": 28,
   "metadata": {
    "collapsed": true
   },
   "outputs": [],
   "source": [
    "merge2.to_csv('da_mode_grounds_data_add_crime_unanimous_appellant_dummies_dedup.csv')"
   ]
  }
 ],
 "metadata": {
  "kernelspec": {
   "display_name": "Python 3",
   "language": "python",
   "name": "python3"
  },
  "language_info": {
   "codemirror_mode": {
    "name": "ipython",
    "version": 3
   },
   "file_extension": ".py",
   "mimetype": "text/x-python",
   "name": "python",
   "nbconvert_exporter": "python",
   "pygments_lexer": "ipython3",
   "version": "3.6.1"
  }
 },
 "nbformat": 4,
 "nbformat_minor": 2
}
