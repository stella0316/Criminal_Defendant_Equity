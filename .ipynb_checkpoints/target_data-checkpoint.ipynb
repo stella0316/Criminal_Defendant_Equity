{
 "cells": [
  {
   "cell_type": "code",
   "execution_count": 26,
   "metadata": {
    "collapsed": true
   },
   "outputs": [],
   "source": [
    "import pandas as pd\n",
    "import numpy as np"
   ]
  },
  {
   "cell_type": "code",
   "execution_count": 7,
   "metadata": {},
   "outputs": [],
   "source": [
    "raw_data = pd.read_csv('Raw Data/raw_criminal.csv')"
   ]
  },
  {
   "cell_type": "code",
   "execution_count": 16,
   "metadata": {},
   "outputs": [
    {
     "data": {
      "text/plain": [
       "36731"
      ]
     },
     "execution_count": 16,
     "metadata": {},
     "output_type": "execute_result"
    }
   ],
   "source": [
    "raw_data.shape[0]"
   ]
  },
  {
   "cell_type": "code",
   "execution_count": 8,
   "metadata": {},
   "outputs": [
    {
     "data": {
      "text/html": [
       "<div>\n",
       "<style>\n",
       "    .dataframe thead tr:only-child th {\n",
       "        text-align: right;\n",
       "    }\n",
       "\n",
       "    .dataframe thead th {\n",
       "        text-align: left;\n",
       "    }\n",
       "\n",
       "    .dataframe tbody tr th {\n",
       "        vertical-align: top;\n",
       "    }\n",
       "</style>\n",
       "<table border=\"1\" class=\"dataframe\">\n",
       "  <thead>\n",
       "    <tr style=\"text-align: right;\">\n",
       "      <th></th>\n",
       "      <th>Unnamed: 0</th>\n",
       "      <th>File</th>\n",
       "      <th>Casenumber</th>\n",
       "      <th>CaseName</th>\n",
       "      <th>CivilKriminal</th>\n",
       "      <th>Court</th>\n",
       "      <th>County</th>\n",
       "      <th>Judge</th>\n",
       "      <th>DistrictAttorney</th>\n",
       "      <th>ADA</th>\n",
       "      <th>...</th>\n",
       "      <th>ModeOfConviction</th>\n",
       "      <th>Crimes</th>\n",
       "      <th>Judges</th>\n",
       "      <th>Defense</th>\n",
       "      <th>DefendantAppellant</th>\n",
       "      <th>DefendantRespondent</th>\n",
       "      <th>HarmlessError</th>\n",
       "      <th>ProsecutMisconduct</th>\n",
       "      <th>DocumentLength</th>\n",
       "      <th>Justice</th>\n",
       "    </tr>\n",
       "  </thead>\n",
       "  <tbody>\n",
       "    <tr>\n",
       "      <th>0</th>\n",
       "      <td>1</td>\n",
       "      <td>2009_08295.htm.txt</td>\n",
       "      <td>[67 AD3d 1368]</td>\n",
       "      <td>NaN</td>\n",
       "      <td>K</td>\n",
       "      <td>County Court</td>\n",
       "      <td>Niagara County</td>\n",
       "      <td>Peter L. Broderick, Sr., J.</td>\n",
       "      <td>Michael J. Violante</td>\n",
       "      <td>Thomas H. Brandt</td>\n",
       "      <td>...</td>\n",
       "      <td>NaN</td>\n",
       "      <td>NaN</td>\n",
       "      <td>NaN</td>\n",
       "      <td>NaN</td>\n",
       "      <td>1.0</td>\n",
       "      <td>0</td>\n",
       "      <td>NaN</td>\n",
       "      <td>NaN</td>\n",
       "      <td>857.0</td>\n",
       "      <td>NaN</td>\n",
       "    </tr>\n",
       "    <tr>\n",
       "      <th>1</th>\n",
       "      <td>2</td>\n",
       "      <td>2009_08296.htm.txt</td>\n",
       "      <td>[67 AD3d 1369]</td>\n",
       "      <td>NaN</td>\n",
       "      <td>K</td>\n",
       "      <td>County Court</td>\n",
       "      <td>Oneida County</td>\n",
       "      <td>Michael L. Dwyer, J.</td>\n",
       "      <td>Scott D. McNamara</td>\n",
       "      <td>Steven G. Cox</td>\n",
       "      <td>...</td>\n",
       "      <td>jury verdict</td>\n",
       "      <td>NaN</td>\n",
       "      <td>NaN</td>\n",
       "      <td>NaN</td>\n",
       "      <td>1.0</td>\n",
       "      <td>0</td>\n",
       "      <td>NaN</td>\n",
       "      <td>prosecutorial misconduct</td>\n",
       "      <td>4755.0</td>\n",
       "      <td>interest of justice</td>\n",
       "    </tr>\n",
       "    <tr>\n",
       "      <th>2</th>\n",
       "      <td>3</td>\n",
       "      <td>2009_08297.htm.txt</td>\n",
       "      <td>[67 AD3d 1370]</td>\n",
       "      <td>NaN</td>\n",
       "      <td>K</td>\n",
       "      <td>County Court</td>\n",
       "      <td>Onondaga County</td>\n",
       "      <td>Joseph E. Fahey, J.</td>\n",
       "      <td>William J. Fitzpatrick</td>\n",
       "      <td>Victoria M. White</td>\n",
       "      <td>...</td>\n",
       "      <td>jury verdict</td>\n",
       "      <td>NaN</td>\n",
       "      <td>NaN</td>\n",
       "      <td>Legal Aid Society</td>\n",
       "      <td>1.0</td>\n",
       "      <td>0</td>\n",
       "      <td>NaN</td>\n",
       "      <td>NaN</td>\n",
       "      <td>3951.0</td>\n",
       "      <td>interest of justice</td>\n",
       "    </tr>\n",
       "    <tr>\n",
       "      <th>3</th>\n",
       "      <td>4</td>\n",
       "      <td>2009_08298.htm.txt</td>\n",
       "      <td>[67 AD3d 1372]</td>\n",
       "      <td>NaN</td>\n",
       "      <td>K</td>\n",
       "      <td>County Court</td>\n",
       "      <td>Niagara County</td>\n",
       "      <td>Angelo J. Morinello, A.J.</td>\n",
       "      <td>NaN</td>\n",
       "      <td>NaN</td>\n",
       "      <td>...</td>\n",
       "      <td>NaN</td>\n",
       "      <td>NaN</td>\n",
       "      <td>NaN</td>\n",
       "      <td>NaN</td>\n",
       "      <td>1.0</td>\n",
       "      <td>0</td>\n",
       "      <td>NaN</td>\n",
       "      <td>NaN</td>\n",
       "      <td>853.0</td>\n",
       "      <td>NaN</td>\n",
       "    </tr>\n",
       "    <tr>\n",
       "      <th>4</th>\n",
       "      <td>17</td>\n",
       "      <td>2009_08311.htm.txt</td>\n",
       "      <td>[67 AD3d 1378]</td>\n",
       "      <td>NaN</td>\n",
       "      <td>K</td>\n",
       "      <td>County Court</td>\n",
       "      <td>Onondaga County</td>\n",
       "      <td>Joseph E. Fahey, J.</td>\n",
       "      <td>William J. Fitzpatrick</td>\n",
       "      <td>James P. Maxwell</td>\n",
       "      <td>...</td>\n",
       "      <td>jury verdict</td>\n",
       "      <td>NaN</td>\n",
       "      <td>NaN</td>\n",
       "      <td>Legal Aid Society</td>\n",
       "      <td>1.0</td>\n",
       "      <td>0</td>\n",
       "      <td>NaN</td>\n",
       "      <td>NaN</td>\n",
       "      <td>4716.0</td>\n",
       "      <td>interest of justice</td>\n",
       "    </tr>\n",
       "  </tbody>\n",
       "</table>\n",
       "<p>5 rows × 26 columns</p>\n",
       "</div>"
      ],
      "text/plain": [
       "   Unnamed: 0                File      Casenumber  CaseName CivilKriminal  \\\n",
       "0           1  2009_08295.htm.txt  [67 AD3d 1368]       NaN             K   \n",
       "1           2  2009_08296.htm.txt  [67 AD3d 1369]       NaN             K   \n",
       "2           3  2009_08297.htm.txt  [67 AD3d 1370]       NaN             K   \n",
       "3           4  2009_08298.htm.txt  [67 AD3d 1372]       NaN             K   \n",
       "4          17  2009_08311.htm.txt  [67 AD3d 1378]       NaN             K   \n",
       "\n",
       "          Court           County                        Judge  \\\n",
       "0  County Court   Niagara County  Peter L. Broderick, Sr., J.   \n",
       "1  County Court    Oneida County         Michael L. Dwyer, J.   \n",
       "2  County Court  Onondaga County          Joseph E. Fahey, J.   \n",
       "3  County Court   Niagara County    Angelo J. Morinello, A.J.   \n",
       "4  County Court  Onondaga County          Joseph E. Fahey, J.   \n",
       "\n",
       "         DistrictAttorney                ADA         ...           \\\n",
       "0     Michael J. Violante   Thomas H. Brandt         ...            \n",
       "1       Scott D. McNamara      Steven G. Cox         ...            \n",
       "2  William J. Fitzpatrick  Victoria M. White         ...            \n",
       "3                     NaN                NaN         ...            \n",
       "4  William J. Fitzpatrick   James P. Maxwell         ...            \n",
       "\n",
       "  ModeOfConviction Crimes  Judges            Defense DefendantAppellant  \\\n",
       "0              NaN    NaN     NaN                NaN                1.0   \n",
       "1     jury verdict    NaN     NaN                NaN                1.0   \n",
       "2     jury verdict    NaN     NaN  Legal Aid Society                1.0   \n",
       "3              NaN    NaN     NaN                NaN                1.0   \n",
       "4     jury verdict    NaN     NaN  Legal Aid Society                1.0   \n",
       "\n",
       "   DefendantRespondent HarmlessError        ProsecutMisconduct DocumentLength  \\\n",
       "0                    0           NaN                       NaN          857.0   \n",
       "1                    0           NaN  prosecutorial misconduct         4755.0   \n",
       "2                    0           NaN                       NaN         3951.0   \n",
       "3                    0           NaN                       NaN          853.0   \n",
       "4                    0           NaN                       NaN         4716.0   \n",
       "\n",
       "               Justice  \n",
       "0                  NaN  \n",
       "1  interest of justice  \n",
       "2  interest of justice  \n",
       "3                  NaN  \n",
       "4  interest of justice  \n",
       "\n",
       "[5 rows x 26 columns]"
      ]
     },
     "execution_count": 8,
     "metadata": {},
     "output_type": "execute_result"
    }
   ],
   "source": [
    "raw_data.head()"
   ]
  },
  {
   "cell_type": "code",
   "execution_count": 9,
   "metadata": {},
   "outputs": [
    {
     "data": {
      "text/plain": [
       "Index(['Unnamed: 0', 'File', 'Casenumber', 'CaseName', 'CivilKriminal',\n",
       "       'Court', 'County', 'Judge', 'DistrictAttorney', 'ADA', 'Keywords',\n",
       "       'GroundsForAppeal', 'Unanimous', 'FirstDate', 'AppealDate', 'Gap_days',\n",
       "       'ModeOfConviction', 'Crimes', 'Judges', 'Defense', 'DefendantAppellant',\n",
       "       'DefendantRespondent', 'HarmlessError', 'ProsecutMisconduct',\n",
       "       'DocumentLength', 'Justice'],\n",
       "      dtype='object')"
      ]
     },
     "execution_count": 9,
     "metadata": {},
     "output_type": "execute_result"
    }
   ],
   "source": [
    "raw_data.columns"
   ]
  },
  {
   "cell_type": "code",
   "execution_count": 10,
   "metadata": {},
   "outputs": [
    {
     "data": {
      "text/plain": [
       "array(['affirmed', 'affirmed;interest of justice',\n",
       "       'affirmed;modified;interest of justice',\n",
       "       'affirmed;dismissed;interest of justice', 'affirmed;plea',\n",
       "       'reversed;plea', 'reversed', 'affirmed;dismissed',\n",
       "       'affirmed;modified;plea', 'affirmed;interest of justice;plea',\n",
       "       'dismissed;plea', 'reversed;dismissed;plea', nan, 'dismissed',\n",
       "       'plea', 'affirmed;reversed;interest of justice',\n",
       "       'affirmed;waiver of appeal;plea', 'affirmed;modified;dismissed',\n",
       "       'affirmed;dismissed;plea', 'affirmed;reversed;plea',\n",
       "       'reversed;interest of justice',\n",
       "       'reversed;dismissed;interest of justice;plea', 'affirmed;modified',\n",
       "       'reversed;dismissed',\n",
       "       'affirmed;modified;dismissed;interest of justice;plea',\n",
       "       'affirmed;modified;dismissed;interest of justice',\n",
       "       'affirmed;modified;interest of justice;waiver of appeal;plea',\n",
       "       'affirmed;modified;interest of justice;plea',\n",
       "       'affirmed;modified;reversed;dismissed',\n",
       "       'affirmed;reversed;dismissed', 'affirmed;modified;reversed',\n",
       "       'reversed;interest of justice;plea', 'affirmed;reversed',\n",
       "       'affirmed;dismissed;interest of justice;plea',\n",
       "       'reversed;interest of justice;waiver of appeal;plea',\n",
       "       'affirmed;dismissed;waiver of appeal;plea',\n",
       "       'reversed;dismissed;interest of justice',\n",
       "       'affirmed;modified;reversed;plea', 'modified',\n",
       "       'affirmed;reversed;dismissed;interest of justice',\n",
       "       'affirmed;modified;dismissed;plea',\n",
       "       'reversed;dismissed;waiver of appeal;plea',\n",
       "       'interest of justice;plea', 'affirmed;reversed;dismissed;plea',\n",
       "       'affirmed;interest of justice;waiver of appeal;plea',\n",
       "       'affirmed;modified;reversed;dismissed;interest of justice',\n",
       "       'affirmed;dismissed;interest of justice;waiver of appeal;plea',\n",
       "       'modified;reversed;plea',\n",
       "       'affirmed;modified;reversed;waiver of appeal;plea',\n",
       "       'affirmed;modified;reversed;dismissed;interest of justice;plea',\n",
       "       'affirmed;waiver of appeal',\n",
       "       'affirmed;modified;dismissed;waiver of appeal;plea',\n",
       "       'affirmed;modified;waiver of appeal;plea',\n",
       "       'affirmed;modified;reversed;interest of justice',\n",
       "       'affirmed;modified;reversed;dismissed;plea',\n",
       "       'affirmed;modified;reversed;interest of justice;plea',\n",
       "       'modified;reversed;dismissed;interest of justice;plea',\n",
       "       'affirmed;reversed;interest of justice;plea',\n",
       "       'modified;interest of justice;plea', 'interest of justice',\n",
       "       'affirmed;reversed;dismissed;interest of justice;plea',\n",
       "       'modified;plea', 'modified;interest of justice',\n",
       "       'waiver of appeal;plea', 'modified;dismissed',\n",
       "       'reversed;waiver of appeal;plea', 'modified;reversed;dismissed',\n",
       "       'dismissed;waiver of appeal;plea',\n",
       "       'modified;reversed;dismissed;plea',\n",
       "       'interest of justice;waiver of appeal;plea',\n",
       "       'affirmed;modified;reversed;dismissed;waiver of appeal;plea',\n",
       "       'dismissed;interest of justice',\n",
       "       'modified;reversed;interest of justice;plea', 'modified;reversed',\n",
       "       'affirmed;reversed;dismissed;waiver of appeal;plea',\n",
       "       'modified;dismissed;plea',\n",
       "       'modified;reversed;dismissed;interest of justice',\n",
       "       'modified;dismissed;interest of justice',\n",
       "       'affirmed;reversed;waiver of appeal;plea',\n",
       "       'dismissed;interest of justice;plea'], dtype=object)"
      ]
     },
     "execution_count": 10,
     "metadata": {},
     "output_type": "execute_result"
    }
   ],
   "source": [
    "#Keyword will be transformed to our target variable\n",
    "raw_data.Keywords.unique()"
   ]
  },
  {
   "cell_type": "code",
   "execution_count": 15,
   "metadata": {},
   "outputs": [
    {
     "data": {
      "text/plain": [
       "2861"
      ]
     },
     "execution_count": 15,
     "metadata": {},
     "output_type": "execute_result"
    }
   ],
   "source": [
    "#missing keyword values\n",
    "raw_data[raw_data.Keywords.isnull()].shape[0]"
   ]
  },
  {
   "cell_type": "code",
   "execution_count": 17,
   "metadata": {
    "collapsed": true
   },
   "outputs": [],
   "source": [
    "working_data = raw_data.copy()"
   ]
  },
  {
   "cell_type": "code",
   "execution_count": 30,
   "metadata": {
    "collapsed": true
   },
   "outputs": [],
   "source": [
    "def create_target(value):\n",
    "    if value not None:\n",
    "        if ''\n",
    "    "
   ]
  },
  {
   "cell_type": "code",
   "execution_count": null,
   "metadata": {
    "collapsed": true
   },
   "outputs": [],
   "source": []
  }
 ],
 "metadata": {
  "kernelspec": {
   "display_name": "Python 3",
   "language": "python",
   "name": "python3"
  },
  "language_info": {
   "codemirror_mode": {
    "name": "ipython",
    "version": 3
   },
   "file_extension": ".py",
   "mimetype": "text/x-python",
   "name": "python",
   "nbconvert_exporter": "python",
   "pygments_lexer": "ipython3",
   "version": "3.6.1"
  }
 },
 "nbformat": 4,
 "nbformat_minor": 2
}
