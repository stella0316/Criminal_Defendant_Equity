{
 "cells": [
  {
   "cell_type": "code",
   "execution_count": 37,
   "metadata": {
    "collapsed": true
   },
   "outputs": [],
   "source": [
    "import pandas as pd\n",
    "from sklearn.neighbors import KNeighborsClassifier\n",
    "from sklearn.model_selection import train_test_split\n",
    "from sklearn.metrics import accuracy_score\n",
    "from sklearn.model_selection import cross_val_score\n",
    "import matplotlib.pyplot as plt\n",
    "from sklearn import preprocessing\n",
    "import numpy as np\n",
    "from sklearn.metrics import confusion_matrix"
   ]
  },
  {
   "cell_type": "code",
   "execution_count": 38,
   "metadata": {
    "collapsed": true
   },
   "outputs": [],
   "source": [
    "df = pd.read_csv(r'../Finalized Data/final_with_doc.csv')"
   ]
  },
  {
   "cell_type": "code",
   "execution_count": 39,
   "metadata": {
    "collapsed": true
   },
   "outputs": [],
   "source": [
    "del df['unanimous']"
   ]
  },
  {
   "cell_type": "code",
   "execution_count": 40,
   "metadata": {
    "collapsed": true
   },
   "outputs": [],
   "source": [
    "del df['File']"
   ]
  },
  {
   "cell_type": "code",
   "execution_count": 41,
   "metadata": {
    "collapsed": true
   },
   "outputs": [],
   "source": [
    "df['days_jail_doc'] = df['days_jail_doc'].apply(lambda x: int(x.split('days')[0]))"
   ]
  },
  {
   "cell_type": "code",
   "execution_count": 42,
   "metadata": {},
   "outputs": [
    {
     "data": {
      "text/plain": [
       "0.7431028610354223"
      ]
     },
     "execution_count": 42,
     "metadata": {},
     "output_type": "execute_result"
    }
   ],
   "source": [
    "1- len(np.where(df['Y'] == 1)[0])/len(df)"
   ]
  },
  {
   "cell_type": "code",
   "execution_count": 43,
   "metadata": {
    "collapsed": true
   },
   "outputs": [],
   "source": [
    "y = df['Y']\n",
    "X = df.loc[:, df.columns != 'Y']"
   ]
  },
  {
   "cell_type": "code",
   "execution_count": 44,
   "metadata": {
    "collapsed": true
   },
   "outputs": [],
   "source": [
    "normalized_X = preprocessing.normalize(X)\n",
    "X_Normalized = pd.DataFrame(normalized_X, columns = X.columns)"
   ]
  },
  {
   "cell_type": "code",
   "execution_count": 9,
   "metadata": {
    "collapsed": true
   },
   "outputs": [],
   "source": [
    "X_train, X_test, y_train, y_test = train_test_split(X_Normalized, y, test_size=0.3,random_state=42)"
   ]
  },
  {
   "cell_type": "markdown",
   "metadata": {},
   "source": [
    "    Baseline KNN Model"
   ]
  },
  {
   "cell_type": "code",
   "execution_count": 20,
   "metadata": {},
   "outputs": [
    {
     "name": "stdout",
     "output_type": "stream",
     "text": [
      "0.766414380322\n"
     ]
    }
   ],
   "source": [
    "# instantiate learning model (k = 3)\n",
    "knn = KNeighborsClassifier(n_neighbors=3)\n",
    "# fitting the model\n",
    "knn.fit(X_train, y_train)\n",
    "# predict the response\n",
    "pred = knn.predict(X_test)\n",
    "# evaluate accuracy\n",
    "print (accuracy_score(y_test, pred))"
   ]
  },
  {
   "cell_type": "code",
   "execution_count": null,
   "metadata": {
    "collapsed": true
   },
   "outputs": [],
   "source": []
  },
  {
   "cell_type": "code",
   "execution_count": 21,
   "metadata": {
    "collapsed": true
   },
   "outputs": [],
   "source": [
    "# creating odd list of K for KNN\n",
    "myList = list(range(1,70))\n",
    "\n",
    "# subsetting just the odd ones\n",
    "neighbors = list(filter(lambda x: x % 2 != 0, myList))\n",
    "\n",
    "# empty list that will hold cv scores\n",
    "cv_scores = []\n",
    "\n",
    "# perform 10-fold cross validation\n",
    "for k in neighbors:\n",
    "    knn = KNeighborsClassifier(n_neighbors=k)\n",
    "    scores = cross_val_score(knn, X_train, y_train, cv=10, scoring='accuracy')\n",
    "    cv_scores.append(scores.mean())"
   ]
  },
  {
   "cell_type": "code",
   "execution_count": 22,
   "metadata": {},
   "outputs": [
    {
     "name": "stdout",
     "output_type": "stream",
     "text": [
      "optimal k : 23\n"
     ]
    }
   ],
   "source": [
    "optimal_k = neighbors[cv_scores.index(max(cv_scores))]\n",
    "print(\"optimal k : %s\" % optimal_k)"
   ]
  },
  {
   "cell_type": "code",
   "execution_count": 23,
   "metadata": {
    "collapsed": true
   },
   "outputs": [],
   "source": [
    "# instantiate learning model (k = 3)\n",
    "knn = KNeighborsClassifier(n_neighbors=optimal_k)\n",
    "# fitting the model\n",
    "knn.fit(X_train, y_train)\n",
    "# predict the response\n",
    "pred = knn.predict(X_test)\n",
    "# evaluate accuracy"
   ]
  },
  {
   "cell_type": "code",
   "execution_count": 24,
   "metadata": {},
   "outputs": [
    {
     "name": "stdout",
     "output_type": "stream",
     "text": [
      "Accuracy: 0.804446546831\n",
      "[[7577 1799]\n",
      " [ 268  926]]\n"
     ]
    }
   ],
   "source": [
    "print(\"Accuracy: %s\" % (accuracy_score(y_test, pred)))\n",
    "cm = confusion_matrix(pred,y_test)\n",
    "print(cm)"
   ]
  },
  {
   "cell_type": "markdown",
   "metadata": {
    "collapsed": true
   },
   "source": [
    "    Understand features"
   ]
  },
  {
   "cell_type": "code",
   "execution_count": 25,
   "metadata": {
    "collapsed": true
   },
   "outputs": [],
   "source": [
    "from scipy.stats import entropy\n",
    "from sklearn.tree import DecisionTreeClassifier\n",
    "from sklearn.metrics import roc_curve, auc"
   ]
  },
  {
   "cell_type": "code",
   "execution_count": 49,
   "metadata": {
    "collapsed": true
   },
   "outputs": [],
   "source": [
    "dt = DecisionTreeClassifier(criterion = 'entropy', max_depth = 20)\n",
    "dt.fit(X_train, y_train)\n",
    "\n",
    "#Now use built in feature importance attribute to get MI of each feature and Y\n",
    "feature_mi = dt.feature_importances_\n",
    "feature_mi_dict = dict(zip(X_train.columns.values, feature_mi))\n"
   ]
  },
  {
   "cell_type": "code",
   "execution_count": 50,
   "metadata": {
    "collapsed": true
   },
   "outputs": [],
   "source": [
    "def FeatureROC(preds, truth, label_string):\n",
    "    '''\n",
    "    preds is an nx1 array of predictions\n",
    "    truth is an nx1 array of truth labels\n",
    "    label_string is text to go into the plotting label\n",
    "    '''\n",
    "    #Student input code here\n",
    "    #1. call the roc_curve function to get the ROC X and Y values\n",
    "    fpr, tpr, thresholds = roc_curve(truth, preds)\n",
    "    #2. Input fpr and tpr into the auc function to get the AUC\n",
    "    roc_auc = auc(fpr, tpr)\n",
    "    \n",
    "    #we are doing this as a special case because we are sending unfitted predictions\n",
    "    #into the function\n",
    "    if roc_auc < 0.5:\n",
    "        fpr, tpr, thresholds = roc_curve(truth, -1 * preds)\n",
    "        roc_auc = auc(fpr, tpr)\n",
    "    \n",
    "    return roc_auc"
   ]
  },
  {
   "cell_type": "code",
   "execution_count": 51,
   "metadata": {
    "collapsed": true
   },
   "outputs": [],
   "source": [
    "feature_auc_dict = {}\n",
    "for col in X_train.columns:\n",
    "    feature_auc_dict[col] = FeatureROC(X_train[col], y_train, col)"
   ]
  },
  {
   "cell_type": "code",
   "execution_count": 52,
   "metadata": {
    "collapsed": true
   },
   "outputs": [],
   "source": [
    "df_auc = pd.DataFrame(pd.Series(feature_auc_dict), columns = ['auc'])\n",
    "df_mi = pd.DataFrame(pd.Series(feature_mi_dict), columns = ['mi'])\n",
    "\n",
    "#Now merge the two on the feature name\n",
    "feat_imp_df = df_auc.merge(df_mi, left_index = True, right_index = True)"
   ]
  },
  {
   "cell_type": "code",
   "execution_count": 102,
   "metadata": {},
   "outputs": [
    {
     "data": {
      "text/plain": [
       "(['CC',\n",
       "  'Gap_days',\n",
       "  'SC-AJ',\n",
       "  'Unanimous',\n",
       "  'a_Friday',\n",
       "  'a_Tuesday',\n",
       "  'contested_nan',\n",
       "  'da_black_nan',\n",
       "  'da_female_nan',\n",
       "  'da_university_nan',\n",
       "  'defense__nan',\n",
       "  'degree_crime_nan',\n",
       "  'election_nan',\n",
       "  'f_Thursday',\n",
       "  'female',\n",
       "  'judge_APD_missing',\n",
       "  'judge_CC_missing',\n",
       "  'judge_Prof_missing',\n",
       "  'judge_SC-AJ & SC_missing',\n",
       "  'judge_SC-AJ_missing',\n",
       "  'judge_SC_missing',\n",
       "  'judge_elect_missing',\n",
       "  'judge_female_missing',\n",
       "  'judge_info_missing',\n",
       "  'judge_law_school_missing',\n",
       "  'judge_military_missing',\n",
       "  'judge_startyear_missing',\n",
       "  'nycourts',\n",
       "  'start year',\n",
       "  'type_crime_nan'],\n",
       " ['AppealD_2008',\n",
       "  'AppealD_month_x',\n",
       "  'AppealD_month_y',\n",
       "  'FirstD_month_x',\n",
       "  'FirstD_month_y',\n",
       "  'Gap_days',\n",
       "  'SC-AJ',\n",
       "  'Unanimous',\n",
       "  'a_Friday',\n",
       "  'a_Monday',\n",
       "  'a_Thursday',\n",
       "  'a_Tuesday',\n",
       "  'a_Wednesday',\n",
       "  'appellant',\n",
       "  'contested_nan',\n",
       "  'da_2005',\n",
       "  'days_jail_doc',\n",
       "  'defense__legal aid society',\n",
       "  'defense__nan',\n",
       "  'degree_crime_nan',\n",
       "  'election_nan',\n",
       "  'f_Friday',\n",
       "  'f_Monday',\n",
       "  'f_Thursday',\n",
       "  'f_Tuesday',\n",
       "  'f_Wednesday',\n",
       "  'judge_info_missing',\n",
       "  'nycourts',\n",
       "  'start year',\n",
       "  'type_crime_nan'])"
      ]
     },
     "execution_count": 102,
     "metadata": {},
     "output_type": "execute_result"
    }
   ],
   "source": [
    "feat_ranks = feat_imp_df.rank(axis = 0, ascending = False)\n",
    "#Now create lists of top 5 features for both auc and mi\n",
    "top5_auc = list(feat_ranks[(feat_ranks.auc <= 30)].index.values)\n",
    "top5_mi = list(feat_ranks[(feat_ranks.mi <= 30)].index.values)\n",
    "top5_auc, top5_mi"
   ]
  },
  {
   "cell_type": "code",
   "execution_count": null,
   "metadata": {
    "collapsed": true
   },
   "outputs": [],
   "source": []
  },
  {
   "cell_type": "code",
   "execution_count": 85,
   "metadata": {},
   "outputs": [
    {
     "name": "stdout",
     "output_type": "stream",
     "text": [
      "Accuracy for uniform: 0.800473036897\n",
      "Accuracy for distance: 0.803405865658\n"
     ]
    }
   ],
   "source": [
    "for weights in ['uniform', 'distance']:\n",
    "    clf = KNeighborsClassifier(n_neighbors=optimal_k, weights=weights)\n",
    "    clf.fit(X_train, y_train)\n",
    "    pred = clf.predict(X_test)\n",
    "    print(\"Accuracy for %s: %s\" % (weights,accuracy_score(y_test, pred)))\n",
    " "
   ]
  },
  {
   "cell_type": "code",
   "execution_count": 77,
   "metadata": {
    "collapsed": true
   },
   "outputs": [],
   "source": [
    "l = ['SC-AJ',\n",
    "  'judge_APD_missing',\n",
    "  'judge_CC_missing',\n",
    "  'judge_Prof_missing',\n",
    "  'judge_SC-AJ & SC_missing',\n",
    "  'judge_SC-AJ_missing',\n",
    "  'judge_SC_missing',\n",
    "  'judge_elect_missing',\n",
    "  'judge_female_missing',\n",
    "  'judge_info_missing',\n",
    "  'judge_law_school_missing',\n",
    "  'judge_military_missing',\n",
    "  'judge_startyear_missing',\n",
    "  'nycourts']\n",
    "\n",
    "X_train_1 = X_train.drop(l,axis = 1)\n",
    "X_test_1 = X_test.drop(l,axis = 1)"
   ]
  },
  {
   "cell_type": "code",
   "execution_count": null,
   "metadata": {},
   "outputs": [],
   "source": []
  },
  {
   "cell_type": "code",
   "execution_count": null,
   "metadata": {},
   "outputs": [],
   "source": []
  },
  {
   "cell_type": "code",
   "execution_count": null,
   "metadata": {
    "collapsed": true
   },
   "outputs": [],
   "source": []
  },
  {
   "cell_type": "code",
   "execution_count": null,
   "metadata": {},
   "outputs": [],
   "source": []
  },
  {
   "cell_type": "code",
   "execution_count": null,
   "metadata": {
    "collapsed": true
   },
   "outputs": [],
   "source": []
  },
  {
   "cell_type": "code",
   "execution_count": null,
   "metadata": {
    "collapsed": true
   },
   "outputs": [],
   "source": []
  },
  {
   "cell_type": "code",
   "execution_count": null,
   "metadata": {
    "collapsed": true
   },
   "outputs": [],
   "source": []
  },
  {
   "cell_type": "code",
   "execution_count": null,
   "metadata": {},
   "outputs": [],
   "source": []
  },
  {
   "cell_type": "code",
   "execution_count": null,
   "metadata": {
    "collapsed": true
   },
   "outputs": [],
   "source": []
  },
  {
   "cell_type": "code",
   "execution_count": null,
   "metadata": {
    "collapsed": true
   },
   "outputs": [],
   "source": []
  },
  {
   "cell_type": "code",
   "execution_count": null,
   "metadata": {
    "collapsed": true
   },
   "outputs": [],
   "source": []
  },
  {
   "cell_type": "code",
   "execution_count": null,
   "metadata": {
    "collapsed": true
   },
   "outputs": [],
   "source": []
  },
  {
   "cell_type": "code",
   "execution_count": null,
   "metadata": {
    "collapsed": true
   },
   "outputs": [],
   "source": []
  },
  {
   "cell_type": "code",
   "execution_count": null,
   "metadata": {
    "collapsed": true
   },
   "outputs": [],
   "source": []
  },
  {
   "cell_type": "code",
   "execution_count": null,
   "metadata": {
    "collapsed": true
   },
   "outputs": [],
   "source": []
  },
  {
   "cell_type": "code",
   "execution_count": null,
   "metadata": {
    "collapsed": true
   },
   "outputs": [],
   "source": []
  },
  {
   "cell_type": "code",
   "execution_count": null,
   "metadata": {
    "collapsed": true
   },
   "outputs": [],
   "source": []
  },
  {
   "cell_type": "code",
   "execution_count": null,
   "metadata": {
    "collapsed": true
   },
   "outputs": [],
   "source": []
  },
  {
   "cell_type": "code",
   "execution_count": null,
   "metadata": {
    "collapsed": true
   },
   "outputs": [],
   "source": []
  }
 ],
 "metadata": {
  "kernelspec": {
   "display_name": "Python 3",
   "language": "python",
   "name": "python3"
  },
  "language_info": {
   "codemirror_mode": {
    "name": "ipython",
    "version": 3
   },
   "file_extension": ".py",
   "mimetype": "text/x-python",
   "name": "python",
   "nbconvert_exporter": "python",
   "pygments_lexer": "ipython3",
   "version": "3.6.0"
  }
 },
 "nbformat": 4,
 "nbformat_minor": 2
}
