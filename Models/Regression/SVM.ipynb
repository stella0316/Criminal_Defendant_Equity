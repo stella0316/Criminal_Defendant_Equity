{
 "cells": [
  {
   "cell_type": "code",
   "execution_count": 14,
   "metadata": {
    "collapsed": true
   },
   "outputs": [],
   "source": [
    "import pandas as pd\n",
    "import numpy as np\n",
    "from sklearn.svm import LinearSVC, SVC\n",
    "from sklearn.model_selection import train_test_split\n",
    "from sklearn import metrics\n",
    "from matplotlib import pyplot as plt\n",
    "from sklearn.model_selection import GridSearchCV\n",
    "from sklearn.metrics import roc_auc_score, accuracy_score"
   ]
  },
  {
   "cell_type": "code",
   "execution_count": 4,
   "metadata": {
    "collapsed": true
   },
   "outputs": [],
   "source": [
    "data = pd.read_csv('../../Finalized Data/final_with_race.csv')"
   ]
  },
  {
   "cell_type": "code",
   "execution_count": 5,
   "metadata": {
    "collapsed": true
   },
   "outputs": [],
   "source": [
    "data.drop(['File','days_jail_doc','Unnamed: 0', 'Unanimous'],axis=1,inplace=True)"
   ]
  },
  {
   "cell_type": "code",
   "execution_count": 6,
   "metadata": {
    "collapsed": true
   },
   "outputs": [],
   "source": [
    "y = data.pop('Y')"
   ]
  },
  {
   "cell_type": "code",
   "execution_count": 7,
   "metadata": {
    "collapsed": true
   },
   "outputs": [],
   "source": [
    "X = data"
   ]
  },
  {
   "cell_type": "code",
   "execution_count": 8,
   "metadata": {
    "collapsed": true
   },
   "outputs": [],
   "source": [
    "X_train, X_test, y_train, y_test = train_test_split(X,y,test_size = 0.25)"
   ]
  },
  {
   "cell_type": "markdown",
   "metadata": {},
   "source": [
    "### Build initial model for testing"
   ]
  },
  {
   "cell_type": "code",
   "execution_count": 7,
   "metadata": {},
   "outputs": [
    {
     "data": {
      "text/plain": [
       "LinearSVC(C=1.0, class_weight=None, dual=False, fit_intercept=True,\n",
       "     intercept_scaling=1, loss='squared_hinge', max_iter=1000,\n",
       "     multi_class='ovr', penalty='l1', random_state=None, tol=0.0001,\n",
       "     verbose=0)"
      ]
     },
     "execution_count": 7,
     "metadata": {},
     "output_type": "execute_result"
    }
   ],
   "source": [
    "model = LinearSVC(penalty='l1', dual=False)\n",
    "model.fit(X_train, y_train)"
   ]
  },
  {
   "cell_type": "code",
   "execution_count": 8,
   "metadata": {
    "collapsed": true
   },
   "outputs": [],
   "source": [
    "forecast = model.predict(X_test)"
   ]
  },
  {
   "cell_type": "code",
   "execution_count": 11,
   "metadata": {},
   "outputs": [
    {
     "data": {
      "image/png": "[encoded data removed]",
      "text/plain": [
       "<matplotlib.figure.Figure at 0x11930ea20>"
      ]
     },
     "metadata": {},
     "output_type": "display_data"
    }
   ],
   "source": [
    "plot_roc(y_test, forecast,'SVM Untuned')\n",
    "plt.show()"
   ]
  },
  {
   "cell_type": "code",
   "execution_count": 40,
   "metadata": {
    "collapsed": true
   },
   "outputs": [],
   "source": [
    "def plot_roc(actual,forecast,name):\n",
    "    \n",
    "    #ROC\n",
    "    fpr, tpr, thresholds = metrics.roc_curve(actual, forecast)\n",
    "\n",
    "    #AUC\n",
    "    aucc = metrics.auc(fpr, tpr)\n",
    "\n",
    "    plt.plot(fpr, tpr, label = name + ' AUC: '+str(round(aucc, 4)))\n",
    "    plt.xlabel('False Positive Rate')\n",
    "    plt.ylabel('True Positive Rate')\n",
    "    plt.title('ROC Curves')\n",
    "    plt.grid(True)\n",
    "    plt.legend(loc = 'lower right', title='AUC')"
   ]
  },
  {
   "cell_type": "code",
   "execution_count": null,
   "metadata": {
    "collapsed": true
   },
   "outputs": [],
   "source": [
    "forecast = model.predict(X_test)"
   ]
  },
  {
   "cell_type": "markdown",
   "metadata": {},
   "source": [
    "### Model Tuning"
   ]
  },
  {
   "cell_type": "code",
   "execution_count": 12,
   "metadata": {
    "collapsed": true
   },
   "outputs": [],
   "source": [
    "#Grid search\n",
    "param_grid = [\n",
    "    {'penalty' : ['l1'],\n",
    "     'dual':[False],\n",
    "     'C': [1,0.5,0.1,0.01,0.001]}  \n",
    "]"
   ]
  },
  {
   "cell_type": "code",
   "execution_count": 13,
   "metadata": {},
   "outputs": [
    {
     "data": {
      "text/plain": [
       "GridSearchCV(cv=None, error_score='raise',\n",
       "       estimator=LinearSVC(C=1.0, class_weight=None, dual=True, fit_intercept=True,\n",
       "     intercept_scaling=1, loss='squared_hinge', max_iter=1000,\n",
       "     multi_class='ovr', penalty='l2', random_state=None, tol=0.0001,\n",
       "     verbose=0),\n",
       "       fit_params={}, iid=True, n_jobs=1,\n",
       "       param_grid=[{'penalty': ['l1'], 'dual': [False], 'C': [1, 0.5, 0.1, 0.01, 0.001]}],\n",
       "       pre_dispatch='2*n_jobs', refit=True, return_train_score=True,\n",
       "       scoring='roc_auc', verbose=0)"
      ]
     },
     "execution_count": 13,
     "metadata": {},
     "output_type": "execute_result"
    }
   ],
   "source": [
    "grid_search = GridSearchCV(LinearSVC(), param_grid=param_grid, scoring= 'roc_auc')\n",
    "grid_search.fit(X_train, y_train)"
   ]
  },
  {
   "cell_type": "code",
   "execution_count": 14,
   "metadata": {},
   "outputs": [
    {
     "data": {
      "text/plain": [
       "{'C': 0.1, 'dual': False, 'penalty': 'l1'}"
      ]
     },
     "execution_count": 14,
     "metadata": {},
     "output_type": "execute_result"
    }
   ],
   "source": [
    "grid_search.best_params_"
   ]
  },
  {
   "cell_type": "code",
   "execution_count": 10,
   "metadata": {
    "collapsed": true
   },
   "outputs": [],
   "source": [
    "best_svm = LinearSVC(C=0.1,dual=False, penalty='l1')"
   ]
  },
  {
   "cell_type": "code",
   "execution_count": 11,
   "metadata": {},
   "outputs": [
    {
     "data": {
      "text/plain": [
       "LinearSVC(C=0.1, class_weight=None, dual=False, fit_intercept=True,\n",
       "     intercept_scaling=1, loss='squared_hinge', max_iter=1000,\n",
       "     multi_class='ovr', penalty='l1', random_state=None, tol=0.0001,\n",
       "     verbose=0)"
      ]
     },
     "execution_count": 11,
     "metadata": {},
     "output_type": "execute_result"
    }
   ],
   "source": [
    "best_svm.fit(X_train, y_train)"
   ]
  },
  {
   "cell_type": "code",
   "execution_count": 34,
   "metadata": {},
   "outputs": [],
   "source": [
    "scores = np.dot(X_test,best_svm.coef_.T)"
   ]
  },
  {
   "cell_type": "code",
   "execution_count": 37,
   "metadata": {},
   "outputs": [],
   "source": [
    "min_x = min(scores)\n",
    "max_x = max(scores)\n",
    "range_x = max_x-min_x\n",
    "forecast = list(map(lambda x: (x-min_x)/range_x, scores))"
   ]
  },
  {
   "cell_type": "code",
   "execution_count": 41,
   "metadata": {},
   "outputs": [
    {
     "data": {
      "image/png": "[encoded data removed]",
      "text/plain": [
       "<matplotlib.figure.Figure at 0x10e7e5e80>"
      ]
     },
     "metadata": {},
     "output_type": "display_data"
    }
   ],
   "source": [
    "plot_roc(y_test, forecast,'SVM Tuned')\n",
    "plt.show()"
   ]
  },
  {
   "cell_type": "code",
   "execution_count": 66,
   "metadata": {
    "collapsed": true
   },
   "outputs": [],
   "source": [
    "def show_most_informative_features(model, names, n=20):\n",
    "    feature_names = names\n",
    "    coefs = model.coef_.T\n",
    "    coefs_with_fns = sorted(zip(coefs, feature_names),reverse=True)\n",
    "    top = zip(coefs_with_fns[:n],coefs_with_fns[:-(n + 1):-1])\n",
    "    for (coef_1, fn_1),(coef_2, fn_2) in top:\n",
    "        \n",
    "        print(\"%.4f\\t%-40s\\t\\t\\t%.4f\\t%-15s\" % (coef_1, fn_1, coef_2, fn_2))"
   ]
  },
  {
   "cell_type": "code",
   "execution_count": 67,
   "metadata": {
    "scrolled": true
   },
   "outputs": [
    {
     "name": "stdout",
     "output_type": "stream",
     "text": [
      "0.6317\tjudge_info_missing                      \t\t\t-0.3713\tunanimous      \n",
      "0.2714\ta_Friday                                \t\t\t-0.3396\tappellant      \n",
      "0.1954\tda_2009-contested                       \t\t\t-0.2567\tAppealD_2003   \n",
      "0.1830\ttype_crime_nan                          \t\t\t-0.2350\tAppealD_2004   \n",
      "0.1786\tFacility_GROVELAND                      \t\t\t-0.2308\tda_2011-contested\n",
      "0.1774\tda_university_nan                       \t\t\t-0.2307\tCounty of Commitment_WESTCHESTER \n",
      "0.1617\tda_2005                                 \t\t\t-0.2108\tAppealD_2005   \n",
      "0.1508\tda_2012-contested                       \t\t\t-0.1972\tAppealD_2006   \n",
      "0.1465\tda_black                                \t\t\t-0.1825\tda_2015-contested\n",
      "0.1428\t2001                                    \t\t\t-0.1660\ttype_crime_rape\n",
      "0.1278\tda_female                               \t\t\t-0.1504\tFacility_WOODBOURNE \n",
      "0.1232\tCounty of Commitment_BRONX              \t\t\t-0.1468\tdefense__legal aid society\n",
      "0.1195\t1985                                    \t\t\t-0.1465\tda_2009        \n",
      "0.1162\ttype_crime_endangering the welfare of a child\t\t\t-0.1349\tCounty of Commitment_QUEENS \n",
      "0.1041\t1993                                    \t\t\t-0.1340\ttype_crime_criminal mischief\n",
      "0.0959\tFacility_SING SING                      \t\t\t-0.1238\ttype_crime_murder\n",
      "0.0958\ttype_crime_falsifying business records  \t\t\t-0.1022\t2014           \n",
      "0.0906\tFirstD_2010.0                           \t\t\t-0.1019\tdefense__public defender\n",
      "0.0852\tda_2015                                 \t\t\t-0.0994\tlost-reelection\n",
      "0.0849\tda_2007                                 \t\t\t-0.0925\t2012           \n"
     ]
    }
   ],
   "source": [
    "show_most_informative_features(best_svm, X_train.columns.values)"
   ]
  },
  {
   "cell_type": "code",
   "execution_count": null,
   "metadata": {
    "collapsed": true
   },
   "outputs": [],
   "source": []
  }
 ],
 "metadata": {
  "kernelspec": {
   "display_name": "Python 3",
   "language": "python",
   "name": "python3"
  },
  "language_info": {
   "codemirror_mode": {
    "name": "ipython",
    "version": 3
   },
   "file_extension": ".py",
   "mimetype": "text/x-python",
   "name": "python",
   "nbconvert_exporter": "python",
   "pygments_lexer": "ipython3",
   "version": "3.6.1"
  }
 },
 "nbformat": 4,
 "nbformat_minor": 2
}
