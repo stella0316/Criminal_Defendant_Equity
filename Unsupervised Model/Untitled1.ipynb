{
 "cells": [
  {
   "cell_type": "code",
   "execution_count": 16,
   "metadata": {
    "collapsed": true
   },
   "outputs": [],
   "source": [
    "import pandas as pd\n",
    "from sklearn.neighbors import KNeighborsClassifier\n",
    "from sklearn.model_selection import train_test_split\n",
    "from sklearn.metrics import accuracy_score\n",
    "from sklearn.model_selection import cross_val_score\n",
    "import matplotlib.pyplot as plt\n",
    "from sklearn import preprocessing\n",
    "import numpy as np"
   ]
  },
  {
   "cell_type": "code",
   "execution_count": 2,
   "metadata": {
    "collapsed": true
   },
   "outputs": [],
   "source": [
    "df = pd.read_csv(r'../Finalized Data/finalized_data.csv')"
   ]
  },
  {
   "cell_type": "code",
   "execution_count": 3,
   "metadata": {},
   "outputs": [
    {
     "data": {
      "text/plain": [
       "Index(['elect', 'military', 'APD', 'Prof', 'female', 'CC', 'SC-AJ', 'SC',\n",
       "       'SC-AJ & SC', 'start year',\n",
       "       ...\n",
       "       'type_crime_welfare fraud', 'type_crime_nan', 'degree_crime_fifth',\n",
       "       'degree_crime_first', 'degree_crime_fourth', 'degree_crime_second',\n",
       "       'degree_crime_seventh', 'degree_crime_sixth', 'degree_crime_third',\n",
       "       'degree_crime_nan'],\n",
       "      dtype='object', length=284)"
      ]
     },
     "execution_count": 3,
     "metadata": {},
     "output_type": "execute_result"
    }
   ],
   "source": [
    "df.columns"
   ]
  },
  {
   "cell_type": "code",
   "execution_count": 11,
   "metadata": {},
   "outputs": [],
   "source": [
    "for col in df.columns:\n",
    "    if 'judge' in str(col) and 'missing' in col:\n",
    "        del df[col]"
   ]
  },
  {
   "cell_type": "code",
   "execution_count": 13,
   "metadata": {},
   "outputs": [
    {
     "data": {
      "text/html": [
       "<div>\n",
       "<table border=\"1\" class=\"dataframe\">\n",
       "  <thead>\n",
       "    <tr style=\"text-align: right;\">\n",
       "      <th></th>\n",
       "      <th>elect</th>\n",
       "      <th>military</th>\n",
       "      <th>APD</th>\n",
       "      <th>Prof</th>\n",
       "      <th>female</th>\n",
       "      <th>CC</th>\n",
       "      <th>SC-AJ</th>\n",
       "      <th>SC</th>\n",
       "      <th>SC-AJ &amp; SC</th>\n",
       "      <th>start year</th>\n",
       "      <th>...</th>\n",
       "      <th>type_crime_welfare fraud</th>\n",
       "      <th>type_crime_nan</th>\n",
       "      <th>degree_crime_fifth</th>\n",
       "      <th>degree_crime_first</th>\n",
       "      <th>degree_crime_fourth</th>\n",
       "      <th>degree_crime_second</th>\n",
       "      <th>degree_crime_seventh</th>\n",
       "      <th>degree_crime_sixth</th>\n",
       "      <th>degree_crime_third</th>\n",
       "      <th>degree_crime_nan</th>\n",
       "    </tr>\n",
       "  </thead>\n",
       "  <tbody>\n",
       "    <tr>\n",
       "      <th>0</th>\n",
       "      <td>0</td>\n",
       "      <td>0</td>\n",
       "      <td>0</td>\n",
       "      <td>0</td>\n",
       "      <td>0</td>\n",
       "      <td>0</td>\n",
       "      <td>0</td>\n",
       "      <td>0</td>\n",
       "      <td>0</td>\n",
       "      <td>0</td>\n",
       "      <td>...</td>\n",
       "      <td>0</td>\n",
       "      <td>1</td>\n",
       "      <td>0</td>\n",
       "      <td>0</td>\n",
       "      <td>0</td>\n",
       "      <td>0</td>\n",
       "      <td>0</td>\n",
       "      <td>0</td>\n",
       "      <td>0</td>\n",
       "      <td>1</td>\n",
       "    </tr>\n",
       "    <tr>\n",
       "      <th>1</th>\n",
       "      <td>0</td>\n",
       "      <td>0</td>\n",
       "      <td>0</td>\n",
       "      <td>0</td>\n",
       "      <td>0</td>\n",
       "      <td>0</td>\n",
       "      <td>0</td>\n",
       "      <td>0</td>\n",
       "      <td>0</td>\n",
       "      <td>0</td>\n",
       "      <td>...</td>\n",
       "      <td>0</td>\n",
       "      <td>0</td>\n",
       "      <td>0</td>\n",
       "      <td>1</td>\n",
       "      <td>0</td>\n",
       "      <td>0</td>\n",
       "      <td>0</td>\n",
       "      <td>0</td>\n",
       "      <td>0</td>\n",
       "      <td>0</td>\n",
       "    </tr>\n",
       "    <tr>\n",
       "      <th>2</th>\n",
       "      <td>0</td>\n",
       "      <td>0</td>\n",
       "      <td>0</td>\n",
       "      <td>0</td>\n",
       "      <td>0</td>\n",
       "      <td>0</td>\n",
       "      <td>0</td>\n",
       "      <td>0</td>\n",
       "      <td>0</td>\n",
       "      <td>0</td>\n",
       "      <td>...</td>\n",
       "      <td>0</td>\n",
       "      <td>1</td>\n",
       "      <td>0</td>\n",
       "      <td>0</td>\n",
       "      <td>0</td>\n",
       "      <td>0</td>\n",
       "      <td>0</td>\n",
       "      <td>0</td>\n",
       "      <td>0</td>\n",
       "      <td>1</td>\n",
       "    </tr>\n",
       "    <tr>\n",
       "      <th>3</th>\n",
       "      <td>0</td>\n",
       "      <td>0</td>\n",
       "      <td>0</td>\n",
       "      <td>0</td>\n",
       "      <td>0</td>\n",
       "      <td>0</td>\n",
       "      <td>0</td>\n",
       "      <td>0</td>\n",
       "      <td>0</td>\n",
       "      <td>0</td>\n",
       "      <td>...</td>\n",
       "      <td>0</td>\n",
       "      <td>1</td>\n",
       "      <td>0</td>\n",
       "      <td>0</td>\n",
       "      <td>0</td>\n",
       "      <td>0</td>\n",
       "      <td>0</td>\n",
       "      <td>0</td>\n",
       "      <td>0</td>\n",
       "      <td>1</td>\n",
       "    </tr>\n",
       "    <tr>\n",
       "      <th>4</th>\n",
       "      <td>0</td>\n",
       "      <td>0</td>\n",
       "      <td>0</td>\n",
       "      <td>0</td>\n",
       "      <td>0</td>\n",
       "      <td>0</td>\n",
       "      <td>0</td>\n",
       "      <td>0</td>\n",
       "      <td>0</td>\n",
       "      <td>0</td>\n",
       "      <td>...</td>\n",
       "      <td>0</td>\n",
       "      <td>0</td>\n",
       "      <td>0</td>\n",
       "      <td>0</td>\n",
       "      <td>0</td>\n",
       "      <td>0</td>\n",
       "      <td>0</td>\n",
       "      <td>0</td>\n",
       "      <td>1</td>\n",
       "      <td>0</td>\n",
       "    </tr>\n",
       "  </tbody>\n",
       "</table>\n",
       "<p>5 rows × 272 columns</p>\n",
       "</div>"
      ],
      "text/plain": [
       "   elect  military  APD  Prof  female  CC  SC-AJ  SC  SC-AJ & SC  start year  \\\n",
       "0      0         0    0     0       0   0      0   0           0           0   \n",
       "1      0         0    0     0       0   0      0   0           0           0   \n",
       "2      0         0    0     0       0   0      0   0           0           0   \n",
       "3      0         0    0     0       0   0      0   0           0           0   \n",
       "4      0         0    0     0       0   0      0   0           0           0   \n",
       "\n",
       "         ...         type_crime_welfare fraud  type_crime_nan  \\\n",
       "0        ...                                0               1   \n",
       "1        ...                                0               0   \n",
       "2        ...                                0               1   \n",
       "3        ...                                0               1   \n",
       "4        ...                                0               0   \n",
       "\n",
       "   degree_crime_fifth  degree_crime_first  degree_crime_fourth  \\\n",
       "0                   0                   0                    0   \n",
       "1                   0                   1                    0   \n",
       "2                   0                   0                    0   \n",
       "3                   0                   0                    0   \n",
       "4                   0                   0                    0   \n",
       "\n",
       "   degree_crime_second  degree_crime_seventh  degree_crime_sixth  \\\n",
       "0                    0                     0                   0   \n",
       "1                    0                     0                   0   \n",
       "2                    0                     0                   0   \n",
       "3                    0                     0                   0   \n",
       "4                    0                     0                   0   \n",
       "\n",
       "   degree_crime_third  degree_crime_nan  \n",
       "0                   0                 1  \n",
       "1                   0                 0  \n",
       "2                   0                 1  \n",
       "3                   0                 1  \n",
       "4                   1                 0  \n",
       "\n",
       "[5 rows x 272 columns]"
      ]
     },
     "execution_count": 13,
     "metadata": {},
     "output_type": "execute_result"
    }
   ],
   "source": [
    "df.head()"
   ]
  },
  {
   "cell_type": "code",
   "execution_count": 14,
   "metadata": {
    "collapsed": true
   },
   "outputs": [],
   "source": [
    "y = df['Y']\n",
    "X = df.loc[:, df.columns != 'Y']"
   ]
  },
  {
   "cell_type": "code",
   "execution_count": 17,
   "metadata": {},
   "outputs": [],
   "source": [
    "normalized_X = preprocessing.normalize(X)\n",
    "X_Normalized = pd.DataFrame(normalized_X, columns = X.columns)"
   ]
  },
  {
   "cell_type": "code",
   "execution_count": 18,
   "metadata": {
    "collapsed": true
   },
   "outputs": [],
   "source": [
    "X_train, X_test, y_train, y_test = train_test_split(X_Normalized, y, test_size=0.3,random_state=42)"
   ]
  },
  {
   "cell_type": "code",
   "execution_count": 19,
   "metadata": {},
   "outputs": [
    {
     "name": "stdout",
     "output_type": "stream",
     "text": [
      "0.763765373699\n"
     ]
    }
   ],
   "source": [
    "# instantiate learning model (k = 3)\n",
    "knn = KNeighborsClassifier(n_neighbors=3)\n",
    "# fitting the model\n",
    "knn.fit(X_train, y_train)\n",
    "# predict the response\n",
    "pred = knn.predict(X_test)\n",
    "# evaluate accuracy\n",
    "print (accuracy_score(y_test, pred))"
   ]
  },
  {
   "cell_type": "code",
   "execution_count": 20,
   "metadata": {
    "collapsed": true
   },
   "outputs": [],
   "source": [
    "# creating odd list of K for KNN\n",
    "myList = list(range(1,70))\n",
    "\n",
    "# subsetting just the odd ones\n",
    "neighbors = list(filter(lambda x: x % 2 != 0, myList))\n",
    "\n",
    "# empty list that will hold cv scores\n",
    "cv_scores = []\n",
    "\n",
    "# perform 10-fold cross validation\n",
    "for k in neighbors:\n",
    "    knn = KNeighborsClassifier(n_neighbors=k)\n",
    "    scores = cross_val_score(knn, X_train, y_train, cv=10, scoring='accuracy')\n",
    "    cv_scores.append(scores.mean())"
   ]
  },
  {
   "cell_type": "code",
   "execution_count": 21,
   "metadata": {
    "collapsed": true
   },
   "outputs": [],
   "source": [
    "# instantiate learning model (k = 3)\n",
    "knn = KNeighborsClassifier(n_neighbors=31)\n",
    "# fitting the model\n",
    "knn.fit(X_train, y_train)\n",
    "# predict the response\n",
    "pred = knn.predict(X_test)\n",
    "# evaluate accuracy"
   ]
  },
  {
   "cell_type": "code",
   "execution_count": 23,
   "metadata": {},
   "outputs": [
    {
     "name": "stdout",
     "output_type": "stream",
     "text": [
      "Accuracy: 0.794796594134\n"
     ]
    }
   ],
   "source": [
    "print(\"Accuracy: %s\" % (accuracy_score(y_test, pred)))"
   ]
  },
  {
   "cell_type": "code",
   "execution_count": null,
   "metadata": {
    "collapsed": true
   },
   "outputs": [],
   "source": []
  }
 ],
 "metadata": {
  "kernelspec": {
   "display_name": "Python 3",
   "language": "python",
   "name": "python3"
  },
  "language_info": {
   "codemirror_mode": {
    "name": "ipython",
    "version": 3
   },
   "file_extension": ".py",
   "mimetype": "text/x-python",
   "name": "python",
   "nbconvert_exporter": "python",
   "pygments_lexer": "ipython3",
   "version": "3.6.0"
  }
 },
 "nbformat": 4,
 "nbformat_minor": 2
}
