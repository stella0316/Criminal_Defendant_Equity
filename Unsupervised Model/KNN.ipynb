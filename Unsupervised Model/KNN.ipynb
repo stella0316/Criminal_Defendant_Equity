{
 "cells": [
  {
   "cell_type": "code",
   "execution_count": 65,
   "metadata": {
    "collapsed": true
   },
   "outputs": [],
   "source": [
    "import pandas as pd\n",
    "from sklearn.neighbors import KNeighborsClassifier\n",
    "from sklearn.model_selection import train_test_split\n",
    "from sklearn.metrics import accuracy_score\n",
    "from sklearn.model_selection import cross_val_score\n",
    "import matplotlib.pyplot as plt\n",
    "from sklearn import preprocessing\n",
    "import numpy as np"
   ]
  },
  {
   "cell_type": "code",
   "execution_count": 5,
   "metadata": {
    "collapsed": true
   },
   "outputs": [],
   "source": [
    "df = pd.read_csv(r'../Finalized Data/finalized_data.csv')"
   ]
  },
  {
   "cell_type": "code",
   "execution_count": 6,
   "metadata": {},
   "outputs": [
    {
     "data": {
      "text/plain": [
       "Index(['elect', 'military', 'APD', 'Prof', 'female', 'CC', 'SC-AJ', 'SC',\n",
       "       'SC-AJ & SC', 'start year',\n",
       "       ...\n",
       "       'type_crime_welfare fraud', 'type_crime_nan', 'degree_crime_fifth',\n",
       "       'degree_crime_first', 'degree_crime_fourth', 'degree_crime_second',\n",
       "       'degree_crime_seventh', 'degree_crime_sixth', 'degree_crime_third',\n",
       "       'degree_crime_nan'],\n",
       "      dtype='object', length=284)"
      ]
     },
     "execution_count": 6,
     "metadata": {},
     "output_type": "execute_result"
    }
   ],
   "source": [
    "df.columns"
   ]
  },
  {
   "cell_type": "code",
   "execution_count": 51,
   "metadata": {},
   "outputs": [
    {
     "data": {
      "text/html": [
       "<div>\n",
       "<table border=\"1\" class=\"dataframe\">\n",
       "  <thead>\n",
       "    <tr style=\"text-align: right;\">\n",
       "      <th></th>\n",
       "      <th>elect</th>\n",
       "      <th>military</th>\n",
       "      <th>APD</th>\n",
       "      <th>Prof</th>\n",
       "      <th>female</th>\n",
       "      <th>CC</th>\n",
       "      <th>SC-AJ</th>\n",
       "      <th>SC</th>\n",
       "      <th>SC-AJ &amp; SC</th>\n",
       "      <th>start year</th>\n",
       "      <th>...</th>\n",
       "      <th>type_crime_welfare fraud</th>\n",
       "      <th>type_crime_nan</th>\n",
       "      <th>degree_crime_fifth</th>\n",
       "      <th>degree_crime_first</th>\n",
       "      <th>degree_crime_fourth</th>\n",
       "      <th>degree_crime_second</th>\n",
       "      <th>degree_crime_seventh</th>\n",
       "      <th>degree_crime_sixth</th>\n",
       "      <th>degree_crime_third</th>\n",
       "      <th>degree_crime_nan</th>\n",
       "    </tr>\n",
       "  </thead>\n",
       "  <tbody>\n",
       "    <tr>\n",
       "      <th>0</th>\n",
       "      <td>0</td>\n",
       "      <td>0</td>\n",
       "      <td>0</td>\n",
       "      <td>0</td>\n",
       "      <td>0</td>\n",
       "      <td>0</td>\n",
       "      <td>0</td>\n",
       "      <td>0</td>\n",
       "      <td>0</td>\n",
       "      <td>0</td>\n",
       "      <td>...</td>\n",
       "      <td>0</td>\n",
       "      <td>1</td>\n",
       "      <td>0</td>\n",
       "      <td>0</td>\n",
       "      <td>0</td>\n",
       "      <td>0</td>\n",
       "      <td>0</td>\n",
       "      <td>0</td>\n",
       "      <td>0</td>\n",
       "      <td>1</td>\n",
       "    </tr>\n",
       "    <tr>\n",
       "      <th>1</th>\n",
       "      <td>0</td>\n",
       "      <td>0</td>\n",
       "      <td>0</td>\n",
       "      <td>0</td>\n",
       "      <td>0</td>\n",
       "      <td>0</td>\n",
       "      <td>0</td>\n",
       "      <td>0</td>\n",
       "      <td>0</td>\n",
       "      <td>0</td>\n",
       "      <td>...</td>\n",
       "      <td>0</td>\n",
       "      <td>0</td>\n",
       "      <td>0</td>\n",
       "      <td>1</td>\n",
       "      <td>0</td>\n",
       "      <td>0</td>\n",
       "      <td>0</td>\n",
       "      <td>0</td>\n",
       "      <td>0</td>\n",
       "      <td>0</td>\n",
       "    </tr>\n",
       "    <tr>\n",
       "      <th>2</th>\n",
       "      <td>0</td>\n",
       "      <td>0</td>\n",
       "      <td>0</td>\n",
       "      <td>0</td>\n",
       "      <td>0</td>\n",
       "      <td>0</td>\n",
       "      <td>0</td>\n",
       "      <td>0</td>\n",
       "      <td>0</td>\n",
       "      <td>0</td>\n",
       "      <td>...</td>\n",
       "      <td>0</td>\n",
       "      <td>1</td>\n",
       "      <td>0</td>\n",
       "      <td>0</td>\n",
       "      <td>0</td>\n",
       "      <td>0</td>\n",
       "      <td>0</td>\n",
       "      <td>0</td>\n",
       "      <td>0</td>\n",
       "      <td>1</td>\n",
       "    </tr>\n",
       "    <tr>\n",
       "      <th>3</th>\n",
       "      <td>0</td>\n",
       "      <td>0</td>\n",
       "      <td>0</td>\n",
       "      <td>0</td>\n",
       "      <td>0</td>\n",
       "      <td>0</td>\n",
       "      <td>0</td>\n",
       "      <td>0</td>\n",
       "      <td>0</td>\n",
       "      <td>0</td>\n",
       "      <td>...</td>\n",
       "      <td>0</td>\n",
       "      <td>1</td>\n",
       "      <td>0</td>\n",
       "      <td>0</td>\n",
       "      <td>0</td>\n",
       "      <td>0</td>\n",
       "      <td>0</td>\n",
       "      <td>0</td>\n",
       "      <td>0</td>\n",
       "      <td>1</td>\n",
       "    </tr>\n",
       "    <tr>\n",
       "      <th>4</th>\n",
       "      <td>0</td>\n",
       "      <td>0</td>\n",
       "      <td>0</td>\n",
       "      <td>0</td>\n",
       "      <td>0</td>\n",
       "      <td>0</td>\n",
       "      <td>0</td>\n",
       "      <td>0</td>\n",
       "      <td>0</td>\n",
       "      <td>0</td>\n",
       "      <td>...</td>\n",
       "      <td>0</td>\n",
       "      <td>0</td>\n",
       "      <td>0</td>\n",
       "      <td>0</td>\n",
       "      <td>0</td>\n",
       "      <td>0</td>\n",
       "      <td>0</td>\n",
       "      <td>0</td>\n",
       "      <td>1</td>\n",
       "      <td>0</td>\n",
       "    </tr>\n",
       "  </tbody>\n",
       "</table>\n",
       "<p>5 rows × 284 columns</p>\n",
       "</div>"
      ],
      "text/plain": [
       "   elect  military  APD  Prof  female  CC  SC-AJ  SC  SC-AJ & SC  start year  \\\n",
       "0      0         0    0     0       0   0      0   0           0           0   \n",
       "1      0         0    0     0       0   0      0   0           0           0   \n",
       "2      0         0    0     0       0   0      0   0           0           0   \n",
       "3      0         0    0     0       0   0      0   0           0           0   \n",
       "4      0         0    0     0       0   0      0   0           0           0   \n",
       "\n",
       "         ...         type_crime_welfare fraud  type_crime_nan  \\\n",
       "0        ...                                0               1   \n",
       "1        ...                                0               0   \n",
       "2        ...                                0               1   \n",
       "3        ...                                0               1   \n",
       "4        ...                                0               0   \n",
       "\n",
       "   degree_crime_fifth  degree_crime_first  degree_crime_fourth  \\\n",
       "0                   0                   0                    0   \n",
       "1                   0                   1                    0   \n",
       "2                   0                   0                    0   \n",
       "3                   0                   0                    0   \n",
       "4                   0                   0                    0   \n",
       "\n",
       "   degree_crime_second  degree_crime_seventh  degree_crime_sixth  \\\n",
       "0                    0                     0                   0   \n",
       "1                    0                     0                   0   \n",
       "2                    0                     0                   0   \n",
       "3                    0                     0                   0   \n",
       "4                    0                     0                   0   \n",
       "\n",
       "   degree_crime_third  degree_crime_nan  \n",
       "0                   0                 1  \n",
       "1                   0                 0  \n",
       "2                   0                 1  \n",
       "3                   0                 1  \n",
       "4                   1                 0  \n",
       "\n",
       "[5 rows x 284 columns]"
      ]
     },
     "execution_count": 51,
     "metadata": {},
     "output_type": "execute_result"
    }
   ],
   "source": [
    "df.head(5)"
   ]
  },
  {
   "cell_type": "code",
   "execution_count": 63,
   "metadata": {},
   "outputs": [
    {
     "data": {
      "text/plain": [
       "(35232, 284)"
      ]
     },
     "execution_count": 63,
     "metadata": {},
     "output_type": "execute_result"
    }
   ],
   "source": [
    "df.shape"
   ]
  },
  {
   "cell_type": "markdown",
   "metadata": {},
   "source": [
    "<b> Make Design Matrix X and target variable y, and split the dataset into train and test </b>"
   ]
  },
  {
   "cell_type": "code",
   "execution_count": 7,
   "metadata": {
    "collapsed": true
   },
   "outputs": [],
   "source": [
    "y = df['Y']\n",
    "X = df.loc[:, df.columns != 'Y']"
   ]
  },
  {
   "cell_type": "markdown",
   "metadata": {},
   "source": [
    "For KNN, it is better to normalize all columns to get rid of large scale."
   ]
  },
  {
   "cell_type": "code",
   "execution_count": 110,
   "metadata": {
    "collapsed": true
   },
   "outputs": [],
   "source": [
    "normalized_X = preprocessing.normalize(X)\n",
    "X_Normalized = pd.DataFrame(normalized_X, columns = X.columns)"
   ]
  },
  {
   "cell_type": "code",
   "execution_count": 113,
   "metadata": {
    "collapsed": true
   },
   "outputs": [],
   "source": [
    "X_train, X_test, y_train, y_test = train_test_split(X_Normalized, y, test_size=0.3,random_state=42)"
   ]
  },
  {
   "cell_type": "markdown",
   "metadata": {},
   "source": [
    "<b> First KNN model with K = 3 </b>"
   ]
  },
  {
   "cell_type": "code",
   "execution_count": 97,
   "metadata": {},
   "outputs": [
    {
     "name": "stdout",
     "output_type": "stream",
     "text": [
      "0.766792809839\n"
     ]
    }
   ],
   "source": [
    "# instantiate learning model (k = 3)\n",
    "knn = KNeighborsClassifier(n_neighbors=3)\n",
    "# fitting the model\n",
    "knn.fit(X_train, y_train)\n",
    "# predict the response\n",
    "pred = knn.predict(X_test)\n",
    "# evaluate accuracy\n",
    "print (accuracy_score(y_test, pred))"
   ]
  },
  {
   "cell_type": "markdown",
   "metadata": {},
   "source": [
    "<b> Tunning parameters to get better result </b>"
   ]
  },
  {
   "cell_type": "code",
   "execution_count": 98,
   "metadata": {
    "collapsed": true
   },
   "outputs": [],
   "source": [
    "# creating odd list of K for KNN\n",
    "myList = list(range(1,70))\n",
    "\n",
    "# subsetting just the odd ones\n",
    "neighbors = list(filter(lambda x: x % 2 != 0, myList))\n",
    "\n",
    "# empty list that will hold cv scores\n",
    "cv_scores = []\n",
    "\n",
    "# perform 10-fold cross validation\n",
    "for k in neighbors:\n",
    "    knn = KNeighborsClassifier(n_neighbors=k)\n",
    "    scores = cross_val_score(knn, X_train, y_train, cv=10, scoring='accuracy')\n",
    "    cv_scores.append(scores.mean())"
   ]
  },
  {
   "cell_type": "code",
   "execution_count": 99,
   "metadata": {},
   "outputs": [
    {
     "name": "stdout",
     "output_type": "stream",
     "text": [
      "The optimal number of neighbors is 31\n"
     ]
    },
    {
     "data": {
      "image/png": "[encoded data removed]",
      "text/plain": [
       "<matplotlib.figure.Figure at 0x112218f98>"
      ]
     },
     "metadata": {},
     "output_type": "display_data"
    }
   ],
   "source": [
    "# changing to misclassification error\n",
    "MSE = [1 - x for x in cv_scores]\n",
    "\n",
    "# determining best k\n",
    "optimal_k = neighbors[MSE.index(min(MSE))]\n",
    "print (\"The optimal number of neighbors is %d\" % optimal_k)\n",
    "\n",
    "# plot misclassification error vs k\n",
    "plt.plot(neighbors, MSE)\n",
    "plt.xlabel('Number of Neighbors K')\n",
    "plt.ylabel('Misclassification Error')\n",
    "plt.show()"
   ]
  },
  {
   "cell_type": "code",
   "execution_count": 159,
   "metadata": {
    "collapsed": true
   },
   "outputs": [],
   "source": [
    "# instantiate learning model (k = 3)\n",
    "knn = KNeighborsClassifier(n_neighbors=31)\n",
    "# fitting the model\n",
    "knn.fit(X_train, y_train)\n",
    "# predict the response\n",
    "pred = knn.predict(X_test)\n",
    "# evaluate accuracy"
   ]
  },
  {
   "cell_type": "code",
   "execution_count": 160,
   "metadata": {},
   "outputs": [
    {
     "name": "stdout",
     "output_type": "stream",
     "text": [
      "Accuracy: 0.799810785241\n"
     ]
    }
   ],
   "source": [
    "#print(\"Optimal neighbor is %s\" % (optimal_k))\n",
    "print(\"Accuracy: %s\" % (accuracy_score(y_test, pred)))"
   ]
  },
  {
   "cell_type": "markdown",
   "metadata": {},
   "source": [
    "<b> Feature Selection </b>"
   ]
  },
  {
   "cell_type": "code",
   "execution_count": 104,
   "metadata": {
    "collapsed": true
   },
   "outputs": [],
   "source": [
    "from sklearn.feature_selection import mutual_info_classif\n",
    "from sklearn.metrics import roc_curve, auc,roc_auc_score"
   ]
  },
  {
   "cell_type": "code",
   "execution_count": 105,
   "metadata": {
    "collapsed": true
   },
   "outputs": [],
   "source": [
    "def AUCCal(preds, truth, label_string):\n",
    "   \n",
    "    fpr, tpr, thresholds = roc_curve(truth, preds)\n",
    "    #2. Input fpr and tpr into the auc function to get the AUC\n",
    "    roc_auc = auc(fpr, tpr)\n",
    "    \n",
    "    if roc_auc < 0.5:\n",
    "        fpr, tpr, thresholds = roc_curve(truth, -1 * preds)\n",
    "        roc_auc = auc(fpr, tpr)\n",
    "   \n",
    "    return roc_auc    \n"
   ]
  },
  {
   "cell_type": "code",
   "execution_count": 114,
   "metadata": {
    "collapsed": true
   },
   "outputs": [],
   "source": [
    "#Check auc scores for all features\n",
    "featureset = list(X_train.columns.values)\n",
    "feature_auc_dict = {}\n",
    "\n",
    "#create a plot and set some options\n",
    "for col in X_train.columns:\n",
    "    feature_auc_dict[col] = AUCCal(X_train[col],y_train,col)"
   ]
  },
  {
   "cell_type": "code",
   "execution_count": 115,
   "metadata": {
    "collapsed": true
   },
   "outputs": [],
   "source": [
    "#calculate mi for each feature \n",
    "feature_mi = mutual_info_classif(X_train,y_train)\n",
    "feature_mi_dict = dict(zip(X_train.columns.values, feature_mi))\n",
    "\n",
    "#Add auc and mi each to a single dataframe\n",
    "df_auc = pd.DataFrame(pd.Series(feature_auc_dict), columns = ['auc'])\n",
    "df_mi = pd.DataFrame(pd.Series(feature_mi_dict), columns = ['mi'])   \n",
    "\n",
    "#Now merge the two on the feature name\n",
    "feat_imp_df = df_auc.merge(df_mi, left_index = True, right_index = True)\n"
   ]
  },
  {
   "cell_type": "code",
   "execution_count": 116,
   "metadata": {},
   "outputs": [
    {
     "data": {
      "text/html": [
       "<div>\n",
       "<table border=\"1\" class=\"dataframe\">\n",
       "  <thead>\n",
       "    <tr style=\"text-align: right;\">\n",
       "      <th></th>\n",
       "      <th>auc</th>\n",
       "      <th>mi</th>\n",
       "    </tr>\n",
       "  </thead>\n",
       "  <tbody>\n",
       "    <tr>\n",
       "      <th>Gap_days</th>\n",
       "      <td>0.653188</td>\n",
       "      <td>0.079943</td>\n",
       "    </tr>\n",
       "    <tr>\n",
       "      <th>start year</th>\n",
       "      <td>0.647671</td>\n",
       "      <td>0.040718</td>\n",
       "    </tr>\n",
       "    <tr>\n",
       "      <th>judge_info_missing</th>\n",
       "      <td>0.640803</td>\n",
       "      <td>0.089863</td>\n",
       "    </tr>\n",
       "    <tr>\n",
       "      <th>judge_SC_missing</th>\n",
       "      <td>0.633145</td>\n",
       "      <td>0.082909</td>\n",
       "    </tr>\n",
       "    <tr>\n",
       "      <th>judge_SC-AJ_missing</th>\n",
       "      <td>0.633145</td>\n",
       "      <td>0.083167</td>\n",
       "    </tr>\n",
       "    <tr>\n",
       "      <th>judge_SC-AJ &amp; SC_missing</th>\n",
       "      <td>0.633145</td>\n",
       "      <td>0.082132</td>\n",
       "    </tr>\n",
       "    <tr>\n",
       "      <th>judge_CC_missing</th>\n",
       "      <td>0.633145</td>\n",
       "      <td>0.081432</td>\n",
       "    </tr>\n",
       "    <tr>\n",
       "      <th>judge_female_missing</th>\n",
       "      <td>0.632733</td>\n",
       "      <td>0.081783</td>\n",
       "    </tr>\n",
       "    <tr>\n",
       "      <th>judge_law_school_missing</th>\n",
       "      <td>0.630381</td>\n",
       "      <td>0.087263</td>\n",
       "    </tr>\n",
       "    <tr>\n",
       "      <th>judge_startyear_missing</th>\n",
       "      <td>0.628618</td>\n",
       "      <td>0.083444</td>\n",
       "    </tr>\n",
       "  </tbody>\n",
       "</table>\n",
       "</div>"
      ],
      "text/plain": [
       "                               auc        mi\n",
       "Gap_days                  0.653188  0.079943\n",
       "start year                0.647671  0.040718\n",
       "judge_info_missing        0.640803  0.089863\n",
       "judge_SC_missing          0.633145  0.082909\n",
       "judge_SC-AJ_missing       0.633145  0.083167\n",
       "judge_SC-AJ & SC_missing  0.633145  0.082132\n",
       "judge_CC_missing          0.633145  0.081432\n",
       "judge_female_missing      0.632733  0.081783\n",
       "judge_law_school_missing  0.630381  0.087263\n",
       "judge_startyear_missing   0.628618  0.083444"
      ]
     },
     "execution_count": 116,
     "metadata": {},
     "output_type": "execute_result"
    }
   ],
   "source": [
    "feat_imp_df.sort_values(by=['auc'],ascending=False).head(10)"
   ]
  },
  {
   "cell_type": "code",
   "execution_count": 117,
   "metadata": {},
   "outputs": [
    {
     "data": {
      "text/html": [
       "<div>\n",
       "<table border=\"1\" class=\"dataframe\">\n",
       "  <thead>\n",
       "    <tr style=\"text-align: right;\">\n",
       "      <th></th>\n",
       "      <th>auc</th>\n",
       "      <th>mi</th>\n",
       "    </tr>\n",
       "  </thead>\n",
       "  <tbody>\n",
       "    <tr>\n",
       "      <th>judge_info_missing</th>\n",
       "      <td>0.640803</td>\n",
       "      <td>0.089863</td>\n",
       "    </tr>\n",
       "    <tr>\n",
       "      <th>judge_law_school_missing</th>\n",
       "      <td>0.630381</td>\n",
       "      <td>0.087263</td>\n",
       "    </tr>\n",
       "    <tr>\n",
       "      <th>judge_startyear_missing</th>\n",
       "      <td>0.628618</td>\n",
       "      <td>0.083444</td>\n",
       "    </tr>\n",
       "    <tr>\n",
       "      <th>judge_SC-AJ_missing</th>\n",
       "      <td>0.633145</td>\n",
       "      <td>0.083167</td>\n",
       "    </tr>\n",
       "    <tr>\n",
       "      <th>judge_SC_missing</th>\n",
       "      <td>0.633145</td>\n",
       "      <td>0.082909</td>\n",
       "    </tr>\n",
       "    <tr>\n",
       "      <th>judge_SC-AJ &amp; SC_missing</th>\n",
       "      <td>0.633145</td>\n",
       "      <td>0.082132</td>\n",
       "    </tr>\n",
       "    <tr>\n",
       "      <th>judge_female_missing</th>\n",
       "      <td>0.632733</td>\n",
       "      <td>0.081783</td>\n",
       "    </tr>\n",
       "    <tr>\n",
       "      <th>type_crime_nan</th>\n",
       "      <td>0.622416</td>\n",
       "      <td>0.081524</td>\n",
       "    </tr>\n",
       "    <tr>\n",
       "      <th>judge_CC_missing</th>\n",
       "      <td>0.633145</td>\n",
       "      <td>0.081432</td>\n",
       "    </tr>\n",
       "    <tr>\n",
       "      <th>degree_crime_nan</th>\n",
       "      <td>0.617256</td>\n",
       "      <td>0.080247</td>\n",
       "    </tr>\n",
       "  </tbody>\n",
       "</table>\n",
       "</div>"
      ],
      "text/plain": [
       "                               auc        mi\n",
       "judge_info_missing        0.640803  0.089863\n",
       "judge_law_school_missing  0.630381  0.087263\n",
       "judge_startyear_missing   0.628618  0.083444\n",
       "judge_SC-AJ_missing       0.633145  0.083167\n",
       "judge_SC_missing          0.633145  0.082909\n",
       "judge_SC-AJ & SC_missing  0.633145  0.082132\n",
       "judge_female_missing      0.632733  0.081783\n",
       "type_crime_nan            0.622416  0.081524\n",
       "judge_CC_missing          0.633145  0.081432\n",
       "degree_crime_nan          0.617256  0.080247"
      ]
     },
     "execution_count": 117,
     "metadata": {},
     "output_type": "execute_result"
    }
   ],
   "source": [
    "feat_imp_df.sort_values(by=['mi'],ascending=False).head(10)"
   ]
  },
  {
   "cell_type": "markdown",
   "metadata": {},
   "source": [
    "    Try features with auc rank"
   ]
  },
  {
   "cell_type": "code",
   "execution_count": 118,
   "metadata": {
    "collapsed": true
   },
   "outputs": [],
   "source": [
    "feat_ranks = feat_imp_df.rank(axis = 0, ascending = False)"
   ]
  },
  {
   "cell_type": "code",
   "execution_count": 161,
   "metadata": {
    "collapsed": true
   },
   "outputs": [],
   "source": [
    "accuracy = []\n",
    "for f in range(10,290,10):\n",
    "    featureset_1_auc = list(feat_ranks[(feat_ranks.auc <= f)].index.values)\n",
    "    X_train_2 = X_train[featureset_1_auc]\n",
    "    X_test_2 = X_test[featureset_1_auc]\n",
    "    \n",
    "    # instantiate learning model (k = 3)\n",
    "    knn = KNeighborsClassifier(n_neighbors=31)\n",
    "    # fitting the model\n",
    "    knn.fit(X_train_2, y_train)\n",
    "    # predict the response\n",
    "    pred = knn.predict(X_test_2)\n",
    "    # evaluate accuracy\n",
    "    accuracy.append(accuracy_score(y_test, pred))"
   ]
  },
  {
   "cell_type": "code",
   "execution_count": 162,
   "metadata": {},
   "outputs": [
    {
     "data": {
      "image/png": "[encoded data removed]",
      "text/plain": [
       "<matplotlib.figure.Figure at 0x110bec898>"
      ]
     },
     "metadata": {},
     "output_type": "display_data"
    }
   ],
   "source": [
    "#Plot\n",
    "fig = plt.figure(figsize = (12, 6))\n",
    "ax = plt.subplot(111)\n",
    "\n",
    "f = np.arange(10,290,10)\n",
    "plt.plot(f,accuracy)\n",
    "plt.xlabel(\"Top n features ranked by auc\")\n",
    "plt.ylabel(\"KNN Accuracy\")\n",
    "plt.show()"
   ]
  },
  {
   "cell_type": "code",
   "execution_count": 163,
   "metadata": {},
   "outputs": [
    {
     "name": "stdout",
     "output_type": "stream",
     "text": [
      "Optimal feature list ranked by AUC is top 20\n",
      "Optimal feature list ranked by AUC is ['Gap_days', 'SC-AJ', 'defense__nan', 'degree_crime_nan', 'judge_APD_missing', 'judge_CC_missing', 'judge_Prof_missing', 'judge_SC-AJ & SC_missing', 'judge_SC-AJ_missing', 'judge_SC_missing', 'judge_elect_missing', 'judge_female_missing', 'judge_info_missing', 'judge_law_school_missing', 'judge_military_missing', 'judge_startyear_missing', 'nycourts', 'start year', 'type_crime_nan', 'unanimous']\n",
      "Accuracy:0.810879848628\n"
     ]
    }
   ],
   "source": [
    "optimal_f = f[accuracy.index(max(accuracy))]\n",
    "optimal_feature_auc = featureset_1_auc = list(feat_ranks[(feat_ranks.auc <= optimal_f)].index.values)\n",
    "print(\"Optimal feature list ranked by AUC is top %s\" % (optimal_f) )\n",
    "print(\"Optimal feature list ranked by AUC is %s\" % (optimal_feature_auc))\n",
    "print(\"Accuracy:%s\" % (max(accuracy)))"
   ]
  },
  {
   "cell_type": "markdown",
   "metadata": {},
   "source": [
    "    Try feature with mi score rank"
   ]
  },
  {
   "cell_type": "code",
   "execution_count": 164,
   "metadata": {
    "collapsed": true
   },
   "outputs": [],
   "source": [
    "accuracy_3 = []\n",
    "for f in range(10,290,10):\n",
    "    featureset_1_mi = list(feat_ranks[(feat_ranks.mi <= f)].index.values)\n",
    "    X_train_3 = X_train[featureset_1_mi]\n",
    "    X_test_3 = X_test[featureset_1_mi]\n",
    "    \n",
    "    # instantiate learning model (k = 3)\n",
    "    knn = KNeighborsClassifier(n_neighbors=31)\n",
    "    # fitting the model\n",
    "    knn.fit(X_train_3, y_train)\n",
    "    # predict the response\n",
    "    pred = knn.predict(X_test_3)\n",
    "    # evaluate accuracy\n",
    "    accuracy_3.append(accuracy_score(y_test, pred))"
   ]
  },
  {
   "cell_type": "code",
   "execution_count": 165,
   "metadata": {},
   "outputs": [
    {
     "data": {
      "image/png": "[encoded data removed]",
      "text/plain": [
       "<matplotlib.figure.Figure at 0x110bf8860>"
      ]
     },
     "metadata": {},
     "output_type": "display_data"
    }
   ],
   "source": [
    "#Plot\n",
    "fig = plt.figure(figsize = (12, 6))\n",
    "ax = plt.subplot(111)\n",
    "\n",
    "f = np.arange(10,290,10)\n",
    "plt.plot(f,accuracy_3)\n",
    "plt.xlabel(\"Top n features ranked by MI\")\n",
    "plt.ylabel(\"KNN Accuracy\")\n",
    "plt.show()"
   ]
  },
  {
   "cell_type": "code",
   "execution_count": 166,
   "metadata": {},
   "outputs": [
    {
     "name": "stdout",
     "output_type": "stream",
     "text": [
      "Optimal feature list ranked by MI is top 40\n",
      "Optimal feature list ranked by MI is ['AppealD_2015', 'AppealD_month_x', 'AppealD_month_y', 'FirstD_month_x', 'FirstD_month_y', 'Gap_days', 'SC-AJ', 'a_Friday', 'a_Monday', 'a_Tuesday', 'a_Wednesday', 'appellant', 'contested_nan', 'da_2005', 'da_2009', 'da_2013', 'da_black_nan', 'da_female_nan', 'da_university_nan', 'defense__nan', 'degree_crime_nan', 'election_nan', 'f_Monday', 'f_Tuesday', 'judge_APD_missing', 'judge_CC_missing', 'judge_Prof_missing', 'judge_SC-AJ & SC_missing', 'judge_SC-AJ_missing', 'judge_SC_missing', 'judge_elect_missing', 'judge_female_missing', 'judge_info_missing', 'judge_law_school_missing', 'judge_military_missing', 'judge_startyear_missing', 'nycourts', 'start year', 'type_crime_nan', 'unanimous']\n",
      "Accuracy:0.806906338694\n"
     ]
    }
   ],
   "source": [
    "optimal_f_mi = f[accuracy_3.index(max(accuracy_3))]\n",
    "optimal_feature_mi = featureset_1_auc = list(feat_ranks[(feat_ranks.mi <= optimal_f_mi)].index.values)\n",
    "print(\"Optimal feature list ranked by MI is top %s\" % (optimal_f_mi) )\n",
    "print(\"Optimal feature list ranked by MI is %s\" % (optimal_feature_mi) )\n",
    "print(\"Accuracy:%s\" % (max(accuracy_3)))"
   ]
  },
  {
   "cell_type": "code",
   "execution_count": null,
   "metadata": {
    "collapsed": true
   },
   "outputs": [],
   "source": []
  },
  {
   "cell_type": "code",
   "execution_count": null,
   "metadata": {
    "collapsed": true
   },
   "outputs": [],
   "source": []
  },
  {
   "cell_type": "code",
   "execution_count": null,
   "metadata": {
    "collapsed": true
   },
   "outputs": [],
   "source": []
  },
  {
   "cell_type": "code",
   "execution_count": null,
   "metadata": {
    "collapsed": true
   },
   "outputs": [],
   "source": []
  },
  {
   "cell_type": "markdown",
   "metadata": {},
   "source": [
    "<b> PCA to decomposition </b>"
   ]
  },
  {
   "cell_type": "code",
   "execution_count": 91,
   "metadata": {
    "collapsed": true
   },
   "outputs": [],
   "source": [
    "from sklearn.decomposition import PCA"
   ]
  },
  {
   "cell_type": "code",
   "execution_count": 95,
   "metadata": {
    "collapsed": true
   },
   "outputs": [],
   "source": [
    "pca = PCA(n_components=140)\n",
    "X_PCA = pca.fit_transform(X)"
   ]
  },
  {
   "cell_type": "code",
   "execution_count": null,
   "metadata": {
    "collapsed": true
   },
   "outputs": [],
   "source": []
  },
  {
   "cell_type": "markdown",
   "metadata": {},
   "source": []
  },
  {
   "cell_type": "code",
   "execution_count": null,
   "metadata": {
    "collapsed": true
   },
   "outputs": [],
   "source": []
  },
  {
   "cell_type": "code",
   "execution_count": null,
   "metadata": {
    "collapsed": true
   },
   "outputs": [],
   "source": []
  },
  {
   "cell_type": "code",
   "execution_count": null,
   "metadata": {},
   "outputs": [],
   "source": []
  },
  {
   "cell_type": "code",
   "execution_count": null,
   "metadata": {
    "collapsed": true
   },
   "outputs": [],
   "source": []
  },
  {
   "cell_type": "code",
   "execution_count": null,
   "metadata": {
    "collapsed": true
   },
   "outputs": [],
   "source": []
  },
  {
   "cell_type": "code",
   "execution_count": null,
   "metadata": {
    "collapsed": true
   },
   "outputs": [],
   "source": []
  }
 ],
 "metadata": {
  "kernelspec": {
   "display_name": "Python 3",
   "language": "python",
   "name": "python3"
  },
  "language_info": {
   "codemirror_mode": {
    "name": "ipython",
    "version": 3
   },
   "file_extension": ".py",
   "mimetype": "text/x-python",
   "name": "python",
   "nbconvert_exporter": "python",
   "pygments_lexer": "ipython3",
   "version": "3.6.0"
  }
 },
 "nbformat": 4,
 "nbformat_minor": 2
}
