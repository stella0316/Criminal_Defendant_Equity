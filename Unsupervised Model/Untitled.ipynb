{
 "cells": [
  {
   "cell_type": "code",
   "execution_count": 1,
   "metadata": {
    "collapsed": true
   },
   "outputs": [],
   "source": [
    "import pandas as pd"
   ]
  },
  {
   "cell_type": "code",
   "execution_count": 2,
   "metadata": {
    "collapsed": true
   },
   "outputs": [],
   "source": [
    "df = pd.read_csv(r'../Finalized Data/final_with_doc.csv')"
   ]
  },
  {
   "cell_type": "code",
   "execution_count": 5,
   "metadata": {},
   "outputs": [
    {
     "data": {
      "text/html": [
       "<div>\n",
       "<table border=\"1\" class=\"dataframe\">\n",
       "  <thead>\n",
       "    <tr style=\"text-align: right;\">\n",
       "      <th></th>\n",
       "      <th>File</th>\n",
       "      <th>years_from_trial</th>\n",
       "      <th>days_jail_doc</th>\n",
       "      <th>County of Commitment_ALBANY</th>\n",
       "      <th>County of Commitment_ALLEGANY</th>\n",
       "      <th>County of Commitment_BRONX</th>\n",
       "      <th>County of Commitment_BROOME</th>\n",
       "      <th>County of Commitment_CATTARAUGUS</th>\n",
       "      <th>County of Commitment_CAYUGA</th>\n",
       "      <th>County of Commitment_CHAUTAUQUA</th>\n",
       "      <th>...</th>\n",
       "      <th>type_crime_welfare fraud</th>\n",
       "      <th>type_crime_nan</th>\n",
       "      <th>degree_crime_fifth</th>\n",
       "      <th>degree_crime_first</th>\n",
       "      <th>degree_crime_fourth</th>\n",
       "      <th>degree_crime_second</th>\n",
       "      <th>degree_crime_seventh</th>\n",
       "      <th>degree_crime_sixth</th>\n",
       "      <th>degree_crime_third</th>\n",
       "      <th>degree_crime_nan</th>\n",
       "    </tr>\n",
       "  </thead>\n",
       "  <tbody>\n",
       "    <tr>\n",
       "      <th>0</th>\n",
       "      <td>2003_18061.htm.txt</td>\n",
       "      <td>0.046575</td>\n",
       "      <td>5796</td>\n",
       "      <td>0</td>\n",
       "      <td>0</td>\n",
       "      <td>0</td>\n",
       "      <td>0</td>\n",
       "      <td>0</td>\n",
       "      <td>0</td>\n",
       "      <td>0</td>\n",
       "      <td>...</td>\n",
       "      <td>0</td>\n",
       "      <td>0</td>\n",
       "      <td>0</td>\n",
       "      <td>0</td>\n",
       "      <td>0</td>\n",
       "      <td>1</td>\n",
       "      <td>0</td>\n",
       "      <td>0</td>\n",
       "      <td>0</td>\n",
       "      <td>0</td>\n",
       "    </tr>\n",
       "    <tr>\n",
       "      <th>1</th>\n",
       "      <td>2003_18063.htm.txt</td>\n",
       "      <td>0.016438</td>\n",
       "      <td>2830</td>\n",
       "      <td>0</td>\n",
       "      <td>0</td>\n",
       "      <td>0</td>\n",
       "      <td>0</td>\n",
       "      <td>0</td>\n",
       "      <td>0</td>\n",
       "      <td>0</td>\n",
       "      <td>...</td>\n",
       "      <td>0</td>\n",
       "      <td>0</td>\n",
       "      <td>0</td>\n",
       "      <td>0</td>\n",
       "      <td>0</td>\n",
       "      <td>1</td>\n",
       "      <td>0</td>\n",
       "      <td>0</td>\n",
       "      <td>0</td>\n",
       "      <td>0</td>\n",
       "    </tr>\n",
       "    <tr>\n",
       "      <th>2</th>\n",
       "      <td>2003_18089.htm.txt</td>\n",
       "      <td>0.005479</td>\n",
       "      <td>6125</td>\n",
       "      <td>0</td>\n",
       "      <td>0</td>\n",
       "      <td>0</td>\n",
       "      <td>0</td>\n",
       "      <td>0</td>\n",
       "      <td>0</td>\n",
       "      <td>0</td>\n",
       "      <td>...</td>\n",
       "      <td>0</td>\n",
       "      <td>1</td>\n",
       "      <td>0</td>\n",
       "      <td>0</td>\n",
       "      <td>0</td>\n",
       "      <td>0</td>\n",
       "      <td>0</td>\n",
       "      <td>0</td>\n",
       "      <td>0</td>\n",
       "      <td>1</td>\n",
       "    </tr>\n",
       "    <tr>\n",
       "      <th>3</th>\n",
       "      <td>2003_18259.htm.txt</td>\n",
       "      <td>0.054795</td>\n",
       "      <td>1066</td>\n",
       "      <td>0</td>\n",
       "      <td>0</td>\n",
       "      <td>0</td>\n",
       "      <td>0</td>\n",
       "      <td>0</td>\n",
       "      <td>0</td>\n",
       "      <td>0</td>\n",
       "      <td>...</td>\n",
       "      <td>0</td>\n",
       "      <td>0</td>\n",
       "      <td>0</td>\n",
       "      <td>0</td>\n",
       "      <td>0</td>\n",
       "      <td>1</td>\n",
       "      <td>0</td>\n",
       "      <td>0</td>\n",
       "      <td>0</td>\n",
       "      <td>0</td>\n",
       "    </tr>\n",
       "    <tr>\n",
       "      <th>4</th>\n",
       "      <td>2003_18267.htm.txt</td>\n",
       "      <td>0.063014</td>\n",
       "      <td>1762</td>\n",
       "      <td>0</td>\n",
       "      <td>0</td>\n",
       "      <td>0</td>\n",
       "      <td>0</td>\n",
       "      <td>0</td>\n",
       "      <td>0</td>\n",
       "      <td>0</td>\n",
       "      <td>...</td>\n",
       "      <td>0</td>\n",
       "      <td>0</td>\n",
       "      <td>0</td>\n",
       "      <td>0</td>\n",
       "      <td>0</td>\n",
       "      <td>1</td>\n",
       "      <td>0</td>\n",
       "      <td>0</td>\n",
       "      <td>0</td>\n",
       "      <td>0</td>\n",
       "    </tr>\n",
       "  </tbody>\n",
       "</table>\n",
       "<p>5 rows × 427 columns</p>\n",
       "</div>"
      ],
      "text/plain": [
       "                 File  years_from_trial  days_jail_doc  \\\n",
       "0  2003_18061.htm.txt          0.046575           5796   \n",
       "1  2003_18063.htm.txt          0.016438           2830   \n",
       "2  2003_18089.htm.txt          0.005479           6125   \n",
       "3  2003_18259.htm.txt          0.054795           1066   \n",
       "4  2003_18267.htm.txt          0.063014           1762   \n",
       "\n",
       "   County of Commitment_ALBANY   County of Commitment_ALLEGANY   \\\n",
       "0                             0                               0   \n",
       "1                             0                               0   \n",
       "2                             0                               0   \n",
       "3                             0                               0   \n",
       "4                             0                               0   \n",
       "\n",
       "   County of Commitment_BRONX   County of Commitment_BROOME   \\\n",
       "0                            0                             0   \n",
       "1                            0                             0   \n",
       "2                            0                             0   \n",
       "3                            0                             0   \n",
       "4                            0                             0   \n",
       "\n",
       "   County of Commitment_CATTARAUGUS   County of Commitment_CAYUGA   \\\n",
       "0                                  0                             0   \n",
       "1                                  0                             0   \n",
       "2                                  0                             0   \n",
       "3                                  0                             0   \n",
       "4                                  0                             0   \n",
       "\n",
       "   County of Commitment_CHAUTAUQUA         ...         \\\n",
       "0                                 0        ...          \n",
       "1                                 0        ...          \n",
       "2                                 0        ...          \n",
       "3                                 0        ...          \n",
       "4                                 0        ...          \n",
       "\n",
       "   type_crime_welfare fraud  type_crime_nan  degree_crime_fifth  \\\n",
       "0                         0               0                   0   \n",
       "1                         0               0                   0   \n",
       "2                         0               1                   0   \n",
       "3                         0               0                   0   \n",
       "4                         0               0                   0   \n",
       "\n",
       "   degree_crime_first  degree_crime_fourth  degree_crime_second  \\\n",
       "0                   0                    0                    1   \n",
       "1                   0                    0                    1   \n",
       "2                   0                    0                    0   \n",
       "3                   0                    0                    1   \n",
       "4                   0                    0                    1   \n",
       "\n",
       "   degree_crime_seventh  degree_crime_sixth  degree_crime_third  \\\n",
       "0                     0                   0                   0   \n",
       "1                     0                   0                   0   \n",
       "2                     0                   0                   0   \n",
       "3                     0                   0                   0   \n",
       "4                     0                   0                   0   \n",
       "\n",
       "   degree_crime_nan  \n",
       "0                 0  \n",
       "1                 0  \n",
       "2                 1  \n",
       "3                 0  \n",
       "4                 0  \n",
       "\n",
       "[5 rows x 427 columns]"
      ]
     },
     "execution_count": 5,
     "metadata": {},
     "output_type": "execute_result"
    }
   ],
   "source": [
    "df.head()"
   ]
  },
  {
   "cell_type": "code",
   "execution_count": 6,
   "metadata": {},
   "outputs": [
    {
     "data": {
      "text/plain": [
       "Index(['File', 'years_from_trial', 'days_jail_doc',\n",
       "       'County of Commitment_ALBANY ', 'County of Commitment_ALLEGANY ',\n",
       "       'County of Commitment_BRONX ', 'County of Commitment_BROOME ',\n",
       "       'County of Commitment_CATTARAUGUS ', 'County of Commitment_CAYUGA ',\n",
       "       'County of Commitment_CHAUTAUQUA ',\n",
       "       ...\n",
       "       'type_crime_welfare fraud', 'type_crime_nan', 'degree_crime_fifth',\n",
       "       'degree_crime_first', 'degree_crime_fourth', 'degree_crime_second',\n",
       "       'degree_crime_seventh', 'degree_crime_sixth', 'degree_crime_third',\n",
       "       'degree_crime_nan'],\n",
       "      dtype='object', length=427)"
      ]
     },
     "execution_count": 6,
     "metadata": {},
     "output_type": "execute_result"
    }
   ],
   "source": [
    "df.columns"
   ]
  },
  {
   "cell_type": "code",
   "execution_count": 10,
   "metadata": {},
   "outputs": [],
   "source": [
    "#delete all judges missing column\n",
    "for col in df.columns:\n",
    "    if 'judge' in col and 'missing' in col:\n",
    "        del df[col]"
   ]
  },
  {
   "cell_type": "code",
   "execution_count": 11,
   "metadata": {},
   "outputs": [
    {
     "data": {
      "text/plain": [
       "(2324, 415)"
      ]
     },
     "execution_count": 11,
     "metadata": {},
     "output_type": "execute_result"
    }
   ],
   "source": [
    "df.shape"
   ]
  },
  {
   "cell_type": "code",
   "execution_count": 14,
   "metadata": {},
   "outputs": [],
   "source": [
    "df.to_csv(r'doc_without_judge_missing.csv',index=False)"
   ]
  },
  {
   "cell_type": "code",
   "execution_count": null,
   "metadata": {
    "collapsed": true
   },
   "outputs": [],
   "source": []
  }
 ],
 "metadata": {
  "kernelspec": {
   "display_name": "Python 3",
   "language": "python",
   "name": "python3"
  },
  "language_info": {
   "codemirror_mode": {
    "name": "ipython",
    "version": 3
   },
   "file_extension": ".py",
   "mimetype": "text/x-python",
   "name": "python",
   "nbconvert_exporter": "python",
   "pygments_lexer": "ipython3",
   "version": "3.6.0"
  }
 },
 "nbformat": 4,
 "nbformat_minor": 2
}
