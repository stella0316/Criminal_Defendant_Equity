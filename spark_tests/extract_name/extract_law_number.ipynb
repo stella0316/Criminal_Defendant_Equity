{
 "cells": [
  {
   "cell_type": "code",
   "execution_count": 29,
   "metadata": {
    "collapsed": true
   },
   "outputs": [],
   "source": [
    "import pandas as pd\n",
    "import os\n",
    "from itertools import islice"
   ]
  },
  {
   "cell_type": "code",
   "execution_count": 9,
   "metadata": {},
   "outputs": [],
   "source": [
    "filepath = 'txt_sample/'\n",
    "file_list = os.listdir(filepath)\n",
    "pattern = 'Judiciary Law §'"
   ]
  },
  {
   "cell_type": "code",
   "execution_count": null,
   "metadata": {},
   "outputs": [],
   "source": []
  },
  {
   "cell_type": "code",
   "execution_count": 53,
   "metadata": {},
   "outputs": [
    {
     "name": "stdout",
     "output_type": "stream",
     "text": [
      "Bureau pursuant to Judiciary Law § 431.\n",
      " 6\n",
      "Bureau pursuant to Judiciary Law § 431.\n",
      " 6\n",
      "Bureau pursuant to Judiciary Law § 431.\n",
      " 6\n",
      "Bureau pursuant to Judiciary Law § 431.\n",
      " 6\n",
      "Bureau pursuant to Judiciary Law § 431.\n",
      " 6\n"
     ]
    }
   ],
   "source": [
    "for f in file_list:\n",
    "    with open(filepath+f) as file:\n",
    "        lines = file.readlines()\n",
    "        for l in lines:\n",
    "            if pattern in l:\n",
    "                print(l,lines.index(l))\n",
    "        "
   ]
  },
  {
   "cell_type": "code",
   "execution_count": null,
   "metadata": {},
   "outputs": [],
   "source": [
    "\n"
   ]
  },
  {
   "cell_type": "code",
   "execution_count": null,
   "metadata": {
    "collapsed": true
   },
   "outputs": [],
   "source": []
  },
  {
   "cell_type": "code",
   "execution_count": null,
   "metadata": {
    "collapsed": true
   },
   "outputs": [],
   "source": []
  }
 ],
 "metadata": {
  "kernelspec": {
   "display_name": "Python 3",
   "language": "python",
   "name": "python3"
  },
  "language_info": {
   "codemirror_mode": {
    "name": "ipython",
    "version": 3
   },
   "file_extension": ".py",
   "mimetype": "text/x-python",
   "name": "python",
   "nbconvert_exporter": "python",
   "pygments_lexer": "ipython3",
   "version": "3.6.0"
  }
 },
 "nbformat": 4,
 "nbformat_minor": 2
}
